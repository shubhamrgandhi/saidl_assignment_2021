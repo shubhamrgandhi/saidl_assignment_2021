{
  "nbformat": 4,
  "nbformat_minor": 0,
  "metadata": {
    "colab": {
      "name": "SaidlCV.ipynb",
      "provenance": []
    },
    "kernelspec": {
      "display_name": "Python 3",
      "name": "python3"
    },
    "language_info": {
      "name": "python"
    },
    "widgets": {
      "application/vnd.jupyter.widget-state+json": {
        "e7aaf6756ecc4b99a2ba8442c27e9165": {
          "model_module": "@jupyter-widgets/controls",
          "model_name": "HBoxModel",
          "model_module_version": "1.5.0",
          "state": {
            "_view_name": "HBoxView",
            "_dom_classes": [],
            "_model_name": "HBoxModel",
            "_view_module": "@jupyter-widgets/controls",
            "_model_module_version": "1.5.0",
            "_view_count": null,
            "_view_module_version": "1.5.0",
            "box_style": "",
            "layout": "IPY_MODEL_984a8b290e524581a121d59e560db81a",
            "_model_module": "@jupyter-widgets/controls",
            "children": [
              "IPY_MODEL_6786a2b0da564ba4b4a0844fab17e433",
              "IPY_MODEL_a4d324e1d7374a539205ba43382429de",
              "IPY_MODEL_b1450c8cb56740f2899a2b101f2026a7"
            ]
          }
        },
        "984a8b290e524581a121d59e560db81a": {
          "model_module": "@jupyter-widgets/base",
          "model_name": "LayoutModel",
          "model_module_version": "1.2.0",
          "state": {
            "_view_name": "LayoutView",
            "grid_template_rows": null,
            "right": null,
            "justify_content": null,
            "_view_module": "@jupyter-widgets/base",
            "overflow": null,
            "_model_module_version": "1.2.0",
            "_view_count": null,
            "flex_flow": null,
            "width": null,
            "min_width": null,
            "border": null,
            "align_items": null,
            "bottom": null,
            "_model_module": "@jupyter-widgets/base",
            "top": null,
            "grid_column": null,
            "overflow_y": null,
            "overflow_x": null,
            "grid_auto_flow": null,
            "grid_area": null,
            "grid_template_columns": null,
            "flex": null,
            "_model_name": "LayoutModel",
            "justify_items": null,
            "grid_row": null,
            "max_height": null,
            "align_content": null,
            "visibility": null,
            "align_self": null,
            "height": null,
            "min_height": null,
            "padding": null,
            "grid_auto_rows": null,
            "grid_gap": null,
            "max_width": null,
            "order": null,
            "_view_module_version": "1.2.0",
            "grid_template_areas": null,
            "object_position": null,
            "object_fit": null,
            "grid_auto_columns": null,
            "margin": null,
            "display": null,
            "left": null
          }
        },
        "6786a2b0da564ba4b4a0844fab17e433": {
          "model_module": "@jupyter-widgets/controls",
          "model_name": "HTMLModel",
          "model_module_version": "1.5.0",
          "state": {
            "_view_name": "HTMLView",
            "style": "IPY_MODEL_36c03be28ec448b6ae44df2d1d59e062",
            "_dom_classes": [],
            "description": "",
            "_model_name": "HTMLModel",
            "placeholder": "​",
            "_view_module": "@jupyter-widgets/controls",
            "_model_module_version": "1.5.0",
            "value": "Dl Completed...: 100%",
            "_view_count": null,
            "_view_module_version": "1.5.0",
            "description_tooltip": null,
            "_model_module": "@jupyter-widgets/controls",
            "layout": "IPY_MODEL_11dd392272464fdf84eed5ed7f80d884"
          }
        },
        "a4d324e1d7374a539205ba43382429de": {
          "model_module": "@jupyter-widgets/controls",
          "model_name": "FloatProgressModel",
          "model_module_version": "1.5.0",
          "state": {
            "_view_name": "ProgressView",
            "style": "IPY_MODEL_e50748d39a494043bc08c93f84c6996e",
            "_dom_classes": [],
            "description": "",
            "_model_name": "FloatProgressModel",
            "bar_style": "success",
            "max": 1,
            "_view_module": "@jupyter-widgets/controls",
            "_model_module_version": "1.5.0",
            "value": 1,
            "_view_count": null,
            "_view_module_version": "1.5.0",
            "orientation": "horizontal",
            "min": 0,
            "description_tooltip": null,
            "_model_module": "@jupyter-widgets/controls",
            "layout": "IPY_MODEL_c36dc9958e0d4c53a095b735b9347ee8"
          }
        },
        "b1450c8cb56740f2899a2b101f2026a7": {
          "model_module": "@jupyter-widgets/controls",
          "model_name": "HTMLModel",
          "model_module_version": "1.5.0",
          "state": {
            "_view_name": "HTMLView",
            "style": "IPY_MODEL_92ee33687cce432989327c8cc8eb1cca",
            "_dom_classes": [],
            "description": "",
            "_model_name": "HTMLModel",
            "placeholder": "​",
            "_view_module": "@jupyter-widgets/controls",
            "_model_module_version": "1.5.0",
            "value": " 1/1 [01:57&lt;00:00, 68.82s/ url]",
            "_view_count": null,
            "_view_module_version": "1.5.0",
            "description_tooltip": null,
            "_model_module": "@jupyter-widgets/controls",
            "layout": "IPY_MODEL_011849b29c694e4bb7531e31067841ae"
          }
        },
        "36c03be28ec448b6ae44df2d1d59e062": {
          "model_module": "@jupyter-widgets/controls",
          "model_name": "DescriptionStyleModel",
          "model_module_version": "1.5.0",
          "state": {
            "_view_name": "StyleView",
            "_model_name": "DescriptionStyleModel",
            "description_width": "",
            "_view_module": "@jupyter-widgets/base",
            "_model_module_version": "1.5.0",
            "_view_count": null,
            "_view_module_version": "1.2.0",
            "_model_module": "@jupyter-widgets/controls"
          }
        },
        "11dd392272464fdf84eed5ed7f80d884": {
          "model_module": "@jupyter-widgets/base",
          "model_name": "LayoutModel",
          "model_module_version": "1.2.0",
          "state": {
            "_view_name": "LayoutView",
            "grid_template_rows": null,
            "right": null,
            "justify_content": null,
            "_view_module": "@jupyter-widgets/base",
            "overflow": null,
            "_model_module_version": "1.2.0",
            "_view_count": null,
            "flex_flow": null,
            "width": null,
            "min_width": null,
            "border": null,
            "align_items": null,
            "bottom": null,
            "_model_module": "@jupyter-widgets/base",
            "top": null,
            "grid_column": null,
            "overflow_y": null,
            "overflow_x": null,
            "grid_auto_flow": null,
            "grid_area": null,
            "grid_template_columns": null,
            "flex": null,
            "_model_name": "LayoutModel",
            "justify_items": null,
            "grid_row": null,
            "max_height": null,
            "align_content": null,
            "visibility": null,
            "align_self": null,
            "height": null,
            "min_height": null,
            "padding": null,
            "grid_auto_rows": null,
            "grid_gap": null,
            "max_width": null,
            "order": null,
            "_view_module_version": "1.2.0",
            "grid_template_areas": null,
            "object_position": null,
            "object_fit": null,
            "grid_auto_columns": null,
            "margin": null,
            "display": null,
            "left": null
          }
        },
        "e50748d39a494043bc08c93f84c6996e": {
          "model_module": "@jupyter-widgets/controls",
          "model_name": "ProgressStyleModel",
          "model_module_version": "1.5.0",
          "state": {
            "_view_name": "StyleView",
            "_model_name": "ProgressStyleModel",
            "description_width": "",
            "_view_module": "@jupyter-widgets/base",
            "_model_module_version": "1.5.0",
            "_view_count": null,
            "_view_module_version": "1.2.0",
            "bar_color": null,
            "_model_module": "@jupyter-widgets/controls"
          }
        },
        "c36dc9958e0d4c53a095b735b9347ee8": {
          "model_module": "@jupyter-widgets/base",
          "model_name": "LayoutModel",
          "model_module_version": "1.2.0",
          "state": {
            "_view_name": "LayoutView",
            "grid_template_rows": null,
            "right": null,
            "justify_content": null,
            "_view_module": "@jupyter-widgets/base",
            "overflow": null,
            "_model_module_version": "1.2.0",
            "_view_count": null,
            "flex_flow": null,
            "width": "20px",
            "min_width": null,
            "border": null,
            "align_items": null,
            "bottom": null,
            "_model_module": "@jupyter-widgets/base",
            "top": null,
            "grid_column": null,
            "overflow_y": null,
            "overflow_x": null,
            "grid_auto_flow": null,
            "grid_area": null,
            "grid_template_columns": null,
            "flex": null,
            "_model_name": "LayoutModel",
            "justify_items": null,
            "grid_row": null,
            "max_height": null,
            "align_content": null,
            "visibility": null,
            "align_self": null,
            "height": null,
            "min_height": null,
            "padding": null,
            "grid_auto_rows": null,
            "grid_gap": null,
            "max_width": null,
            "order": null,
            "_view_module_version": "1.2.0",
            "grid_template_areas": null,
            "object_position": null,
            "object_fit": null,
            "grid_auto_columns": null,
            "margin": null,
            "display": null,
            "left": null
          }
        },
        "92ee33687cce432989327c8cc8eb1cca": {
          "model_module": "@jupyter-widgets/controls",
          "model_name": "DescriptionStyleModel",
          "model_module_version": "1.5.0",
          "state": {
            "_view_name": "StyleView",
            "_model_name": "DescriptionStyleModel",
            "description_width": "",
            "_view_module": "@jupyter-widgets/base",
            "_model_module_version": "1.5.0",
            "_view_count": null,
            "_view_module_version": "1.2.0",
            "_model_module": "@jupyter-widgets/controls"
          }
        },
        "011849b29c694e4bb7531e31067841ae": {
          "model_module": "@jupyter-widgets/base",
          "model_name": "LayoutModel",
          "model_module_version": "1.2.0",
          "state": {
            "_view_name": "LayoutView",
            "grid_template_rows": null,
            "right": null,
            "justify_content": null,
            "_view_module": "@jupyter-widgets/base",
            "overflow": null,
            "_model_module_version": "1.2.0",
            "_view_count": null,
            "flex_flow": null,
            "width": null,
            "min_width": null,
            "border": null,
            "align_items": null,
            "bottom": null,
            "_model_module": "@jupyter-widgets/base",
            "top": null,
            "grid_column": null,
            "overflow_y": null,
            "overflow_x": null,
            "grid_auto_flow": null,
            "grid_area": null,
            "grid_template_columns": null,
            "flex": null,
            "_model_name": "LayoutModel",
            "justify_items": null,
            "grid_row": null,
            "max_height": null,
            "align_content": null,
            "visibility": null,
            "align_self": null,
            "height": null,
            "min_height": null,
            "padding": null,
            "grid_auto_rows": null,
            "grid_gap": null,
            "max_width": null,
            "order": null,
            "_view_module_version": "1.2.0",
            "grid_template_areas": null,
            "object_position": null,
            "object_fit": null,
            "grid_auto_columns": null,
            "margin": null,
            "display": null,
            "left": null
          }
        },
        "303e2f5d887944c6a38e6af93a0e0894": {
          "model_module": "@jupyter-widgets/controls",
          "model_name": "HBoxModel",
          "model_module_version": "1.5.0",
          "state": {
            "_view_name": "HBoxView",
            "_dom_classes": [],
            "_model_name": "HBoxModel",
            "_view_module": "@jupyter-widgets/controls",
            "_model_module_version": "1.5.0",
            "_view_count": null,
            "_view_module_version": "1.5.0",
            "box_style": "",
            "layout": "IPY_MODEL_eb55ab53067a42fc8e798439772a3d43",
            "_model_module": "@jupyter-widgets/controls",
            "children": [
              "IPY_MODEL_43eaa4814db948fb885b56ffef0ad5b7",
              "IPY_MODEL_ae3b319667264a75a678b8a1596228d8",
              "IPY_MODEL_9f9cb3df03f843c1a5c898df832fbf34"
            ]
          }
        },
        "eb55ab53067a42fc8e798439772a3d43": {
          "model_module": "@jupyter-widgets/base",
          "model_name": "LayoutModel",
          "model_module_version": "1.2.0",
          "state": {
            "_view_name": "LayoutView",
            "grid_template_rows": null,
            "right": null,
            "justify_content": null,
            "_view_module": "@jupyter-widgets/base",
            "overflow": null,
            "_model_module_version": "1.2.0",
            "_view_count": null,
            "flex_flow": null,
            "width": null,
            "min_width": null,
            "border": null,
            "align_items": null,
            "bottom": null,
            "_model_module": "@jupyter-widgets/base",
            "top": null,
            "grid_column": null,
            "overflow_y": null,
            "overflow_x": null,
            "grid_auto_flow": null,
            "grid_area": null,
            "grid_template_columns": null,
            "flex": null,
            "_model_name": "LayoutModel",
            "justify_items": null,
            "grid_row": null,
            "max_height": null,
            "align_content": null,
            "visibility": null,
            "align_self": null,
            "height": null,
            "min_height": null,
            "padding": null,
            "grid_auto_rows": null,
            "grid_gap": null,
            "max_width": null,
            "order": null,
            "_view_module_version": "1.2.0",
            "grid_template_areas": null,
            "object_position": null,
            "object_fit": null,
            "grid_auto_columns": null,
            "margin": null,
            "display": null,
            "left": null
          }
        },
        "43eaa4814db948fb885b56ffef0ad5b7": {
          "model_module": "@jupyter-widgets/controls",
          "model_name": "HTMLModel",
          "model_module_version": "1.5.0",
          "state": {
            "_view_name": "HTMLView",
            "style": "IPY_MODEL_5bf283b491a24a208d2d3601865559a3",
            "_dom_classes": [],
            "description": "",
            "_model_name": "HTMLModel",
            "placeholder": "​",
            "_view_module": "@jupyter-widgets/controls",
            "_model_module_version": "1.5.0",
            "value": "Dl Size...: 100%",
            "_view_count": null,
            "_view_module_version": "1.5.0",
            "description_tooltip": null,
            "_model_module": "@jupyter-widgets/controls",
            "layout": "IPY_MODEL_1c41ccfa4a2e4bc68c46a68189e61a12"
          }
        },
        "ae3b319667264a75a678b8a1596228d8": {
          "model_module": "@jupyter-widgets/controls",
          "model_name": "FloatProgressModel",
          "model_module_version": "1.5.0",
          "state": {
            "_view_name": "ProgressView",
            "style": "IPY_MODEL_0e35147051fd4394a63413d6aa21a99a",
            "_dom_classes": [],
            "description": "",
            "_model_name": "FloatProgressModel",
            "bar_style": "success",
            "max": 1,
            "_view_module": "@jupyter-widgets/controls",
            "_model_module_version": "1.5.0",
            "value": 1,
            "_view_count": null,
            "_view_module_version": "1.5.0",
            "orientation": "horizontal",
            "min": 0,
            "description_tooltip": null,
            "_model_module": "@jupyter-widgets/controls",
            "layout": "IPY_MODEL_a307e7cc67084b83b23d17e338258d9d"
          }
        },
        "9f9cb3df03f843c1a5c898df832fbf34": {
          "model_module": "@jupyter-widgets/controls",
          "model_name": "HTMLModel",
          "model_module_version": "1.5.0",
          "state": {
            "_view_name": "HTMLView",
            "style": "IPY_MODEL_9b208eda044342ab9960d3a50e92f0ea",
            "_dom_classes": [],
            "description": "",
            "_model_name": "HTMLModel",
            "placeholder": "​",
            "_view_module": "@jupyter-widgets/controls",
            "_model_module_version": "1.5.0",
            "value": " 2518/2518 [01:57&lt;00:00, 38.53 MiB/s]",
            "_view_count": null,
            "_view_module_version": "1.5.0",
            "description_tooltip": null,
            "_model_module": "@jupyter-widgets/controls",
            "layout": "IPY_MODEL_986d2fcc56c045f985857b13ba8fb2ba"
          }
        },
        "5bf283b491a24a208d2d3601865559a3": {
          "model_module": "@jupyter-widgets/controls",
          "model_name": "DescriptionStyleModel",
          "model_module_version": "1.5.0",
          "state": {
            "_view_name": "StyleView",
            "_model_name": "DescriptionStyleModel",
            "description_width": "",
            "_view_module": "@jupyter-widgets/base",
            "_model_module_version": "1.5.0",
            "_view_count": null,
            "_view_module_version": "1.2.0",
            "_model_module": "@jupyter-widgets/controls"
          }
        },
        "1c41ccfa4a2e4bc68c46a68189e61a12": {
          "model_module": "@jupyter-widgets/base",
          "model_name": "LayoutModel",
          "model_module_version": "1.2.0",
          "state": {
            "_view_name": "LayoutView",
            "grid_template_rows": null,
            "right": null,
            "justify_content": null,
            "_view_module": "@jupyter-widgets/base",
            "overflow": null,
            "_model_module_version": "1.2.0",
            "_view_count": null,
            "flex_flow": null,
            "width": null,
            "min_width": null,
            "border": null,
            "align_items": null,
            "bottom": null,
            "_model_module": "@jupyter-widgets/base",
            "top": null,
            "grid_column": null,
            "overflow_y": null,
            "overflow_x": null,
            "grid_auto_flow": null,
            "grid_area": null,
            "grid_template_columns": null,
            "flex": null,
            "_model_name": "LayoutModel",
            "justify_items": null,
            "grid_row": null,
            "max_height": null,
            "align_content": null,
            "visibility": null,
            "align_self": null,
            "height": null,
            "min_height": null,
            "padding": null,
            "grid_auto_rows": null,
            "grid_gap": null,
            "max_width": null,
            "order": null,
            "_view_module_version": "1.2.0",
            "grid_template_areas": null,
            "object_position": null,
            "object_fit": null,
            "grid_auto_columns": null,
            "margin": null,
            "display": null,
            "left": null
          }
        },
        "0e35147051fd4394a63413d6aa21a99a": {
          "model_module": "@jupyter-widgets/controls",
          "model_name": "ProgressStyleModel",
          "model_module_version": "1.5.0",
          "state": {
            "_view_name": "StyleView",
            "_model_name": "ProgressStyleModel",
            "description_width": "",
            "_view_module": "@jupyter-widgets/base",
            "_model_module_version": "1.5.0",
            "_view_count": null,
            "_view_module_version": "1.2.0",
            "bar_color": null,
            "_model_module": "@jupyter-widgets/controls"
          }
        },
        "a307e7cc67084b83b23d17e338258d9d": {
          "model_module": "@jupyter-widgets/base",
          "model_name": "LayoutModel",
          "model_module_version": "1.2.0",
          "state": {
            "_view_name": "LayoutView",
            "grid_template_rows": null,
            "right": null,
            "justify_content": null,
            "_view_module": "@jupyter-widgets/base",
            "overflow": null,
            "_model_module_version": "1.2.0",
            "_view_count": null,
            "flex_flow": null,
            "width": "20px",
            "min_width": null,
            "border": null,
            "align_items": null,
            "bottom": null,
            "_model_module": "@jupyter-widgets/base",
            "top": null,
            "grid_column": null,
            "overflow_y": null,
            "overflow_x": null,
            "grid_auto_flow": null,
            "grid_area": null,
            "grid_template_columns": null,
            "flex": null,
            "_model_name": "LayoutModel",
            "justify_items": null,
            "grid_row": null,
            "max_height": null,
            "align_content": null,
            "visibility": null,
            "align_self": null,
            "height": null,
            "min_height": null,
            "padding": null,
            "grid_auto_rows": null,
            "grid_gap": null,
            "max_width": null,
            "order": null,
            "_view_module_version": "1.2.0",
            "grid_template_areas": null,
            "object_position": null,
            "object_fit": null,
            "grid_auto_columns": null,
            "margin": null,
            "display": null,
            "left": null
          }
        },
        "9b208eda044342ab9960d3a50e92f0ea": {
          "model_module": "@jupyter-widgets/controls",
          "model_name": "DescriptionStyleModel",
          "model_module_version": "1.5.0",
          "state": {
            "_view_name": "StyleView",
            "_model_name": "DescriptionStyleModel",
            "description_width": "",
            "_view_module": "@jupyter-widgets/base",
            "_model_module_version": "1.5.0",
            "_view_count": null,
            "_view_module_version": "1.2.0",
            "_model_module": "@jupyter-widgets/controls"
          }
        },
        "986d2fcc56c045f985857b13ba8fb2ba": {
          "model_module": "@jupyter-widgets/base",
          "model_name": "LayoutModel",
          "model_module_version": "1.2.0",
          "state": {
            "_view_name": "LayoutView",
            "grid_template_rows": null,
            "right": null,
            "justify_content": null,
            "_view_module": "@jupyter-widgets/base",
            "overflow": null,
            "_model_module_version": "1.2.0",
            "_view_count": null,
            "flex_flow": null,
            "width": null,
            "min_width": null,
            "border": null,
            "align_items": null,
            "bottom": null,
            "_model_module": "@jupyter-widgets/base",
            "top": null,
            "grid_column": null,
            "overflow_y": null,
            "overflow_x": null,
            "grid_auto_flow": null,
            "grid_area": null,
            "grid_template_columns": null,
            "flex": null,
            "_model_name": "LayoutModel",
            "justify_items": null,
            "grid_row": null,
            "max_height": null,
            "align_content": null,
            "visibility": null,
            "align_self": null,
            "height": null,
            "min_height": null,
            "padding": null,
            "grid_auto_rows": null,
            "grid_gap": null,
            "max_width": null,
            "order": null,
            "_view_module_version": "1.2.0",
            "grid_template_areas": null,
            "object_position": null,
            "object_fit": null,
            "grid_auto_columns": null,
            "margin": null,
            "display": null,
            "left": null
          }
        },
        "8b6f9262d95b4e0eb3e7e5709aca0065": {
          "model_module": "@jupyter-widgets/controls",
          "model_name": "HBoxModel",
          "model_module_version": "1.5.0",
          "state": {
            "_view_name": "HBoxView",
            "_dom_classes": [],
            "_model_name": "HBoxModel",
            "_view_module": "@jupyter-widgets/controls",
            "_model_module_version": "1.5.0",
            "_view_count": null,
            "_view_module_version": "1.5.0",
            "box_style": "",
            "layout": "IPY_MODEL_4921865beb7e455196cc60223c566eac",
            "_model_module": "@jupyter-widgets/controls",
            "children": [
              "IPY_MODEL_70fdcc878b094d3bab23829605a93e85",
              "IPY_MODEL_aef946672e0c492191b07f2ff69b605c",
              "IPY_MODEL_9710b388bd004f3d83a604fcae89a177"
            ]
          }
        },
        "4921865beb7e455196cc60223c566eac": {
          "model_module": "@jupyter-widgets/base",
          "model_name": "LayoutModel",
          "model_module_version": "1.2.0",
          "state": {
            "_view_name": "LayoutView",
            "grid_template_rows": null,
            "right": null,
            "justify_content": null,
            "_view_module": "@jupyter-widgets/base",
            "overflow": null,
            "_model_module_version": "1.2.0",
            "_view_count": null,
            "flex_flow": null,
            "width": null,
            "min_width": null,
            "border": null,
            "align_items": null,
            "bottom": null,
            "_model_module": "@jupyter-widgets/base",
            "top": null,
            "grid_column": null,
            "overflow_y": null,
            "overflow_x": null,
            "grid_auto_flow": null,
            "grid_area": null,
            "grid_template_columns": null,
            "flex": null,
            "_model_name": "LayoutModel",
            "justify_items": null,
            "grid_row": null,
            "max_height": null,
            "align_content": null,
            "visibility": null,
            "align_self": null,
            "height": null,
            "min_height": null,
            "padding": null,
            "grid_auto_rows": null,
            "grid_gap": null,
            "max_width": null,
            "order": null,
            "_view_module_version": "1.2.0",
            "grid_template_areas": null,
            "object_position": null,
            "object_fit": null,
            "grid_auto_columns": null,
            "margin": null,
            "display": null,
            "left": null
          }
        },
        "70fdcc878b094d3bab23829605a93e85": {
          "model_module": "@jupyter-widgets/controls",
          "model_name": "HTMLModel",
          "model_module_version": "1.5.0",
          "state": {
            "_view_name": "HTMLView",
            "style": "IPY_MODEL_4e4890aee7b9466d96d4e6b4a015773f",
            "_dom_classes": [],
            "description": "",
            "_model_name": "HTMLModel",
            "placeholder": "​",
            "_view_module": "@jupyter-widgets/controls",
            "_model_module_version": "1.5.0",
            "value": "Extraction completed...: 100%",
            "_view_count": null,
            "_view_module_version": "1.5.0",
            "description_tooltip": null,
            "_model_module": "@jupyter-widgets/controls",
            "layout": "IPY_MODEL_ec3ab755c7b1445296003655762ab059"
          }
        },
        "aef946672e0c492191b07f2ff69b605c": {
          "model_module": "@jupyter-widgets/controls",
          "model_name": "FloatProgressModel",
          "model_module_version": "1.5.0",
          "state": {
            "_view_name": "ProgressView",
            "style": "IPY_MODEL_a340e8b35370461a8519223fe64cd8d9",
            "_dom_classes": [],
            "description": "",
            "_model_name": "FloatProgressModel",
            "bar_style": "success",
            "max": 1,
            "_view_module": "@jupyter-widgets/controls",
            "_model_module_version": "1.5.0",
            "value": 1,
            "_view_count": null,
            "_view_module_version": "1.5.0",
            "orientation": "horizontal",
            "min": 0,
            "description_tooltip": null,
            "_model_module": "@jupyter-widgets/controls",
            "layout": "IPY_MODEL_4a099af15a784d5cb64530abfcce7a2e"
          }
        },
        "9710b388bd004f3d83a604fcae89a177": {
          "model_module": "@jupyter-widgets/controls",
          "model_name": "HTMLModel",
          "model_module_version": "1.5.0",
          "state": {
            "_view_name": "HTMLView",
            "style": "IPY_MODEL_a0730996e5624c979dcd659381277a44",
            "_dom_classes": [],
            "description": "",
            "_model_name": "HTMLModel",
            "placeholder": "​",
            "_view_module": "@jupyter-widgets/controls",
            "_model_module_version": "1.5.0",
            "value": " 1/1 [01:57&lt;00:00, 117.17s/ file]",
            "_view_count": null,
            "_view_module_version": "1.5.0",
            "description_tooltip": null,
            "_model_module": "@jupyter-widgets/controls",
            "layout": "IPY_MODEL_9ab98a8b48eb4133b70022b42734403a"
          }
        },
        "4e4890aee7b9466d96d4e6b4a015773f": {
          "model_module": "@jupyter-widgets/controls",
          "model_name": "DescriptionStyleModel",
          "model_module_version": "1.5.0",
          "state": {
            "_view_name": "StyleView",
            "_model_name": "DescriptionStyleModel",
            "description_width": "",
            "_view_module": "@jupyter-widgets/base",
            "_model_module_version": "1.5.0",
            "_view_count": null,
            "_view_module_version": "1.2.0",
            "_model_module": "@jupyter-widgets/controls"
          }
        },
        "ec3ab755c7b1445296003655762ab059": {
          "model_module": "@jupyter-widgets/base",
          "model_name": "LayoutModel",
          "model_module_version": "1.2.0",
          "state": {
            "_view_name": "LayoutView",
            "grid_template_rows": null,
            "right": null,
            "justify_content": null,
            "_view_module": "@jupyter-widgets/base",
            "overflow": null,
            "_model_module_version": "1.2.0",
            "_view_count": null,
            "flex_flow": null,
            "width": null,
            "min_width": null,
            "border": null,
            "align_items": null,
            "bottom": null,
            "_model_module": "@jupyter-widgets/base",
            "top": null,
            "grid_column": null,
            "overflow_y": null,
            "overflow_x": null,
            "grid_auto_flow": null,
            "grid_area": null,
            "grid_template_columns": null,
            "flex": null,
            "_model_name": "LayoutModel",
            "justify_items": null,
            "grid_row": null,
            "max_height": null,
            "align_content": null,
            "visibility": null,
            "align_self": null,
            "height": null,
            "min_height": null,
            "padding": null,
            "grid_auto_rows": null,
            "grid_gap": null,
            "max_width": null,
            "order": null,
            "_view_module_version": "1.2.0",
            "grid_template_areas": null,
            "object_position": null,
            "object_fit": null,
            "grid_auto_columns": null,
            "margin": null,
            "display": null,
            "left": null
          }
        },
        "a340e8b35370461a8519223fe64cd8d9": {
          "model_module": "@jupyter-widgets/controls",
          "model_name": "ProgressStyleModel",
          "model_module_version": "1.5.0",
          "state": {
            "_view_name": "StyleView",
            "_model_name": "ProgressStyleModel",
            "description_width": "",
            "_view_module": "@jupyter-widgets/base",
            "_model_module_version": "1.5.0",
            "_view_count": null,
            "_view_module_version": "1.2.0",
            "bar_color": null,
            "_model_module": "@jupyter-widgets/controls"
          }
        },
        "4a099af15a784d5cb64530abfcce7a2e": {
          "model_module": "@jupyter-widgets/base",
          "model_name": "LayoutModel",
          "model_module_version": "1.2.0",
          "state": {
            "_view_name": "LayoutView",
            "grid_template_rows": null,
            "right": null,
            "justify_content": null,
            "_view_module": "@jupyter-widgets/base",
            "overflow": null,
            "_model_module_version": "1.2.0",
            "_view_count": null,
            "flex_flow": null,
            "width": "20px",
            "min_width": null,
            "border": null,
            "align_items": null,
            "bottom": null,
            "_model_module": "@jupyter-widgets/base",
            "top": null,
            "grid_column": null,
            "overflow_y": null,
            "overflow_x": null,
            "grid_auto_flow": null,
            "grid_area": null,
            "grid_template_columns": null,
            "flex": null,
            "_model_name": "LayoutModel",
            "justify_items": null,
            "grid_row": null,
            "max_height": null,
            "align_content": null,
            "visibility": null,
            "align_self": null,
            "height": null,
            "min_height": null,
            "padding": null,
            "grid_auto_rows": null,
            "grid_gap": null,
            "max_width": null,
            "order": null,
            "_view_module_version": "1.2.0",
            "grid_template_areas": null,
            "object_position": null,
            "object_fit": null,
            "grid_auto_columns": null,
            "margin": null,
            "display": null,
            "left": null
          }
        },
        "a0730996e5624c979dcd659381277a44": {
          "model_module": "@jupyter-widgets/controls",
          "model_name": "DescriptionStyleModel",
          "model_module_version": "1.5.0",
          "state": {
            "_view_name": "StyleView",
            "_model_name": "DescriptionStyleModel",
            "description_width": "",
            "_view_module": "@jupyter-widgets/base",
            "_model_module_version": "1.5.0",
            "_view_count": null,
            "_view_module_version": "1.2.0",
            "_model_module": "@jupyter-widgets/controls"
          }
        },
        "9ab98a8b48eb4133b70022b42734403a": {
          "model_module": "@jupyter-widgets/base",
          "model_name": "LayoutModel",
          "model_module_version": "1.2.0",
          "state": {
            "_view_name": "LayoutView",
            "grid_template_rows": null,
            "right": null,
            "justify_content": null,
            "_view_module": "@jupyter-widgets/base",
            "overflow": null,
            "_model_module_version": "1.2.0",
            "_view_count": null,
            "flex_flow": null,
            "width": null,
            "min_width": null,
            "border": null,
            "align_items": null,
            "bottom": null,
            "_model_module": "@jupyter-widgets/base",
            "top": null,
            "grid_column": null,
            "overflow_y": null,
            "overflow_x": null,
            "grid_auto_flow": null,
            "grid_area": null,
            "grid_template_columns": null,
            "flex": null,
            "_model_name": "LayoutModel",
            "justify_items": null,
            "grid_row": null,
            "max_height": null,
            "align_content": null,
            "visibility": null,
            "align_self": null,
            "height": null,
            "min_height": null,
            "padding": null,
            "grid_auto_rows": null,
            "grid_gap": null,
            "max_width": null,
            "order": null,
            "_view_module_version": "1.2.0",
            "grid_template_areas": null,
            "object_position": null,
            "object_fit": null,
            "grid_auto_columns": null,
            "margin": null,
            "display": null,
            "left": null
          }
        },
        "02e221027d6b4b438e77e7e4caa8c81f": {
          "model_module": "@jupyter-widgets/controls",
          "model_name": "HBoxModel",
          "model_module_version": "1.5.0",
          "state": {
            "_view_name": "HBoxView",
            "_dom_classes": [],
            "_model_name": "HBoxModel",
            "_view_module": "@jupyter-widgets/controls",
            "_model_module_version": "1.5.0",
            "_view_count": null,
            "_view_module_version": "1.5.0",
            "box_style": "",
            "layout": "IPY_MODEL_8200bab8bb6d48e795d0e2ce8bf2d7d1",
            "_model_module": "@jupyter-widgets/controls",
            "children": [
              "IPY_MODEL_a5561ec9e00f409095a21fbb24e7f8f2",
              "IPY_MODEL_49bfaa76504a41ffb95f9699342f6ef5",
              "IPY_MODEL_c223a0d3b6434d10a2ce0b0f63818e87"
            ]
          }
        },
        "8200bab8bb6d48e795d0e2ce8bf2d7d1": {
          "model_module": "@jupyter-widgets/base",
          "model_name": "LayoutModel",
          "model_module_version": "1.2.0",
          "state": {
            "_view_name": "LayoutView",
            "grid_template_rows": null,
            "right": null,
            "justify_content": null,
            "_view_module": "@jupyter-widgets/base",
            "overflow": null,
            "_model_module_version": "1.2.0",
            "_view_count": null,
            "flex_flow": null,
            "width": null,
            "min_width": null,
            "border": null,
            "align_items": null,
            "bottom": null,
            "_model_module": "@jupyter-widgets/base",
            "top": null,
            "grid_column": null,
            "overflow_y": null,
            "overflow_x": null,
            "grid_auto_flow": null,
            "grid_area": null,
            "grid_template_columns": null,
            "flex": null,
            "_model_name": "LayoutModel",
            "justify_items": null,
            "grid_row": null,
            "max_height": null,
            "align_content": null,
            "visibility": null,
            "align_self": null,
            "height": null,
            "min_height": null,
            "padding": null,
            "grid_auto_rows": null,
            "grid_gap": null,
            "max_width": null,
            "order": null,
            "_view_module_version": "1.2.0",
            "grid_template_areas": null,
            "object_position": null,
            "object_fit": null,
            "grid_auto_columns": null,
            "margin": null,
            "display": null,
            "left": null
          }
        },
        "a5561ec9e00f409095a21fbb24e7f8f2": {
          "model_module": "@jupyter-widgets/controls",
          "model_name": "HTMLModel",
          "model_module_version": "1.5.0",
          "state": {
            "_view_name": "HTMLView",
            "style": "IPY_MODEL_95317433c0c74518a39f12d2dfc6f872",
            "_dom_classes": [],
            "description": "",
            "_model_name": "HTMLModel",
            "placeholder": "​",
            "_view_module": "@jupyter-widgets/controls",
            "_model_module_version": "1.5.0",
            "value": "",
            "_view_count": null,
            "_view_module_version": "1.5.0",
            "description_tooltip": null,
            "_model_module": "@jupyter-widgets/controls",
            "layout": "IPY_MODEL_57ed2bc344bd4046bc94d801e4ced108"
          }
        },
        "49bfaa76504a41ffb95f9699342f6ef5": {
          "model_module": "@jupyter-widgets/controls",
          "model_name": "FloatProgressModel",
          "model_module_version": "1.5.0",
          "state": {
            "_view_name": "ProgressView",
            "style": "IPY_MODEL_916a20302c8948b6ad93b0946c975c72",
            "_dom_classes": [],
            "description": "",
            "_model_name": "FloatProgressModel",
            "bar_style": "info",
            "max": 1,
            "_view_module": "@jupyter-widgets/controls",
            "_model_module_version": "1.5.0",
            "value": 1,
            "_view_count": null,
            "_view_module_version": "1.5.0",
            "orientation": "horizontal",
            "min": 0,
            "description_tooltip": null,
            "_model_module": "@jupyter-widgets/controls",
            "layout": "IPY_MODEL_a4dfca134235465392d5f39cb89be6b5"
          }
        },
        "c223a0d3b6434d10a2ce0b0f63818e87": {
          "model_module": "@jupyter-widgets/controls",
          "model_name": "HTMLModel",
          "model_module_version": "1.5.0",
          "state": {
            "_view_name": "HTMLView",
            "style": "IPY_MODEL_427497a5f5754c5792f7f0f0f2d52482",
            "_dom_classes": [],
            "description": "",
            "_model_name": "HTMLModel",
            "placeholder": "​",
            "_view_module": "@jupyter-widgets/controls",
            "_model_module_version": "1.5.0",
            "value": " 4988/0 [00:16&lt;00:00, 316.61 examples/s]",
            "_view_count": null,
            "_view_module_version": "1.5.0",
            "description_tooltip": null,
            "_model_module": "@jupyter-widgets/controls",
            "layout": "IPY_MODEL_b0f0d25e418e44dc853063b9d5303f83"
          }
        },
        "95317433c0c74518a39f12d2dfc6f872": {
          "model_module": "@jupyter-widgets/controls",
          "model_name": "DescriptionStyleModel",
          "model_module_version": "1.5.0",
          "state": {
            "_view_name": "StyleView",
            "_model_name": "DescriptionStyleModel",
            "description_width": "",
            "_view_module": "@jupyter-widgets/base",
            "_model_module_version": "1.5.0",
            "_view_count": null,
            "_view_module_version": "1.2.0",
            "_model_module": "@jupyter-widgets/controls"
          }
        },
        "57ed2bc344bd4046bc94d801e4ced108": {
          "model_module": "@jupyter-widgets/base",
          "model_name": "LayoutModel",
          "model_module_version": "1.2.0",
          "state": {
            "_view_name": "LayoutView",
            "grid_template_rows": null,
            "right": null,
            "justify_content": null,
            "_view_module": "@jupyter-widgets/base",
            "overflow": null,
            "_model_module_version": "1.2.0",
            "_view_count": null,
            "flex_flow": null,
            "width": null,
            "min_width": null,
            "border": null,
            "align_items": null,
            "bottom": null,
            "_model_module": "@jupyter-widgets/base",
            "top": null,
            "grid_column": null,
            "overflow_y": null,
            "overflow_x": null,
            "grid_auto_flow": null,
            "grid_area": null,
            "grid_template_columns": null,
            "flex": null,
            "_model_name": "LayoutModel",
            "justify_items": null,
            "grid_row": null,
            "max_height": null,
            "align_content": null,
            "visibility": null,
            "align_self": null,
            "height": null,
            "min_height": null,
            "padding": null,
            "grid_auto_rows": null,
            "grid_gap": null,
            "max_width": null,
            "order": null,
            "_view_module_version": "1.2.0",
            "grid_template_areas": null,
            "object_position": null,
            "object_fit": null,
            "grid_auto_columns": null,
            "margin": null,
            "display": null,
            "left": null
          }
        },
        "916a20302c8948b6ad93b0946c975c72": {
          "model_module": "@jupyter-widgets/controls",
          "model_name": "ProgressStyleModel",
          "model_module_version": "1.5.0",
          "state": {
            "_view_name": "StyleView",
            "_model_name": "ProgressStyleModel",
            "description_width": "",
            "_view_module": "@jupyter-widgets/base",
            "_model_module_version": "1.5.0",
            "_view_count": null,
            "_view_module_version": "1.2.0",
            "bar_color": null,
            "_model_module": "@jupyter-widgets/controls"
          }
        },
        "a4dfca134235465392d5f39cb89be6b5": {
          "model_module": "@jupyter-widgets/base",
          "model_name": "LayoutModel",
          "model_module_version": "1.2.0",
          "state": {
            "_view_name": "LayoutView",
            "grid_template_rows": null,
            "right": null,
            "justify_content": null,
            "_view_module": "@jupyter-widgets/base",
            "overflow": null,
            "_model_module_version": "1.2.0",
            "_view_count": null,
            "flex_flow": null,
            "width": "20px",
            "min_width": null,
            "border": null,
            "align_items": null,
            "bottom": null,
            "_model_module": "@jupyter-widgets/base",
            "top": null,
            "grid_column": null,
            "overflow_y": null,
            "overflow_x": null,
            "grid_auto_flow": null,
            "grid_area": null,
            "grid_template_columns": null,
            "flex": null,
            "_model_name": "LayoutModel",
            "justify_items": null,
            "grid_row": null,
            "max_height": null,
            "align_content": null,
            "visibility": null,
            "align_self": null,
            "height": null,
            "min_height": null,
            "padding": null,
            "grid_auto_rows": null,
            "grid_gap": null,
            "max_width": null,
            "order": null,
            "_view_module_version": "1.2.0",
            "grid_template_areas": null,
            "object_position": null,
            "object_fit": null,
            "grid_auto_columns": null,
            "margin": null,
            "display": null,
            "left": null
          }
        },
        "427497a5f5754c5792f7f0f0f2d52482": {
          "model_module": "@jupyter-widgets/controls",
          "model_name": "DescriptionStyleModel",
          "model_module_version": "1.5.0",
          "state": {
            "_view_name": "StyleView",
            "_model_name": "DescriptionStyleModel",
            "description_width": "",
            "_view_module": "@jupyter-widgets/base",
            "_model_module_version": "1.5.0",
            "_view_count": null,
            "_view_module_version": "1.2.0",
            "_model_module": "@jupyter-widgets/controls"
          }
        },
        "b0f0d25e418e44dc853063b9d5303f83": {
          "model_module": "@jupyter-widgets/base",
          "model_name": "LayoutModel",
          "model_module_version": "1.2.0",
          "state": {
            "_view_name": "LayoutView",
            "grid_template_rows": null,
            "right": null,
            "justify_content": null,
            "_view_module": "@jupyter-widgets/base",
            "overflow": null,
            "_model_module_version": "1.2.0",
            "_view_count": null,
            "flex_flow": null,
            "width": null,
            "min_width": null,
            "border": null,
            "align_items": null,
            "bottom": null,
            "_model_module": "@jupyter-widgets/base",
            "top": null,
            "grid_column": null,
            "overflow_y": null,
            "overflow_x": null,
            "grid_auto_flow": null,
            "grid_area": null,
            "grid_template_columns": null,
            "flex": null,
            "_model_name": "LayoutModel",
            "justify_items": null,
            "grid_row": null,
            "max_height": null,
            "align_content": null,
            "visibility": null,
            "align_self": null,
            "height": null,
            "min_height": null,
            "padding": null,
            "grid_auto_rows": null,
            "grid_gap": null,
            "max_width": null,
            "order": null,
            "_view_module_version": "1.2.0",
            "grid_template_areas": null,
            "object_position": null,
            "object_fit": null,
            "grid_auto_columns": null,
            "margin": null,
            "display": null,
            "left": null
          }
        },
        "1de3838ac53348f494dc5c0d1a267368": {
          "model_module": "@jupyter-widgets/controls",
          "model_name": "HBoxModel",
          "model_module_version": "1.5.0",
          "state": {
            "_view_name": "HBoxView",
            "_dom_classes": [],
            "_model_name": "HBoxModel",
            "_view_module": "@jupyter-widgets/controls",
            "_model_module_version": "1.5.0",
            "_view_count": null,
            "_view_module_version": "1.5.0",
            "box_style": "",
            "layout": "IPY_MODEL_1268c3fb45f0491dbbf017b8d48cdfbe",
            "_model_module": "@jupyter-widgets/controls",
            "children": [
              "IPY_MODEL_f8f01551b0b84250ae6f88844e75d2a1",
              "IPY_MODEL_37b84879cc8d42169b48a6ae7f846bd5",
              "IPY_MODEL_66fdbee3082e428d91d2c1e1e07067d0"
            ]
          }
        },
        "1268c3fb45f0491dbbf017b8d48cdfbe": {
          "model_module": "@jupyter-widgets/base",
          "model_name": "LayoutModel",
          "model_module_version": "1.2.0",
          "state": {
            "_view_name": "LayoutView",
            "grid_template_rows": null,
            "right": null,
            "justify_content": null,
            "_view_module": "@jupyter-widgets/base",
            "overflow": null,
            "_model_module_version": "1.2.0",
            "_view_count": null,
            "flex_flow": null,
            "width": null,
            "min_width": null,
            "border": null,
            "align_items": null,
            "bottom": null,
            "_model_module": "@jupyter-widgets/base",
            "top": null,
            "grid_column": null,
            "overflow_y": null,
            "overflow_x": null,
            "grid_auto_flow": null,
            "grid_area": null,
            "grid_template_columns": null,
            "flex": null,
            "_model_name": "LayoutModel",
            "justify_items": null,
            "grid_row": null,
            "max_height": null,
            "align_content": null,
            "visibility": null,
            "align_self": null,
            "height": null,
            "min_height": null,
            "padding": null,
            "grid_auto_rows": null,
            "grid_gap": null,
            "max_width": null,
            "order": null,
            "_view_module_version": "1.2.0",
            "grid_template_areas": null,
            "object_position": null,
            "object_fit": null,
            "grid_auto_columns": null,
            "margin": null,
            "display": null,
            "left": null
          }
        },
        "f8f01551b0b84250ae6f88844e75d2a1": {
          "model_module": "@jupyter-widgets/controls",
          "model_name": "HTMLModel",
          "model_module_version": "1.5.0",
          "state": {
            "_view_name": "HTMLView",
            "style": "IPY_MODEL_c28209ef9bae4fd8872c3a52a8deec8f",
            "_dom_classes": [],
            "description": "",
            "_model_name": "HTMLModel",
            "placeholder": "​",
            "_view_module": "@jupyter-widgets/controls",
            "_model_module_version": "1.5.0",
            "value": "100%",
            "_view_count": null,
            "_view_module_version": "1.5.0",
            "description_tooltip": null,
            "_model_module": "@jupyter-widgets/controls",
            "layout": "IPY_MODEL_509d01a0984b433f8851e5a310515762"
          }
        },
        "37b84879cc8d42169b48a6ae7f846bd5": {
          "model_module": "@jupyter-widgets/controls",
          "model_name": "FloatProgressModel",
          "model_module_version": "1.5.0",
          "state": {
            "_view_name": "ProgressView",
            "style": "IPY_MODEL_7bbb86238b294c5eb43e0b51dcd652d8",
            "_dom_classes": [],
            "description": "",
            "_model_name": "FloatProgressModel",
            "bar_style": "danger",
            "max": 5000,
            "_view_module": "@jupyter-widgets/controls",
            "_model_module_version": "1.5.0",
            "value": 4999,
            "_view_count": null,
            "_view_module_version": "1.5.0",
            "orientation": "horizontal",
            "min": 0,
            "description_tooltip": null,
            "_model_module": "@jupyter-widgets/controls",
            "layout": "IPY_MODEL_6b0434cd29904943ba2e66774bf2c090"
          }
        },
        "66fdbee3082e428d91d2c1e1e07067d0": {
          "model_module": "@jupyter-widgets/controls",
          "model_name": "HTMLModel",
          "model_module_version": "1.5.0",
          "state": {
            "_view_name": "HTMLView",
            "style": "IPY_MODEL_dcece277e64a4f69953cdb9c43202a68",
            "_dom_classes": [],
            "description": "",
            "_model_name": "HTMLModel",
            "placeholder": "​",
            "_view_module": "@jupyter-widgets/controls",
            "_model_module_version": "1.5.0",
            "value": " 4999/5000 [00:00&lt;00:00, 19008.08 examples/s]",
            "_view_count": null,
            "_view_module_version": "1.5.0",
            "description_tooltip": null,
            "_model_module": "@jupyter-widgets/controls",
            "layout": "IPY_MODEL_a8709c9621854704ab91003bb16d6c2e"
          }
        },
        "c28209ef9bae4fd8872c3a52a8deec8f": {
          "model_module": "@jupyter-widgets/controls",
          "model_name": "DescriptionStyleModel",
          "model_module_version": "1.5.0",
          "state": {
            "_view_name": "StyleView",
            "_model_name": "DescriptionStyleModel",
            "description_width": "",
            "_view_module": "@jupyter-widgets/base",
            "_model_module_version": "1.5.0",
            "_view_count": null,
            "_view_module_version": "1.2.0",
            "_model_module": "@jupyter-widgets/controls"
          }
        },
        "509d01a0984b433f8851e5a310515762": {
          "model_module": "@jupyter-widgets/base",
          "model_name": "LayoutModel",
          "model_module_version": "1.2.0",
          "state": {
            "_view_name": "LayoutView",
            "grid_template_rows": null,
            "right": null,
            "justify_content": null,
            "_view_module": "@jupyter-widgets/base",
            "overflow": null,
            "_model_module_version": "1.2.0",
            "_view_count": null,
            "flex_flow": null,
            "width": null,
            "min_width": null,
            "border": null,
            "align_items": null,
            "bottom": null,
            "_model_module": "@jupyter-widgets/base",
            "top": null,
            "grid_column": null,
            "overflow_y": null,
            "overflow_x": null,
            "grid_auto_flow": null,
            "grid_area": null,
            "grid_template_columns": null,
            "flex": null,
            "_model_name": "LayoutModel",
            "justify_items": null,
            "grid_row": null,
            "max_height": null,
            "align_content": null,
            "visibility": null,
            "align_self": null,
            "height": null,
            "min_height": null,
            "padding": null,
            "grid_auto_rows": null,
            "grid_gap": null,
            "max_width": null,
            "order": null,
            "_view_module_version": "1.2.0",
            "grid_template_areas": null,
            "object_position": null,
            "object_fit": null,
            "grid_auto_columns": null,
            "margin": null,
            "display": null,
            "left": null
          }
        },
        "7bbb86238b294c5eb43e0b51dcd652d8": {
          "model_module": "@jupyter-widgets/controls",
          "model_name": "ProgressStyleModel",
          "model_module_version": "1.5.0",
          "state": {
            "_view_name": "StyleView",
            "_model_name": "ProgressStyleModel",
            "description_width": "",
            "_view_module": "@jupyter-widgets/base",
            "_model_module_version": "1.5.0",
            "_view_count": null,
            "_view_module_version": "1.2.0",
            "bar_color": null,
            "_model_module": "@jupyter-widgets/controls"
          }
        },
        "6b0434cd29904943ba2e66774bf2c090": {
          "model_module": "@jupyter-widgets/base",
          "model_name": "LayoutModel",
          "model_module_version": "1.2.0",
          "state": {
            "_view_name": "LayoutView",
            "grid_template_rows": null,
            "right": null,
            "justify_content": null,
            "_view_module": "@jupyter-widgets/base",
            "overflow": null,
            "_model_module_version": "1.2.0",
            "_view_count": null,
            "flex_flow": null,
            "width": null,
            "min_width": null,
            "border": null,
            "align_items": null,
            "bottom": null,
            "_model_module": "@jupyter-widgets/base",
            "top": null,
            "grid_column": null,
            "overflow_y": null,
            "overflow_x": null,
            "grid_auto_flow": null,
            "grid_area": null,
            "grid_template_columns": null,
            "flex": null,
            "_model_name": "LayoutModel",
            "justify_items": null,
            "grid_row": null,
            "max_height": null,
            "align_content": null,
            "visibility": null,
            "align_self": null,
            "height": null,
            "min_height": null,
            "padding": null,
            "grid_auto_rows": null,
            "grid_gap": null,
            "max_width": null,
            "order": null,
            "_view_module_version": "1.2.0",
            "grid_template_areas": null,
            "object_position": null,
            "object_fit": null,
            "grid_auto_columns": null,
            "margin": null,
            "display": null,
            "left": null
          }
        },
        "dcece277e64a4f69953cdb9c43202a68": {
          "model_module": "@jupyter-widgets/controls",
          "model_name": "DescriptionStyleModel",
          "model_module_version": "1.5.0",
          "state": {
            "_view_name": "StyleView",
            "_model_name": "DescriptionStyleModel",
            "description_width": "",
            "_view_module": "@jupyter-widgets/base",
            "_model_module_version": "1.5.0",
            "_view_count": null,
            "_view_module_version": "1.2.0",
            "_model_module": "@jupyter-widgets/controls"
          }
        },
        "a8709c9621854704ab91003bb16d6c2e": {
          "model_module": "@jupyter-widgets/base",
          "model_name": "LayoutModel",
          "model_module_version": "1.2.0",
          "state": {
            "_view_name": "LayoutView",
            "grid_template_rows": null,
            "right": null,
            "justify_content": null,
            "_view_module": "@jupyter-widgets/base",
            "overflow": null,
            "_model_module_version": "1.2.0",
            "_view_count": null,
            "flex_flow": null,
            "width": null,
            "min_width": null,
            "border": null,
            "align_items": null,
            "bottom": null,
            "_model_module": "@jupyter-widgets/base",
            "top": null,
            "grid_column": null,
            "overflow_y": null,
            "overflow_x": null,
            "grid_auto_flow": null,
            "grid_area": null,
            "grid_template_columns": null,
            "flex": null,
            "_model_name": "LayoutModel",
            "justify_items": null,
            "grid_row": null,
            "max_height": null,
            "align_content": null,
            "visibility": null,
            "align_self": null,
            "height": null,
            "min_height": null,
            "padding": null,
            "grid_auto_rows": null,
            "grid_gap": null,
            "max_width": null,
            "order": null,
            "_view_module_version": "1.2.0",
            "grid_template_areas": null,
            "object_position": null,
            "object_fit": null,
            "grid_auto_columns": null,
            "margin": null,
            "display": null,
            "left": null
          }
        },
        "775dea37c95a4cfdb45820bbad64171c": {
          "model_module": "@jupyter-widgets/controls",
          "model_name": "HBoxModel",
          "model_module_version": "1.5.0",
          "state": {
            "_view_name": "HBoxView",
            "_dom_classes": [],
            "_model_name": "HBoxModel",
            "_view_module": "@jupyter-widgets/controls",
            "_model_module_version": "1.5.0",
            "_view_count": null,
            "_view_module_version": "1.5.0",
            "box_style": "",
            "layout": "IPY_MODEL_f2bb6516d67a414e877815e2bd75ebd7",
            "_model_module": "@jupyter-widgets/controls",
            "children": [
              "IPY_MODEL_d5b1245b9a9b4938a636654152331449",
              "IPY_MODEL_73247189abe84fe7a452e2430aed3cce",
              "IPY_MODEL_ff078c0044254e55b46a92a9de3a59e3"
            ]
          }
        },
        "f2bb6516d67a414e877815e2bd75ebd7": {
          "model_module": "@jupyter-widgets/base",
          "model_name": "LayoutModel",
          "model_module_version": "1.2.0",
          "state": {
            "_view_name": "LayoutView",
            "grid_template_rows": null,
            "right": null,
            "justify_content": null,
            "_view_module": "@jupyter-widgets/base",
            "overflow": null,
            "_model_module_version": "1.2.0",
            "_view_count": null,
            "flex_flow": null,
            "width": null,
            "min_width": null,
            "border": null,
            "align_items": null,
            "bottom": null,
            "_model_module": "@jupyter-widgets/base",
            "top": null,
            "grid_column": null,
            "overflow_y": null,
            "overflow_x": null,
            "grid_auto_flow": null,
            "grid_area": null,
            "grid_template_columns": null,
            "flex": null,
            "_model_name": "LayoutModel",
            "justify_items": null,
            "grid_row": null,
            "max_height": null,
            "align_content": null,
            "visibility": null,
            "align_self": null,
            "height": null,
            "min_height": null,
            "padding": null,
            "grid_auto_rows": null,
            "grid_gap": null,
            "max_width": null,
            "order": null,
            "_view_module_version": "1.2.0",
            "grid_template_areas": null,
            "object_position": null,
            "object_fit": null,
            "grid_auto_columns": null,
            "margin": null,
            "display": null,
            "left": null
          }
        },
        "d5b1245b9a9b4938a636654152331449": {
          "model_module": "@jupyter-widgets/controls",
          "model_name": "HTMLModel",
          "model_module_version": "1.5.0",
          "state": {
            "_view_name": "HTMLView",
            "style": "IPY_MODEL_8da76e224c094fd0a5dfaed733e48d49",
            "_dom_classes": [],
            "description": "",
            "_model_name": "HTMLModel",
            "placeholder": "​",
            "_view_module": "@jupyter-widgets/controls",
            "_model_module_version": "1.5.0",
            "value": "",
            "_view_count": null,
            "_view_module_version": "1.5.0",
            "description_tooltip": null,
            "_model_module": "@jupyter-widgets/controls",
            "layout": "IPY_MODEL_985e8b12268f49958e8ac98c29601f3e"
          }
        },
        "73247189abe84fe7a452e2430aed3cce": {
          "model_module": "@jupyter-widgets/controls",
          "model_name": "FloatProgressModel",
          "model_module_version": "1.5.0",
          "state": {
            "_view_name": "ProgressView",
            "style": "IPY_MODEL_8f3e3a965f8945dfad639d667699d614",
            "_dom_classes": [],
            "description": "",
            "_model_name": "FloatProgressModel",
            "bar_style": "info",
            "max": 1,
            "_view_module": "@jupyter-widgets/controls",
            "_model_module_version": "1.5.0",
            "value": 1,
            "_view_count": null,
            "_view_module_version": "1.5.0",
            "orientation": "horizontal",
            "min": 0,
            "description_tooltip": null,
            "_model_module": "@jupyter-widgets/controls",
            "layout": "IPY_MODEL_6d1b8fcc173240fa99eb4223b48ce6a7"
          }
        },
        "ff078c0044254e55b46a92a9de3a59e3": {
          "model_module": "@jupyter-widgets/controls",
          "model_name": "HTMLModel",
          "model_module_version": "1.5.0",
          "state": {
            "_view_name": "HTMLView",
            "style": "IPY_MODEL_4a2634a10b984b62badac2a908ab9d56",
            "_dom_classes": [],
            "description": "",
            "_model_name": "HTMLModel",
            "placeholder": "​",
            "_view_module": "@jupyter-widgets/controls",
            "_model_module_version": "1.5.0",
            "value": " 7994/0 [00:26&lt;00:00, 321.09 examples/s]",
            "_view_count": null,
            "_view_module_version": "1.5.0",
            "description_tooltip": null,
            "_model_module": "@jupyter-widgets/controls",
            "layout": "IPY_MODEL_0867e033bcdd4888b30e50624a935aa6"
          }
        },
        "8da76e224c094fd0a5dfaed733e48d49": {
          "model_module": "@jupyter-widgets/controls",
          "model_name": "DescriptionStyleModel",
          "model_module_version": "1.5.0",
          "state": {
            "_view_name": "StyleView",
            "_model_name": "DescriptionStyleModel",
            "description_width": "",
            "_view_module": "@jupyter-widgets/base",
            "_model_module_version": "1.5.0",
            "_view_count": null,
            "_view_module_version": "1.2.0",
            "_model_module": "@jupyter-widgets/controls"
          }
        },
        "985e8b12268f49958e8ac98c29601f3e": {
          "model_module": "@jupyter-widgets/base",
          "model_name": "LayoutModel",
          "model_module_version": "1.2.0",
          "state": {
            "_view_name": "LayoutView",
            "grid_template_rows": null,
            "right": null,
            "justify_content": null,
            "_view_module": "@jupyter-widgets/base",
            "overflow": null,
            "_model_module_version": "1.2.0",
            "_view_count": null,
            "flex_flow": null,
            "width": null,
            "min_width": null,
            "border": null,
            "align_items": null,
            "bottom": null,
            "_model_module": "@jupyter-widgets/base",
            "top": null,
            "grid_column": null,
            "overflow_y": null,
            "overflow_x": null,
            "grid_auto_flow": null,
            "grid_area": null,
            "grid_template_columns": null,
            "flex": null,
            "_model_name": "LayoutModel",
            "justify_items": null,
            "grid_row": null,
            "max_height": null,
            "align_content": null,
            "visibility": null,
            "align_self": null,
            "height": null,
            "min_height": null,
            "padding": null,
            "grid_auto_rows": null,
            "grid_gap": null,
            "max_width": null,
            "order": null,
            "_view_module_version": "1.2.0",
            "grid_template_areas": null,
            "object_position": null,
            "object_fit": null,
            "grid_auto_columns": null,
            "margin": null,
            "display": null,
            "left": null
          }
        },
        "8f3e3a965f8945dfad639d667699d614": {
          "model_module": "@jupyter-widgets/controls",
          "model_name": "ProgressStyleModel",
          "model_module_version": "1.5.0",
          "state": {
            "_view_name": "StyleView",
            "_model_name": "ProgressStyleModel",
            "description_width": "",
            "_view_module": "@jupyter-widgets/base",
            "_model_module_version": "1.5.0",
            "_view_count": null,
            "_view_module_version": "1.2.0",
            "bar_color": null,
            "_model_module": "@jupyter-widgets/controls"
          }
        },
        "6d1b8fcc173240fa99eb4223b48ce6a7": {
          "model_module": "@jupyter-widgets/base",
          "model_name": "LayoutModel",
          "model_module_version": "1.2.0",
          "state": {
            "_view_name": "LayoutView",
            "grid_template_rows": null,
            "right": null,
            "justify_content": null,
            "_view_module": "@jupyter-widgets/base",
            "overflow": null,
            "_model_module_version": "1.2.0",
            "_view_count": null,
            "flex_flow": null,
            "width": "20px",
            "min_width": null,
            "border": null,
            "align_items": null,
            "bottom": null,
            "_model_module": "@jupyter-widgets/base",
            "top": null,
            "grid_column": null,
            "overflow_y": null,
            "overflow_x": null,
            "grid_auto_flow": null,
            "grid_area": null,
            "grid_template_columns": null,
            "flex": null,
            "_model_name": "LayoutModel",
            "justify_items": null,
            "grid_row": null,
            "max_height": null,
            "align_content": null,
            "visibility": null,
            "align_self": null,
            "height": null,
            "min_height": null,
            "padding": null,
            "grid_auto_rows": null,
            "grid_gap": null,
            "max_width": null,
            "order": null,
            "_view_module_version": "1.2.0",
            "grid_template_areas": null,
            "object_position": null,
            "object_fit": null,
            "grid_auto_columns": null,
            "margin": null,
            "display": null,
            "left": null
          }
        },
        "4a2634a10b984b62badac2a908ab9d56": {
          "model_module": "@jupyter-widgets/controls",
          "model_name": "DescriptionStyleModel",
          "model_module_version": "1.5.0",
          "state": {
            "_view_name": "StyleView",
            "_model_name": "DescriptionStyleModel",
            "description_width": "",
            "_view_module": "@jupyter-widgets/base",
            "_model_module_version": "1.5.0",
            "_view_count": null,
            "_view_module_version": "1.2.0",
            "_model_module": "@jupyter-widgets/controls"
          }
        },
        "0867e033bcdd4888b30e50624a935aa6": {
          "model_module": "@jupyter-widgets/base",
          "model_name": "LayoutModel",
          "model_module_version": "1.2.0",
          "state": {
            "_view_name": "LayoutView",
            "grid_template_rows": null,
            "right": null,
            "justify_content": null,
            "_view_module": "@jupyter-widgets/base",
            "overflow": null,
            "_model_module_version": "1.2.0",
            "_view_count": null,
            "flex_flow": null,
            "width": null,
            "min_width": null,
            "border": null,
            "align_items": null,
            "bottom": null,
            "_model_module": "@jupyter-widgets/base",
            "top": null,
            "grid_column": null,
            "overflow_y": null,
            "overflow_x": null,
            "grid_auto_flow": null,
            "grid_area": null,
            "grid_template_columns": null,
            "flex": null,
            "_model_name": "LayoutModel",
            "justify_items": null,
            "grid_row": null,
            "max_height": null,
            "align_content": null,
            "visibility": null,
            "align_self": null,
            "height": null,
            "min_height": null,
            "padding": null,
            "grid_auto_rows": null,
            "grid_gap": null,
            "max_width": null,
            "order": null,
            "_view_module_version": "1.2.0",
            "grid_template_areas": null,
            "object_position": null,
            "object_fit": null,
            "grid_auto_columns": null,
            "margin": null,
            "display": null,
            "left": null
          }
        },
        "1c8bbed4c2824fe492da6e8529c9556a": {
          "model_module": "@jupyter-widgets/controls",
          "model_name": "HBoxModel",
          "model_module_version": "1.5.0",
          "state": {
            "_view_name": "HBoxView",
            "_dom_classes": [],
            "_model_name": "HBoxModel",
            "_view_module": "@jupyter-widgets/controls",
            "_model_module_version": "1.5.0",
            "_view_count": null,
            "_view_module_version": "1.5.0",
            "box_style": "",
            "layout": "IPY_MODEL_552d38165f1f4943abc41d2c93868ec1",
            "_model_module": "@jupyter-widgets/controls",
            "children": [
              "IPY_MODEL_ee6173253966425aa8101db134e2c3a1",
              "IPY_MODEL_888c89113032424ea8496a1e1c2e6af3",
              "IPY_MODEL_89bebc614a094afd822c82dc388b6405"
            ]
          }
        },
        "552d38165f1f4943abc41d2c93868ec1": {
          "model_module": "@jupyter-widgets/base",
          "model_name": "LayoutModel",
          "model_module_version": "1.2.0",
          "state": {
            "_view_name": "LayoutView",
            "grid_template_rows": null,
            "right": null,
            "justify_content": null,
            "_view_module": "@jupyter-widgets/base",
            "overflow": null,
            "_model_module_version": "1.2.0",
            "_view_count": null,
            "flex_flow": null,
            "width": null,
            "min_width": null,
            "border": null,
            "align_items": null,
            "bottom": null,
            "_model_module": "@jupyter-widgets/base",
            "top": null,
            "grid_column": null,
            "overflow_y": null,
            "overflow_x": null,
            "grid_auto_flow": null,
            "grid_area": null,
            "grid_template_columns": null,
            "flex": null,
            "_model_name": "LayoutModel",
            "justify_items": null,
            "grid_row": null,
            "max_height": null,
            "align_content": null,
            "visibility": null,
            "align_self": null,
            "height": null,
            "min_height": null,
            "padding": null,
            "grid_auto_rows": null,
            "grid_gap": null,
            "max_width": null,
            "order": null,
            "_view_module_version": "1.2.0",
            "grid_template_areas": null,
            "object_position": null,
            "object_fit": null,
            "grid_auto_columns": null,
            "margin": null,
            "display": null,
            "left": null
          }
        },
        "ee6173253966425aa8101db134e2c3a1": {
          "model_module": "@jupyter-widgets/controls",
          "model_name": "HTMLModel",
          "model_module_version": "1.5.0",
          "state": {
            "_view_name": "HTMLView",
            "style": "IPY_MODEL_3c37c61f00384ba880ce54c1d5c452e7",
            "_dom_classes": [],
            "description": "",
            "_model_name": "HTMLModel",
            "placeholder": "​",
            "_view_module": "@jupyter-widgets/controls",
            "_model_module_version": "1.5.0",
            "value": "100%",
            "_view_count": null,
            "_view_module_version": "1.5.0",
            "description_tooltip": null,
            "_model_module": "@jupyter-widgets/controls",
            "layout": "IPY_MODEL_77fce4b312a041268287cf01b49461f4"
          }
        },
        "888c89113032424ea8496a1e1c2e6af3": {
          "model_module": "@jupyter-widgets/controls",
          "model_name": "FloatProgressModel",
          "model_module_version": "1.5.0",
          "state": {
            "_view_name": "ProgressView",
            "style": "IPY_MODEL_89b13c6f7b1949ff989000b6113dc343",
            "_dom_classes": [],
            "description": "",
            "_model_name": "FloatProgressModel",
            "bar_style": "danger",
            "max": 8000,
            "_view_module": "@jupyter-widgets/controls",
            "_model_module_version": "1.5.0",
            "value": 7999,
            "_view_count": null,
            "_view_module_version": "1.5.0",
            "orientation": "horizontal",
            "min": 0,
            "description_tooltip": null,
            "_model_module": "@jupyter-widgets/controls",
            "layout": "IPY_MODEL_d8d80c3a7491475884193f92b0dcf26b"
          }
        },
        "89bebc614a094afd822c82dc388b6405": {
          "model_module": "@jupyter-widgets/controls",
          "model_name": "HTMLModel",
          "model_module_version": "1.5.0",
          "state": {
            "_view_name": "HTMLView",
            "style": "IPY_MODEL_1c5e302c9cf947de813ffa826312f167",
            "_dom_classes": [],
            "description": "",
            "_model_name": "HTMLModel",
            "placeholder": "​",
            "_view_module": "@jupyter-widgets/controls",
            "_model_module_version": "1.5.0",
            "value": " 7999/8000 [00:00&lt;00:00, 28950.63 examples/s]",
            "_view_count": null,
            "_view_module_version": "1.5.0",
            "description_tooltip": null,
            "_model_module": "@jupyter-widgets/controls",
            "layout": "IPY_MODEL_ed877a8de0cc47f8b58a73f678aeed6f"
          }
        },
        "3c37c61f00384ba880ce54c1d5c452e7": {
          "model_module": "@jupyter-widgets/controls",
          "model_name": "DescriptionStyleModel",
          "model_module_version": "1.5.0",
          "state": {
            "_view_name": "StyleView",
            "_model_name": "DescriptionStyleModel",
            "description_width": "",
            "_view_module": "@jupyter-widgets/base",
            "_model_module_version": "1.5.0",
            "_view_count": null,
            "_view_module_version": "1.2.0",
            "_model_module": "@jupyter-widgets/controls"
          }
        },
        "77fce4b312a041268287cf01b49461f4": {
          "model_module": "@jupyter-widgets/base",
          "model_name": "LayoutModel",
          "model_module_version": "1.2.0",
          "state": {
            "_view_name": "LayoutView",
            "grid_template_rows": null,
            "right": null,
            "justify_content": null,
            "_view_module": "@jupyter-widgets/base",
            "overflow": null,
            "_model_module_version": "1.2.0",
            "_view_count": null,
            "flex_flow": null,
            "width": null,
            "min_width": null,
            "border": null,
            "align_items": null,
            "bottom": null,
            "_model_module": "@jupyter-widgets/base",
            "top": null,
            "grid_column": null,
            "overflow_y": null,
            "overflow_x": null,
            "grid_auto_flow": null,
            "grid_area": null,
            "grid_template_columns": null,
            "flex": null,
            "_model_name": "LayoutModel",
            "justify_items": null,
            "grid_row": null,
            "max_height": null,
            "align_content": null,
            "visibility": null,
            "align_self": null,
            "height": null,
            "min_height": null,
            "padding": null,
            "grid_auto_rows": null,
            "grid_gap": null,
            "max_width": null,
            "order": null,
            "_view_module_version": "1.2.0",
            "grid_template_areas": null,
            "object_position": null,
            "object_fit": null,
            "grid_auto_columns": null,
            "margin": null,
            "display": null,
            "left": null
          }
        },
        "89b13c6f7b1949ff989000b6113dc343": {
          "model_module": "@jupyter-widgets/controls",
          "model_name": "ProgressStyleModel",
          "model_module_version": "1.5.0",
          "state": {
            "_view_name": "StyleView",
            "_model_name": "ProgressStyleModel",
            "description_width": "",
            "_view_module": "@jupyter-widgets/base",
            "_model_module_version": "1.5.0",
            "_view_count": null,
            "_view_module_version": "1.2.0",
            "bar_color": null,
            "_model_module": "@jupyter-widgets/controls"
          }
        },
        "d8d80c3a7491475884193f92b0dcf26b": {
          "model_module": "@jupyter-widgets/base",
          "model_name": "LayoutModel",
          "model_module_version": "1.2.0",
          "state": {
            "_view_name": "LayoutView",
            "grid_template_rows": null,
            "right": null,
            "justify_content": null,
            "_view_module": "@jupyter-widgets/base",
            "overflow": null,
            "_model_module_version": "1.2.0",
            "_view_count": null,
            "flex_flow": null,
            "width": null,
            "min_width": null,
            "border": null,
            "align_items": null,
            "bottom": null,
            "_model_module": "@jupyter-widgets/base",
            "top": null,
            "grid_column": null,
            "overflow_y": null,
            "overflow_x": null,
            "grid_auto_flow": null,
            "grid_area": null,
            "grid_template_columns": null,
            "flex": null,
            "_model_name": "LayoutModel",
            "justify_items": null,
            "grid_row": null,
            "max_height": null,
            "align_content": null,
            "visibility": null,
            "align_self": null,
            "height": null,
            "min_height": null,
            "padding": null,
            "grid_auto_rows": null,
            "grid_gap": null,
            "max_width": null,
            "order": null,
            "_view_module_version": "1.2.0",
            "grid_template_areas": null,
            "object_position": null,
            "object_fit": null,
            "grid_auto_columns": null,
            "margin": null,
            "display": null,
            "left": null
          }
        },
        "1c5e302c9cf947de813ffa826312f167": {
          "model_module": "@jupyter-widgets/controls",
          "model_name": "DescriptionStyleModel",
          "model_module_version": "1.5.0",
          "state": {
            "_view_name": "StyleView",
            "_model_name": "DescriptionStyleModel",
            "description_width": "",
            "_view_module": "@jupyter-widgets/base",
            "_model_module_version": "1.5.0",
            "_view_count": null,
            "_view_module_version": "1.2.0",
            "_model_module": "@jupyter-widgets/controls"
          }
        },
        "ed877a8de0cc47f8b58a73f678aeed6f": {
          "model_module": "@jupyter-widgets/base",
          "model_name": "LayoutModel",
          "model_module_version": "1.2.0",
          "state": {
            "_view_name": "LayoutView",
            "grid_template_rows": null,
            "right": null,
            "justify_content": null,
            "_view_module": "@jupyter-widgets/base",
            "overflow": null,
            "_model_module_version": "1.2.0",
            "_view_count": null,
            "flex_flow": null,
            "width": null,
            "min_width": null,
            "border": null,
            "align_items": null,
            "bottom": null,
            "_model_module": "@jupyter-widgets/base",
            "top": null,
            "grid_column": null,
            "overflow_y": null,
            "overflow_x": null,
            "grid_auto_flow": null,
            "grid_area": null,
            "grid_template_columns": null,
            "flex": null,
            "_model_name": "LayoutModel",
            "justify_items": null,
            "grid_row": null,
            "max_height": null,
            "align_content": null,
            "visibility": null,
            "align_self": null,
            "height": null,
            "min_height": null,
            "padding": null,
            "grid_auto_rows": null,
            "grid_gap": null,
            "max_width": null,
            "order": null,
            "_view_module_version": "1.2.0",
            "grid_template_areas": null,
            "object_position": null,
            "object_fit": null,
            "grid_auto_columns": null,
            "margin": null,
            "display": null,
            "left": null
          }
        },
        "0d7a1f47b523483fbc9168554830938f": {
          "model_module": "@jupyter-widgets/controls",
          "model_name": "HBoxModel",
          "model_module_version": "1.5.0",
          "state": {
            "_view_name": "HBoxView",
            "_dom_classes": [],
            "_model_name": "HBoxModel",
            "_view_module": "@jupyter-widgets/controls",
            "_model_module_version": "1.5.0",
            "_view_count": null,
            "_view_module_version": "1.5.0",
            "box_style": "",
            "layout": "IPY_MODEL_0d8a98e2aaa64cbe8974e6e1b4a76fd0",
            "_model_module": "@jupyter-widgets/controls",
            "children": [
              "IPY_MODEL_3322a87063ff4dedbf46bbf0763f871c",
              "IPY_MODEL_1f5a5ad8647541a9a7559da5f3b9cb23",
              "IPY_MODEL_b381425ab4054955a059c2ca5d78f519"
            ]
          }
        },
        "0d8a98e2aaa64cbe8974e6e1b4a76fd0": {
          "model_module": "@jupyter-widgets/base",
          "model_name": "LayoutModel",
          "model_module_version": "1.2.0",
          "state": {
            "_view_name": "LayoutView",
            "grid_template_rows": null,
            "right": null,
            "justify_content": null,
            "_view_module": "@jupyter-widgets/base",
            "overflow": null,
            "_model_module_version": "1.2.0",
            "_view_count": null,
            "flex_flow": null,
            "width": null,
            "min_width": null,
            "border": null,
            "align_items": null,
            "bottom": null,
            "_model_module": "@jupyter-widgets/base",
            "top": null,
            "grid_column": null,
            "overflow_y": null,
            "overflow_x": null,
            "grid_auto_flow": null,
            "grid_area": null,
            "grid_template_columns": null,
            "flex": null,
            "_model_name": "LayoutModel",
            "justify_items": null,
            "grid_row": null,
            "max_height": null,
            "align_content": null,
            "visibility": null,
            "align_self": null,
            "height": null,
            "min_height": null,
            "padding": null,
            "grid_auto_rows": null,
            "grid_gap": null,
            "max_width": null,
            "order": null,
            "_view_module_version": "1.2.0",
            "grid_template_areas": null,
            "object_position": null,
            "object_fit": null,
            "grid_auto_columns": null,
            "margin": null,
            "display": null,
            "left": null
          }
        },
        "3322a87063ff4dedbf46bbf0763f871c": {
          "model_module": "@jupyter-widgets/controls",
          "model_name": "HTMLModel",
          "model_module_version": "1.5.0",
          "state": {
            "_view_name": "HTMLView",
            "style": "IPY_MODEL_c706436221da4c8ca56d9758f39ef9a7",
            "_dom_classes": [],
            "description": "",
            "_model_name": "HTMLModel",
            "placeholder": "​",
            "_view_module": "@jupyter-widgets/controls",
            "_model_module_version": "1.5.0",
            "value": "",
            "_view_count": null,
            "_view_module_version": "1.5.0",
            "description_tooltip": null,
            "_model_module": "@jupyter-widgets/controls",
            "layout": "IPY_MODEL_8bbe4dd94257412da13037b65d2dd92d"
          }
        },
        "1f5a5ad8647541a9a7559da5f3b9cb23": {
          "model_module": "@jupyter-widgets/controls",
          "model_name": "FloatProgressModel",
          "model_module_version": "1.5.0",
          "state": {
            "_view_name": "ProgressView",
            "style": "IPY_MODEL_9f0e4cb846014c50ba97e57d23e5dd44",
            "_dom_classes": [],
            "description": "",
            "_model_name": "FloatProgressModel",
            "bar_style": "info",
            "max": 1,
            "_view_module": "@jupyter-widgets/controls",
            "_model_module_version": "1.5.0",
            "value": 1,
            "_view_count": null,
            "_view_module_version": "1.5.0",
            "orientation": "horizontal",
            "min": 0,
            "description_tooltip": null,
            "_model_module": "@jupyter-widgets/controls",
            "layout": "IPY_MODEL_28ee4a404b10426fa375eb712e9333b8"
          }
        },
        "b381425ab4054955a059c2ca5d78f519": {
          "model_module": "@jupyter-widgets/controls",
          "model_name": "HTMLModel",
          "model_module_version": "1.5.0",
          "state": {
            "_view_name": "HTMLView",
            "style": "IPY_MODEL_39a824afb6de492dafc1543c3276889d",
            "_dom_classes": [],
            "description": "",
            "_model_name": "HTMLModel",
            "placeholder": "​",
            "_view_module": "@jupyter-widgets/controls",
            "_model_module_version": "1.5.0",
            "value": " 99984/0 [05:19&lt;00:00, 312.70 examples/s]",
            "_view_count": null,
            "_view_module_version": "1.5.0",
            "description_tooltip": null,
            "_model_module": "@jupyter-widgets/controls",
            "layout": "IPY_MODEL_760650ae5e554c44845ea191d4e276e9"
          }
        },
        "c706436221da4c8ca56d9758f39ef9a7": {
          "model_module": "@jupyter-widgets/controls",
          "model_name": "DescriptionStyleModel",
          "model_module_version": "1.5.0",
          "state": {
            "_view_name": "StyleView",
            "_model_name": "DescriptionStyleModel",
            "description_width": "",
            "_view_module": "@jupyter-widgets/base",
            "_model_module_version": "1.5.0",
            "_view_count": null,
            "_view_module_version": "1.2.0",
            "_model_module": "@jupyter-widgets/controls"
          }
        },
        "8bbe4dd94257412da13037b65d2dd92d": {
          "model_module": "@jupyter-widgets/base",
          "model_name": "LayoutModel",
          "model_module_version": "1.2.0",
          "state": {
            "_view_name": "LayoutView",
            "grid_template_rows": null,
            "right": null,
            "justify_content": null,
            "_view_module": "@jupyter-widgets/base",
            "overflow": null,
            "_model_module_version": "1.2.0",
            "_view_count": null,
            "flex_flow": null,
            "width": null,
            "min_width": null,
            "border": null,
            "align_items": null,
            "bottom": null,
            "_model_module": "@jupyter-widgets/base",
            "top": null,
            "grid_column": null,
            "overflow_y": null,
            "overflow_x": null,
            "grid_auto_flow": null,
            "grid_area": null,
            "grid_template_columns": null,
            "flex": null,
            "_model_name": "LayoutModel",
            "justify_items": null,
            "grid_row": null,
            "max_height": null,
            "align_content": null,
            "visibility": null,
            "align_self": null,
            "height": null,
            "min_height": null,
            "padding": null,
            "grid_auto_rows": null,
            "grid_gap": null,
            "max_width": null,
            "order": null,
            "_view_module_version": "1.2.0",
            "grid_template_areas": null,
            "object_position": null,
            "object_fit": null,
            "grid_auto_columns": null,
            "margin": null,
            "display": null,
            "left": null
          }
        },
        "9f0e4cb846014c50ba97e57d23e5dd44": {
          "model_module": "@jupyter-widgets/controls",
          "model_name": "ProgressStyleModel",
          "model_module_version": "1.5.0",
          "state": {
            "_view_name": "StyleView",
            "_model_name": "ProgressStyleModel",
            "description_width": "",
            "_view_module": "@jupyter-widgets/base",
            "_model_module_version": "1.5.0",
            "_view_count": null,
            "_view_module_version": "1.2.0",
            "bar_color": null,
            "_model_module": "@jupyter-widgets/controls"
          }
        },
        "28ee4a404b10426fa375eb712e9333b8": {
          "model_module": "@jupyter-widgets/base",
          "model_name": "LayoutModel",
          "model_module_version": "1.2.0",
          "state": {
            "_view_name": "LayoutView",
            "grid_template_rows": null,
            "right": null,
            "justify_content": null,
            "_view_module": "@jupyter-widgets/base",
            "overflow": null,
            "_model_module_version": "1.2.0",
            "_view_count": null,
            "flex_flow": null,
            "width": "20px",
            "min_width": null,
            "border": null,
            "align_items": null,
            "bottom": null,
            "_model_module": "@jupyter-widgets/base",
            "top": null,
            "grid_column": null,
            "overflow_y": null,
            "overflow_x": null,
            "grid_auto_flow": null,
            "grid_area": null,
            "grid_template_columns": null,
            "flex": null,
            "_model_name": "LayoutModel",
            "justify_items": null,
            "grid_row": null,
            "max_height": null,
            "align_content": null,
            "visibility": null,
            "align_self": null,
            "height": null,
            "min_height": null,
            "padding": null,
            "grid_auto_rows": null,
            "grid_gap": null,
            "max_width": null,
            "order": null,
            "_view_module_version": "1.2.0",
            "grid_template_areas": null,
            "object_position": null,
            "object_fit": null,
            "grid_auto_columns": null,
            "margin": null,
            "display": null,
            "left": null
          }
        },
        "39a824afb6de492dafc1543c3276889d": {
          "model_module": "@jupyter-widgets/controls",
          "model_name": "DescriptionStyleModel",
          "model_module_version": "1.5.0",
          "state": {
            "_view_name": "StyleView",
            "_model_name": "DescriptionStyleModel",
            "description_width": "",
            "_view_module": "@jupyter-widgets/base",
            "_model_module_version": "1.5.0",
            "_view_count": null,
            "_view_module_version": "1.2.0",
            "_model_module": "@jupyter-widgets/controls"
          }
        },
        "760650ae5e554c44845ea191d4e276e9": {
          "model_module": "@jupyter-widgets/base",
          "model_name": "LayoutModel",
          "model_module_version": "1.2.0",
          "state": {
            "_view_name": "LayoutView",
            "grid_template_rows": null,
            "right": null,
            "justify_content": null,
            "_view_module": "@jupyter-widgets/base",
            "overflow": null,
            "_model_module_version": "1.2.0",
            "_view_count": null,
            "flex_flow": null,
            "width": null,
            "min_width": null,
            "border": null,
            "align_items": null,
            "bottom": null,
            "_model_module": "@jupyter-widgets/base",
            "top": null,
            "grid_column": null,
            "overflow_y": null,
            "overflow_x": null,
            "grid_auto_flow": null,
            "grid_area": null,
            "grid_template_columns": null,
            "flex": null,
            "_model_name": "LayoutModel",
            "justify_items": null,
            "grid_row": null,
            "max_height": null,
            "align_content": null,
            "visibility": null,
            "align_self": null,
            "height": null,
            "min_height": null,
            "padding": null,
            "grid_auto_rows": null,
            "grid_gap": null,
            "max_width": null,
            "order": null,
            "_view_module_version": "1.2.0",
            "grid_template_areas": null,
            "object_position": null,
            "object_fit": null,
            "grid_auto_columns": null,
            "margin": null,
            "display": null,
            "left": null
          }
        },
        "934fe1592bd3441ea9d5fa714be08eb3": {
          "model_module": "@jupyter-widgets/controls",
          "model_name": "HBoxModel",
          "model_module_version": "1.5.0",
          "state": {
            "_view_name": "HBoxView",
            "_dom_classes": [],
            "_model_name": "HBoxModel",
            "_view_module": "@jupyter-widgets/controls",
            "_model_module_version": "1.5.0",
            "_view_count": null,
            "_view_module_version": "1.5.0",
            "box_style": "",
            "layout": "IPY_MODEL_fbe7b7148223407ea969fdde666cb6a5",
            "_model_module": "@jupyter-widgets/controls",
            "children": [
              "IPY_MODEL_d8163030283e4353a3fe5d959e3abba9",
              "IPY_MODEL_84d637d3deb44e0b972ca2077f42f056",
              "IPY_MODEL_9505531c772c479c9d23153c0b4f32c0"
            ]
          }
        },
        "fbe7b7148223407ea969fdde666cb6a5": {
          "model_module": "@jupyter-widgets/base",
          "model_name": "LayoutModel",
          "model_module_version": "1.2.0",
          "state": {
            "_view_name": "LayoutView",
            "grid_template_rows": null,
            "right": null,
            "justify_content": null,
            "_view_module": "@jupyter-widgets/base",
            "overflow": null,
            "_model_module_version": "1.2.0",
            "_view_count": null,
            "flex_flow": null,
            "width": null,
            "min_width": null,
            "border": null,
            "align_items": null,
            "bottom": null,
            "_model_module": "@jupyter-widgets/base",
            "top": null,
            "grid_column": null,
            "overflow_y": null,
            "overflow_x": null,
            "grid_auto_flow": null,
            "grid_area": null,
            "grid_template_columns": null,
            "flex": null,
            "_model_name": "LayoutModel",
            "justify_items": null,
            "grid_row": null,
            "max_height": null,
            "align_content": null,
            "visibility": null,
            "align_self": null,
            "height": null,
            "min_height": null,
            "padding": null,
            "grid_auto_rows": null,
            "grid_gap": null,
            "max_width": null,
            "order": null,
            "_view_module_version": "1.2.0",
            "grid_template_areas": null,
            "object_position": null,
            "object_fit": null,
            "grid_auto_columns": null,
            "margin": null,
            "display": null,
            "left": null
          }
        },
        "d8163030283e4353a3fe5d959e3abba9": {
          "model_module": "@jupyter-widgets/controls",
          "model_name": "HTMLModel",
          "model_module_version": "1.5.0",
          "state": {
            "_view_name": "HTMLView",
            "style": "IPY_MODEL_af1f6e0613e64d9197f680d54b8a67c3",
            "_dom_classes": [],
            "description": "",
            "_model_name": "HTMLModel",
            "placeholder": "​",
            "_view_module": "@jupyter-widgets/controls",
            "_model_module_version": "1.5.0",
            "value": "100%",
            "_view_count": null,
            "_view_module_version": "1.5.0",
            "description_tooltip": null,
            "_model_module": "@jupyter-widgets/controls",
            "layout": "IPY_MODEL_0dcbfa4bde514b548630020e7ca1475a"
          }
        },
        "84d637d3deb44e0b972ca2077f42f056": {
          "model_module": "@jupyter-widgets/controls",
          "model_name": "FloatProgressModel",
          "model_module_version": "1.5.0",
          "state": {
            "_view_name": "ProgressView",
            "style": "IPY_MODEL_6b46d18881764acf841ab5ff556f47b4",
            "_dom_classes": [],
            "description": "",
            "_model_name": "FloatProgressModel",
            "bar_style": "danger",
            "max": 100000,
            "_view_module": "@jupyter-widgets/controls",
            "_model_module_version": "1.5.0",
            "value": 99999,
            "_view_count": null,
            "_view_module_version": "1.5.0",
            "orientation": "horizontal",
            "min": 0,
            "description_tooltip": null,
            "_model_module": "@jupyter-widgets/controls",
            "layout": "IPY_MODEL_749677698fcc4441b45c569a048eec38"
          }
        },
        "9505531c772c479c9d23153c0b4f32c0": {
          "model_module": "@jupyter-widgets/controls",
          "model_name": "HTMLModel",
          "model_module_version": "1.5.0",
          "state": {
            "_view_name": "HTMLView",
            "style": "IPY_MODEL_bd99b75b4e1044d09bf09996c06e3e7a",
            "_dom_classes": [],
            "description": "",
            "_model_name": "HTMLModel",
            "placeholder": "​",
            "_view_module": "@jupyter-widgets/controls",
            "_model_module_version": "1.5.0",
            "value": " 99999/100000 [00:11&lt;00:00, 2423.24 examples/s]",
            "_view_count": null,
            "_view_module_version": "1.5.0",
            "description_tooltip": null,
            "_model_module": "@jupyter-widgets/controls",
            "layout": "IPY_MODEL_43de794500844a7ebbfd6a4dac7e0157"
          }
        },
        "af1f6e0613e64d9197f680d54b8a67c3": {
          "model_module": "@jupyter-widgets/controls",
          "model_name": "DescriptionStyleModel",
          "model_module_version": "1.5.0",
          "state": {
            "_view_name": "StyleView",
            "_model_name": "DescriptionStyleModel",
            "description_width": "",
            "_view_module": "@jupyter-widgets/base",
            "_model_module_version": "1.5.0",
            "_view_count": null,
            "_view_module_version": "1.2.0",
            "_model_module": "@jupyter-widgets/controls"
          }
        },
        "0dcbfa4bde514b548630020e7ca1475a": {
          "model_module": "@jupyter-widgets/base",
          "model_name": "LayoutModel",
          "model_module_version": "1.2.0",
          "state": {
            "_view_name": "LayoutView",
            "grid_template_rows": null,
            "right": null,
            "justify_content": null,
            "_view_module": "@jupyter-widgets/base",
            "overflow": null,
            "_model_module_version": "1.2.0",
            "_view_count": null,
            "flex_flow": null,
            "width": null,
            "min_width": null,
            "border": null,
            "align_items": null,
            "bottom": null,
            "_model_module": "@jupyter-widgets/base",
            "top": null,
            "grid_column": null,
            "overflow_y": null,
            "overflow_x": null,
            "grid_auto_flow": null,
            "grid_area": null,
            "grid_template_columns": null,
            "flex": null,
            "_model_name": "LayoutModel",
            "justify_items": null,
            "grid_row": null,
            "max_height": null,
            "align_content": null,
            "visibility": null,
            "align_self": null,
            "height": null,
            "min_height": null,
            "padding": null,
            "grid_auto_rows": null,
            "grid_gap": null,
            "max_width": null,
            "order": null,
            "_view_module_version": "1.2.0",
            "grid_template_areas": null,
            "object_position": null,
            "object_fit": null,
            "grid_auto_columns": null,
            "margin": null,
            "display": null,
            "left": null
          }
        },
        "6b46d18881764acf841ab5ff556f47b4": {
          "model_module": "@jupyter-widgets/controls",
          "model_name": "ProgressStyleModel",
          "model_module_version": "1.5.0",
          "state": {
            "_view_name": "StyleView",
            "_model_name": "ProgressStyleModel",
            "description_width": "",
            "_view_module": "@jupyter-widgets/base",
            "_model_module_version": "1.5.0",
            "_view_count": null,
            "_view_module_version": "1.2.0",
            "bar_color": null,
            "_model_module": "@jupyter-widgets/controls"
          }
        },
        "749677698fcc4441b45c569a048eec38": {
          "model_module": "@jupyter-widgets/base",
          "model_name": "LayoutModel",
          "model_module_version": "1.2.0",
          "state": {
            "_view_name": "LayoutView",
            "grid_template_rows": null,
            "right": null,
            "justify_content": null,
            "_view_module": "@jupyter-widgets/base",
            "overflow": null,
            "_model_module_version": "1.2.0",
            "_view_count": null,
            "flex_flow": null,
            "width": null,
            "min_width": null,
            "border": null,
            "align_items": null,
            "bottom": null,
            "_model_module": "@jupyter-widgets/base",
            "top": null,
            "grid_column": null,
            "overflow_y": null,
            "overflow_x": null,
            "grid_auto_flow": null,
            "grid_area": null,
            "grid_template_columns": null,
            "flex": null,
            "_model_name": "LayoutModel",
            "justify_items": null,
            "grid_row": null,
            "max_height": null,
            "align_content": null,
            "visibility": null,
            "align_self": null,
            "height": null,
            "min_height": null,
            "padding": null,
            "grid_auto_rows": null,
            "grid_gap": null,
            "max_width": null,
            "order": null,
            "_view_module_version": "1.2.0",
            "grid_template_areas": null,
            "object_position": null,
            "object_fit": null,
            "grid_auto_columns": null,
            "margin": null,
            "display": null,
            "left": null
          }
        },
        "bd99b75b4e1044d09bf09996c06e3e7a": {
          "model_module": "@jupyter-widgets/controls",
          "model_name": "DescriptionStyleModel",
          "model_module_version": "1.5.0",
          "state": {
            "_view_name": "StyleView",
            "_model_name": "DescriptionStyleModel",
            "description_width": "",
            "_view_module": "@jupyter-widgets/base",
            "_model_module_version": "1.5.0",
            "_view_count": null,
            "_view_module_version": "1.2.0",
            "_model_module": "@jupyter-widgets/controls"
          }
        },
        "43de794500844a7ebbfd6a4dac7e0157": {
          "model_module": "@jupyter-widgets/base",
          "model_name": "LayoutModel",
          "model_module_version": "1.2.0",
          "state": {
            "_view_name": "LayoutView",
            "grid_template_rows": null,
            "right": null,
            "justify_content": null,
            "_view_module": "@jupyter-widgets/base",
            "overflow": null,
            "_model_module_version": "1.2.0",
            "_view_count": null,
            "flex_flow": null,
            "width": null,
            "min_width": null,
            "border": null,
            "align_items": null,
            "bottom": null,
            "_model_module": "@jupyter-widgets/base",
            "top": null,
            "grid_column": null,
            "overflow_y": null,
            "overflow_x": null,
            "grid_auto_flow": null,
            "grid_area": null,
            "grid_template_columns": null,
            "flex": null,
            "_model_name": "LayoutModel",
            "justify_items": null,
            "grid_row": null,
            "max_height": null,
            "align_content": null,
            "visibility": null,
            "align_self": null,
            "height": null,
            "min_height": null,
            "padding": null,
            "grid_auto_rows": null,
            "grid_gap": null,
            "max_width": null,
            "order": null,
            "_view_module_version": "1.2.0",
            "grid_template_areas": null,
            "object_position": null,
            "object_fit": null,
            "grid_auto_columns": null,
            "margin": null,
            "display": null,
            "left": null
          }
        }
      }
    }
  },
  "cells": [
    {
      "cell_type": "markdown",
      "metadata": {
        "id": "GXCK2JuMOx4Q"
      },
      "source": [
        "**ALTERNATE CODE FOR GETTING DATASET, NOT USED IN MY FINAL CODE**"
      ]
    },
    {
      "cell_type": "code",
      "metadata": {
        "id": "omyHN9H3Nyui"
      },
      "source": [
        "from __future__ import print_function\n",
        "\n",
        "import sys\n",
        "import os, sys, tarfile, errno\n",
        "import numpy as np\n",
        "import matplotlib.pyplot as plt\n",
        "    \n",
        "if sys.version_info >= (3, 0, 0):\n",
        "    import urllib.request as urllib # ugly but works\n",
        "else:\n",
        "    import urllib\n",
        "\n",
        "try:\n",
        "    from imageio import imsave\n",
        "except:\n",
        "    from scipy.misc import imsave\n",
        "\n",
        "print(sys.version_info) \n",
        "\n",
        "# image shape\n",
        "HEIGHT = 96\n",
        "WIDTH = 96\n",
        "DEPTH = 3\n",
        "\n",
        "# size of a single image in bytes\n",
        "SIZE = HEIGHT * WIDTH * DEPTH\n",
        "\n",
        "# path to the directory with the data\n",
        "DATA_DIR = './data'\n",
        "\n",
        "# url of the binary data\n",
        "DATA_URL = 'http://ai.stanford.edu/~acoates/stl10/stl10_binary.tar.gz'\n",
        "\n",
        "# path to the binary train file with image data\n",
        "DATA_PATH = './data/stl10_binary/train_X.bin'\n",
        "\n",
        "# path to the binary train file with labels\n",
        "LABEL_PATH = './data/stl10_binary/train_y.bin'\n",
        "\n",
        "def read_labels(path_to_labels):\n",
        "    \"\"\"\n",
        "    :param path_to_labels: path to the binary file containing labels from the STL-10 dataset\n",
        "    :return: an array containing the labels\n",
        "    \"\"\"\n",
        "    with open(path_to_labels, 'rb') as f:\n",
        "        labels = np.fromfile(f, dtype=np.uint8)\n",
        "        return labels\n",
        "\n",
        "\n",
        "def read_all_images(path_to_data):\n",
        "    \"\"\"\n",
        "    :param path_to_data: the file containing the binary images from the STL-10 dataset\n",
        "    :return: an array containing all the images\n",
        "    \"\"\"\n",
        "\n",
        "    with open(path_to_data, 'rb') as f:\n",
        "        # read whole file in uint8 chunks\n",
        "        everything = np.fromfile(f, dtype=np.uint8)\n",
        "\n",
        "        # We force the data into 3x96x96 chunks, since the\n",
        "        # images are stored in \"column-major order\", meaning\n",
        "        # that \"the first 96*96 values are the red channel,\n",
        "        # the next 96*96 are green, and the last are blue.\"\n",
        "        # The -1 is since the size of the pictures depends\n",
        "        # on the input file, and this way numpy determines\n",
        "        # the size on its own.\n",
        "\n",
        "        images = np.reshape(everything, (-1, 3, 96, 96))\n",
        "\n",
        "        # Now transpose the images into a standard image format\n",
        "        # readable by, for example, matplotlib.imshow\n",
        "        # You might want to comment this line or reverse the shuffle\n",
        "        # if you will use a learning algorithm like CNN, since they like\n",
        "        # their channels separated.\n",
        "        images = np.transpose(images, (0, 3, 2, 1))\n",
        "        return images\n",
        "\n",
        "\n",
        "def read_single_image(image_file):\n",
        "    \"\"\"\n",
        "    CAREFUL! - this method uses a file as input instead of the path - so the\n",
        "    position of the reader will be remembered outside of context of this method.\n",
        "    :param image_file: the open file containing the images\n",
        "    :return: a single image\n",
        "    \"\"\"\n",
        "    # read a single image, count determines the number of uint8's to read\n",
        "    image = np.fromfile(image_file, dtype=np.uint8, count=SIZE)\n",
        "    # force into image matrix\n",
        "    image = np.reshape(image, (3, 96, 96))\n",
        "    # transpose to standard format\n",
        "    # You might want to comment this line or reverse the shuffle\n",
        "    # if you will use a learning algorithm like CNN, since they like\n",
        "    # their channels separated.\n",
        "    image = np.transpose(image, (2, 1, 0))\n",
        "    return image\n",
        "\n",
        "\n",
        "def plot_image(image):\n",
        "    \"\"\"\n",
        "    :param image: the image to be plotted in a 3-D matrix format\n",
        "    :return: None\n",
        "    \"\"\"\n",
        "    plt.imshow(image)\n",
        "    plt.show()\n",
        "\n",
        "def save_image(image, name):\n",
        "    imsave(\"%s.png\" % name, image, format=\"png\")\n",
        "\n",
        "def download_and_extract():\n",
        "    \"\"\"\n",
        "    Download and extract the STL-10 dataset\n",
        "    :return: None\n",
        "    \"\"\"\n",
        "    dest_directory = DATA_DIR\n",
        "    if not os.path.exists(dest_directory):\n",
        "        os.makedirs(dest_directory)\n",
        "    filename = DATA_URL.split('/')[-1]\n",
        "    filepath = os.path.join(dest_directory, filename)\n",
        "    if not os.path.exists(filepath):\n",
        "        def _progress(count, block_size, total_size):\n",
        "            sys.stdout.write('\\rDownloading %s %.2f%%' % (filename,\n",
        "                float(count * block_size) / float(total_size) * 100.0))\n",
        "            sys.stdout.flush()\n",
        "        filepath, _ = urllib.urlretrieve(DATA_URL, filepath, reporthook=_progress)\n",
        "        print('Downloaded', filename)\n",
        "        tarfile.open(filepath, 'r:gz').extractall(dest_directory)\n",
        "\n",
        "def save_images(images, labels):\n",
        "    print(\"Saving images to disk\")\n",
        "    i = 0\n",
        "    for image in images:\n",
        "        label = labels[i]\n",
        "        directory = './img/' + str(label) + '/'\n",
        "        try:\n",
        "            os.makedirs(directory, exist_ok=True)\n",
        "        except OSError as exc:\n",
        "            if exc.errno == errno.EEXIST:\n",
        "                pass\n",
        "        filename = directory + str(i)\n",
        "        print(filename)\n",
        "        save_image(image, filename)\n",
        "        i = i+1\n",
        "    \n",
        "if __name__ == \"__main__\":\n",
        "    # download data if needed\n",
        "    download_and_extract()\n",
        "\n",
        "    # test to check if the image is read correctly\n",
        "    with open(DATA_PATH) as f:\n",
        "        image = read_single_image(f)\n",
        "        plot_image(image)\n",
        "\n",
        "    # test to check if the whole dataset is read correctly\n",
        "    images = read_all_images(DATA_PATH)\n",
        "    print(images.shape)\n",
        "\n",
        "    labels = read_labels(LABEL_PATH)\n",
        "    print(labels.shape)\n",
        "\n",
        "    # save images to disk\n",
        "    save_images(images, labels)"
      ],
      "execution_count": null,
      "outputs": []
    },
    {
      "cell_type": "code",
      "metadata": {
        "colab": {
          "base_uri": "https://localhost:8080/"
        },
        "id": "WC0BNL8JO6PQ",
        "outputId": "10e4e155-b89c-452f-ee1c-8e56857d4455"
      },
      "source": [
        "labels.shape"
      ],
      "execution_count": null,
      "outputs": [
        {
          "output_type": "execute_result",
          "data": {
            "text/plain": [
              "(5000,)"
            ]
          },
          "metadata": {
            "tags": []
          },
          "execution_count": 3
        }
      ]
    },
    {
      "cell_type": "code",
      "metadata": {
        "colab": {
          "base_uri": "https://localhost:8080/"
        },
        "id": "RUg3LLeZpu-Y",
        "outputId": "9ceab94e-ed86-4c7c-bff5-b3b0ea856849"
      },
      "source": [
        "images.shape"
      ],
      "execution_count": null,
      "outputs": [
        {
          "output_type": "execute_result",
          "data": {
            "text/plain": [
              "(5000, 96, 96, 3)"
            ]
          },
          "metadata": {
            "tags": []
          },
          "execution_count": 4
        }
      ]
    },
    {
      "cell_type": "markdown",
      "metadata": {
        "id": "wrszQZzLsN8m"
      },
      "source": [
        "**LOADING DATASET WITH TENSORFLOW DATASETS**"
      ]
    },
    {
      "cell_type": "code",
      "metadata": {
        "id": "Yp69v9t1sRFY"
      },
      "source": [
        "import matplotlib.pyplot as plt\n",
        "import numpy as np\n",
        "import tensorflow as tf\n",
        "import tensorflow_datasets as tfds"
      ],
      "execution_count": null,
      "outputs": []
    },
    {
      "cell_type": "markdown",
      "metadata": {
        "id": "ouyTvjocteTJ"
      },
      "source": [
        "**TRAIN DATASET**"
      ]
    },
    {
      "cell_type": "code",
      "metadata": {
        "colab": {
          "base_uri": "https://localhost:8080/",
          "height": 343,
          "referenced_widgets": [
            "e7aaf6756ecc4b99a2ba8442c27e9165",
            "984a8b290e524581a121d59e560db81a",
            "6786a2b0da564ba4b4a0844fab17e433",
            "a4d324e1d7374a539205ba43382429de",
            "b1450c8cb56740f2899a2b101f2026a7",
            "36c03be28ec448b6ae44df2d1d59e062",
            "11dd392272464fdf84eed5ed7f80d884",
            "e50748d39a494043bc08c93f84c6996e",
            "c36dc9958e0d4c53a095b735b9347ee8",
            "92ee33687cce432989327c8cc8eb1cca",
            "011849b29c694e4bb7531e31067841ae",
            "303e2f5d887944c6a38e6af93a0e0894",
            "eb55ab53067a42fc8e798439772a3d43",
            "43eaa4814db948fb885b56ffef0ad5b7",
            "ae3b319667264a75a678b8a1596228d8",
            "9f9cb3df03f843c1a5c898df832fbf34",
            "5bf283b491a24a208d2d3601865559a3",
            "1c41ccfa4a2e4bc68c46a68189e61a12",
            "0e35147051fd4394a63413d6aa21a99a",
            "a307e7cc67084b83b23d17e338258d9d",
            "9b208eda044342ab9960d3a50e92f0ea",
            "986d2fcc56c045f985857b13ba8fb2ba",
            "8b6f9262d95b4e0eb3e7e5709aca0065",
            "4921865beb7e455196cc60223c566eac",
            "70fdcc878b094d3bab23829605a93e85",
            "aef946672e0c492191b07f2ff69b605c",
            "9710b388bd004f3d83a604fcae89a177",
            "4e4890aee7b9466d96d4e6b4a015773f",
            "ec3ab755c7b1445296003655762ab059",
            "a340e8b35370461a8519223fe64cd8d9",
            "4a099af15a784d5cb64530abfcce7a2e",
            "a0730996e5624c979dcd659381277a44",
            "9ab98a8b48eb4133b70022b42734403a",
            "02e221027d6b4b438e77e7e4caa8c81f",
            "8200bab8bb6d48e795d0e2ce8bf2d7d1",
            "a5561ec9e00f409095a21fbb24e7f8f2",
            "49bfaa76504a41ffb95f9699342f6ef5",
            "c223a0d3b6434d10a2ce0b0f63818e87",
            "95317433c0c74518a39f12d2dfc6f872",
            "57ed2bc344bd4046bc94d801e4ced108",
            "916a20302c8948b6ad93b0946c975c72",
            "a4dfca134235465392d5f39cb89be6b5",
            "427497a5f5754c5792f7f0f0f2d52482",
            "b0f0d25e418e44dc853063b9d5303f83",
            "1de3838ac53348f494dc5c0d1a267368",
            "1268c3fb45f0491dbbf017b8d48cdfbe",
            "f8f01551b0b84250ae6f88844e75d2a1",
            "37b84879cc8d42169b48a6ae7f846bd5",
            "66fdbee3082e428d91d2c1e1e07067d0",
            "c28209ef9bae4fd8872c3a52a8deec8f",
            "509d01a0984b433f8851e5a310515762",
            "7bbb86238b294c5eb43e0b51dcd652d8",
            "6b0434cd29904943ba2e66774bf2c090",
            "dcece277e64a4f69953cdb9c43202a68",
            "a8709c9621854704ab91003bb16d6c2e",
            "775dea37c95a4cfdb45820bbad64171c",
            "f2bb6516d67a414e877815e2bd75ebd7",
            "d5b1245b9a9b4938a636654152331449",
            "73247189abe84fe7a452e2430aed3cce",
            "ff078c0044254e55b46a92a9de3a59e3",
            "8da76e224c094fd0a5dfaed733e48d49",
            "985e8b12268f49958e8ac98c29601f3e",
            "8f3e3a965f8945dfad639d667699d614",
            "6d1b8fcc173240fa99eb4223b48ce6a7",
            "4a2634a10b984b62badac2a908ab9d56",
            "0867e033bcdd4888b30e50624a935aa6",
            "1c8bbed4c2824fe492da6e8529c9556a",
            "552d38165f1f4943abc41d2c93868ec1",
            "ee6173253966425aa8101db134e2c3a1",
            "888c89113032424ea8496a1e1c2e6af3",
            "89bebc614a094afd822c82dc388b6405",
            "3c37c61f00384ba880ce54c1d5c452e7",
            "77fce4b312a041268287cf01b49461f4",
            "89b13c6f7b1949ff989000b6113dc343",
            "d8d80c3a7491475884193f92b0dcf26b",
            "1c5e302c9cf947de813ffa826312f167",
            "ed877a8de0cc47f8b58a73f678aeed6f",
            "0d7a1f47b523483fbc9168554830938f",
            "0d8a98e2aaa64cbe8974e6e1b4a76fd0",
            "3322a87063ff4dedbf46bbf0763f871c",
            "1f5a5ad8647541a9a7559da5f3b9cb23",
            "b381425ab4054955a059c2ca5d78f519",
            "c706436221da4c8ca56d9758f39ef9a7",
            "8bbe4dd94257412da13037b65d2dd92d",
            "9f0e4cb846014c50ba97e57d23e5dd44",
            "28ee4a404b10426fa375eb712e9333b8",
            "39a824afb6de492dafc1543c3276889d",
            "760650ae5e554c44845ea191d4e276e9",
            "934fe1592bd3441ea9d5fa714be08eb3",
            "fbe7b7148223407ea969fdde666cb6a5",
            "d8163030283e4353a3fe5d959e3abba9",
            "84d637d3deb44e0b972ca2077f42f056",
            "9505531c772c479c9d23153c0b4f32c0",
            "af1f6e0613e64d9197f680d54b8a67c3",
            "0dcbfa4bde514b548630020e7ca1475a",
            "6b46d18881764acf841ab5ff556f47b4",
            "749677698fcc4441b45c569a048eec38",
            "bd99b75b4e1044d09bf09996c06e3e7a",
            "43de794500844a7ebbfd6a4dac7e0157"
          ]
        },
        "id": "CIr0MpyYsUCn",
        "outputId": "910f54e6-12f5-4e08-8a64-ac50660a9739"
      },
      "source": [
        "labelled_train, info = (tfds.load('stl10', split='train', with_info=True, as_supervised=True))"
      ],
      "execution_count": null,
      "outputs": [
        {
          "output_type": "stream",
          "text": [
            "\u001b[1mDownloading and preparing dataset stl10/1.0.0 (download: 2.46 GiB, generated: 1.86 GiB, total: 4.32 GiB) to /root/tensorflow_datasets/stl10/1.0.0...\u001b[0m\n"
          ],
          "name": "stdout"
        },
        {
          "output_type": "display_data",
          "data": {
            "application/vnd.jupyter.widget-view+json": {
              "model_id": "e7aaf6756ecc4b99a2ba8442c27e9165",
              "version_minor": 0,
              "version_major": 2
            },
            "text/plain": [
              "Dl Completed...: 0 url [00:00, ? url/s]"
            ]
          },
          "metadata": {
            "tags": []
          }
        },
        {
          "output_type": "display_data",
          "data": {
            "application/vnd.jupyter.widget-view+json": {
              "model_id": "303e2f5d887944c6a38e6af93a0e0894",
              "version_minor": 0,
              "version_major": 2
            },
            "text/plain": [
              "Dl Size...: 0 MiB [00:00, ? MiB/s]"
            ]
          },
          "metadata": {
            "tags": []
          }
        },
        {
          "output_type": "display_data",
          "data": {
            "application/vnd.jupyter.widget-view+json": {
              "model_id": "8b6f9262d95b4e0eb3e7e5709aca0065",
              "version_minor": 0,
              "version_major": 2
            },
            "text/plain": [
              "Extraction completed...: 0 file [00:00, ? file/s]"
            ]
          },
          "metadata": {
            "tags": []
          }
        },
        {
          "output_type": "stream",
          "text": [
            "\n",
            "\n",
            "\n"
          ],
          "name": "stdout"
        },
        {
          "output_type": "display_data",
          "data": {
            "application/vnd.jupyter.widget-view+json": {
              "model_id": "02e221027d6b4b438e77e7e4caa8c81f",
              "version_minor": 0,
              "version_major": 2
            },
            "text/plain": [
              "0 examples [00:00, ? examples/s]"
            ]
          },
          "metadata": {
            "tags": []
          }
        },
        {
          "output_type": "stream",
          "text": [
            "Shuffling and writing examples to /root/tensorflow_datasets/stl10/1.0.0.incompleteE7AQHT/stl10-train.tfrecord\n"
          ],
          "name": "stdout"
        },
        {
          "output_type": "display_data",
          "data": {
            "application/vnd.jupyter.widget-view+json": {
              "model_id": "1de3838ac53348f494dc5c0d1a267368",
              "version_minor": 0,
              "version_major": 2
            },
            "text/plain": [
              "  0%|          | 0/5000 [00:00<?, ? examples/s]"
            ]
          },
          "metadata": {
            "tags": []
          }
        },
        {
          "output_type": "display_data",
          "data": {
            "application/vnd.jupyter.widget-view+json": {
              "model_id": "775dea37c95a4cfdb45820bbad64171c",
              "version_minor": 0,
              "version_major": 2
            },
            "text/plain": [
              "0 examples [00:00, ? examples/s]"
            ]
          },
          "metadata": {
            "tags": []
          }
        },
        {
          "output_type": "stream",
          "text": [
            "Shuffling and writing examples to /root/tensorflow_datasets/stl10/1.0.0.incompleteE7AQHT/stl10-test.tfrecord\n"
          ],
          "name": "stdout"
        },
        {
          "output_type": "display_data",
          "data": {
            "application/vnd.jupyter.widget-view+json": {
              "model_id": "1c8bbed4c2824fe492da6e8529c9556a",
              "version_minor": 0,
              "version_major": 2
            },
            "text/plain": [
              "  0%|          | 0/8000 [00:00<?, ? examples/s]"
            ]
          },
          "metadata": {
            "tags": []
          }
        },
        {
          "output_type": "display_data",
          "data": {
            "application/vnd.jupyter.widget-view+json": {
              "model_id": "0d7a1f47b523483fbc9168554830938f",
              "version_minor": 0,
              "version_major": 2
            },
            "text/plain": [
              "0 examples [00:00, ? examples/s]"
            ]
          },
          "metadata": {
            "tags": []
          }
        },
        {
          "output_type": "stream",
          "text": [
            "Shuffling and writing examples to /root/tensorflow_datasets/stl10/1.0.0.incompleteE7AQHT/stl10-unlabelled.tfrecord\n"
          ],
          "name": "stdout"
        },
        {
          "output_type": "display_data",
          "data": {
            "application/vnd.jupyter.widget-view+json": {
              "model_id": "934fe1592bd3441ea9d5fa714be08eb3",
              "version_minor": 0,
              "version_major": 2
            },
            "text/plain": [
              "  0%|          | 0/100000 [00:00<?, ? examples/s]"
            ]
          },
          "metadata": {
            "tags": []
          }
        },
        {
          "output_type": "stream",
          "text": [
            "\u001b[1mDataset stl10 downloaded and prepared to /root/tensorflow_datasets/stl10/1.0.0. Subsequent calls will reuse this data.\u001b[0m\n"
          ],
          "name": "stdout"
        }
      ]
    },
    {
      "cell_type": "markdown",
      "metadata": {
        "id": "LccuLzZdtyqJ"
      },
      "source": [
        "**STL10 DATASET INFO**"
      ]
    },
    {
      "cell_type": "code",
      "metadata": {
        "colab": {
          "base_uri": "https://localhost:8080/"
        },
        "id": "5tCUsVeHsyed",
        "outputId": "7c8057a9-e241-47dd-a83b-1817fe2d5233"
      },
      "source": [
        "print(info)"
      ],
      "execution_count": null,
      "outputs": [
        {
          "output_type": "stream",
          "text": [
            "tfds.core.DatasetInfo(\n",
            "    name='stl10',\n",
            "    version=1.0.0,\n",
            "    description='The STL-10 dataset is an image recognition dataset for developing unsupervised\n",
            "feature learning, deep learning, self-taught learning algorithms. It is inspired\n",
            "by the CIFAR-10 dataset but with some modifications. In particular, each class\n",
            "has fewer labeled training examples than in CIFAR-10, but a very large set of \n",
            "unlabeled examples is provided to learn image models prior to supervised\n",
            "training. The primary challenge is to make use of the unlabeled data (which\n",
            "comes from a similar but different distribution from the labeled data) to build\n",
            "a useful prior. All images were acquired from labeled examples on ImageNet.',\n",
            "    homepage='http://ai.stanford.edu/~acoates/stl10/',\n",
            "    features=FeaturesDict({\n",
            "        'image': Image(shape=(96, 96, 3), dtype=tf.uint8),\n",
            "        'label': ClassLabel(shape=(), dtype=tf.int64, num_classes=10),\n",
            "    }),\n",
            "    total_num_examples=113000,\n",
            "    splits={\n",
            "        'test': 8000,\n",
            "        'train': 5000,\n",
            "        'unlabelled': 100000,\n",
            "    },\n",
            "    supervised_keys=('image', 'label'),\n",
            "    citation=\"\"\"@inproceedings{coates2011stl10,\n",
            "      title={{An Analysis of Single Layer Networks in Unsupervised Feature Learning}},\n",
            "      author={Coates, Adam and Ng, Andrew and Lee, Honglak},\n",
            "      booktitle={AISTATS},\n",
            "      year={2011},\n",
            "      note = {\\url{https://cs.stanford.edu/~acoates/papers/coatesleeng_aistats_2011.pdf}},\n",
            "    }\"\"\",\n",
            "    redistribution_info=,\n",
            ")\n",
            "\n"
          ],
          "name": "stdout"
        }
      ]
    },
    {
      "cell_type": "markdown",
      "metadata": {
        "id": "r_9NwSAnuOXc"
      },
      "source": [
        "**VIEWING FIRSTFEW IMAGES AND LABELS**"
      ]
    },
    {
      "cell_type": "code",
      "metadata": {
        "colab": {
          "base_uri": "https://localhost:8080/",
          "height": 557
        },
        "id": "N_kFoSx8t6CY",
        "outputId": "2b52eb81-e06b-4c03-a0f4-09325e0ba58b"
      },
      "source": [
        "tfds.as_dataframe(labelled_train.take(5), info)\n",
        "# EXTREMELY RARE PARKOUR CAT AT 3"
      ],
      "execution_count": null,
      "outputs": [
        {
          "output_type": "execute_result",
          "data": {
            "text/html": [
              "<style  type=\"text/css\" >\n",
              "</style><table id=\"T_1a774ab4_fd89_11eb_bb69_0242ac1c0002\" ><thead>    <tr>        <th class=\"blank level0\" ></th>        <th class=\"col_heading level0 col0\" >image</th>        <th class=\"col_heading level0 col1\" >label</th>    </tr></thead><tbody>\n",
              "                <tr>\n",
              "                        <th id=\"T_1a774ab4_fd89_11eb_bb69_0242ac1c0002level0_row0\" class=\"row_heading level0 row0\" >0</th>\n",
              "                        <td id=\"T_1a774ab4_fd89_11eb_bb69_0242ac1c0002row0_col0\" class=\"data row0 col0\" ><img src=\"data:image/png;base64,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\" alt=\"Img\" /></td>\n",
              "                        <td id=\"T_1a774ab4_fd89_11eb_bb69_0242ac1c0002row0_col1\" class=\"data row0 col1\" >1 (bird)</td>\n",
              "            </tr>\n",
              "            <tr>\n",
              "                        <th id=\"T_1a774ab4_fd89_11eb_bb69_0242ac1c0002level0_row1\" class=\"row_heading level0 row1\" >1</th>\n",
              "                        <td id=\"T_1a774ab4_fd89_11eb_bb69_0242ac1c0002row1_col0\" class=\"data row1 col0\" ><img src=\"data:image/png;base64,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\" alt=\"Img\" /></td>\n",
              "                        <td id=\"T_1a774ab4_fd89_11eb_bb69_0242ac1c0002row1_col1\" class=\"data row1 col1\" >0 (airplane)</td>\n",
              "            </tr>\n",
              "            <tr>\n",
              "                        <th id=\"T_1a774ab4_fd89_11eb_bb69_0242ac1c0002level0_row2\" class=\"row_heading level0 row2\" >2</th>\n",
              "                        <td id=\"T_1a774ab4_fd89_11eb_bb69_0242ac1c0002row2_col0\" class=\"data row2 col0\" ><img src=\"data:image/png;base64,iVBORw0KGgoAAAANSUhEUgAAAGAAAABgCAIAAABt+uBvAAA3HklEQVR4nO28WbNl2XEe9mWutfZwpnvuVGNXV1fP6G6CAAECJBGiRVkKORx2OOwn+9E/wA/+TYrwg2SFHIqgQmaQMicNFAGi0QAB9FRV3TXXne8Z9rBWZvph7X2r5fBPwHmouvfcc/ZeK1fml19OG/jN6zev37x+8/rN6zev37x+8/rN6zev/58X/aP/+h/DCDCQGYhgZAQg/wMDQABAIJCZAQDMiMgMICOQAWTD9YwIyL8QYATLF8yfHm86XjvfEMOtDYDh6vvjhw0gGIEA+8afv/E5IgyX1/FPV3+9ui+Nm6HxHYN947dv3Hb4soHI6F/8y38FIhgDSjAjEIhsWKnBCCCQvtqYGYOMANNhaUYgfrUiQhYAFOAsMIMRmKAAFASAAUM+EtJhsXmlSsMqs9RJYTzuCGSAAZxvZsOaiZBllCXCZmAaPkLjXbKw8smDFJZlowQ2Aows3zof/Xi4vus6IoO5LDaDgoiGS5MAnD+ddQukJADYsmg4b2xQt0GysOEQyaAGMEihNKxSs/yycPNFxoO+OkLj/0LQZEajYA3GBALJuFXY8FGy4a2sNTTqeVYcBxKzLM9sLzYeOBFgpJR3aXnrWUXAPK4n6yeB2YwMZGw2yNYA1XwnYcsbyeclBM0iYRvey9pIUIPm6xPAIBqU3PQb0jAjMzNgUXayuchKRDac9aCUZllCZEQgAtRMjRXQfDmwGptlnVQDDypGZjqetakZYDZc1IjAgyyGQ2C7AgKyvDAi4+EAYUoEEsKg/ga1Qfnz9wBSgCgfIAhgG8GBLBsg6dWuKO9HB6yBwYxgIB6Ec6WlIMg2XT5K/Tov0WiUksEM+Zgk/2gjxgynOKi7DSsd8cigMDPLWmVXIJHPyUZrsVHp8hHYAD1mBDaQmoEVYjAHzidiUIMp8lEJZdMgR0SGEU+GtSohgw9A+f75zjxKycbdZoGRgVXHHeTjM3Le/fqTv/3jf/sX67YjcD5QNcDYvnE8NB61wYjEXkHOIHrD4AqyZg24NGirmTJefQcGUwigmlUQCogNGG8GhYGMyIwZBKgi2QAd2SL0ymPlqxgAYxlOnEYDUTPJJkggGJNdeYysQkqmw8ZMKWs5mI2MstGqamzPj995681isjNKVpgMNEBxtp4MSGQMIzVHo+syKCDjOeT1G6AZZIdVQvJvAyAMRkcADUcCAEwgmKryiH0wqDe7cpODZ7ZsCNns2cwGP040KIoOpzV401FhR13JUqAB2TM5uFo9j2Yy+ly0zUUItH/9FnwFqBLIXPZWls3BjKAYVq35TtmX0rguG9WOjDhr0yviAAZnT3blBLI/AQ2cJrMcNSJzV2ZCRiDyOgCaw3D0Mn6As58jEEENZsZElu+kxhgtB6bZBoYbg/L6bAAg+gYNyd4gH1+WgbYXR1UROFTgkGF3IEewfPWRq9jgAzKoDFxFCTp68avDolF/RlwY7IAIAAmMARn+MCoAKYGUaMRMylImZhiMFWowmIzsA8Nas4WaZZWGgYjMiLMak5ppXj9lPjBIzQjgEauvHLhlRchqQMYgjd3q7PliuVQK7HlEFTOC0Te0OsPWN/jmKwAYaN4rQwayxr3S5kGnbbj7YG2W3TUGnz/YL0b+xIBll4TRrVgGJhpYG2ftzizPyBRmxmYwUoUQBsXP9DavY3TbplDFyDfMYGqkgzujK4esXbdtVpvdvf0o4yqRyYiRjRwGpHAEHt4dvNjAK0bcHRnxoAI8rIzz6r4hL7DZsCaDZnVXAkht8HTjIZJZpoEGYYNpFqfaAIc2MFjSLEK+Wsh4mxHTs2cceFcW/6BxpGqUL0yaPdTgKQgUU+y3F9458oFClX36uGcCjDGqKkRHx5it3TDSuRERBh9qY3BBgittuCLi2cVlFpsXZBgA3ogMRpq1Nx85iPxAJGkkHlmCpCOzI1MeTsAAksEyB/AdIreBrWY2l89j4AIMGBuPEJjtTQjOiLpuu11dTBazXsgXRSY3I5IOJ29gGjR8NNXhnMUyPg76PdAeUCZ5+dY67HwAJIzrGigrgYlMBzKiryIY0wEGVTkTSoOCFGSKIbK84nc0ehMDw9xo9SZmQzyjzMY00PFB09VeBSJZvkyZaKmBjBBjC4lnJ0e7uztRHMgBMkjHZLiSMdlAT4hsEP1wwjSYafZFozMmIwaPODhwyJEAjhA2on8GBJACOsaemQKNHgLGNsZZMGMjpsxKs3oAV14QxjAazM2MMp9XkI0rkMGqAYMOWotvKMQQAyETnLbtYt8k6YuihKuQg2DYECvQiDCUmYQOAGZ09TH6Ruw2BKPgvAb95vliJJJmIwSrXf0Fo0EBmql+dgZjqMyUPd2AhaNQzEZvbCNjsSEmhylZdl4KymdoMFUbfYqO9ps1aRBb5inZCSfRmFK7Od9Z7PRRfTmlARRtoNKZxdGwjjHgzDakV5xiEBYGGLxSeTJo1iEbg84BO3TwjANQ21VQQwBBiYajBRlM86EN6IZBV2mMhUc8vUJ2jAFOJitgfqXtqtKbXQXWIzPJKRXC1VrzpprtOjg0F2cHy502WiiKgT0Op4ysBWojYxgZ31VSY/BlmbLnZQ8HoTbIR0YPn7Hs6rDNxgh/5As23jhjbv4xZzWIB1c3gL1lKY7fpvFiNjoRgrkslabZgixzbecotZsqUOBhySrStmui7BZtyLEABqhp27aeuvX2cjabJmXHA38d6OXAu3VkDzQSczXoQGtABoUpSHJMbSP/GgRoZAbiTBu/CTqZKH3DYY76ONpPvi1n4Wbqbzq8dSVh2JhGyyKiQSWzoBgwSf16fS7Si6bC4XCmM7ssXEqpjzFJkhjH9JiNjA1GhHa7Jeet28ymM7AJHGi89UDNR689+J7MiTlvLYPSlb0DnMUyosQQB47KgiEmudIBvPoNA4fINBhXOvgKu0z9FdUbwgqQGdR0dAEYU21EY4hKRKppfXnGoVKDiTYbfnL/CxM7vPuOZwZM1YjY5jzwV8gYZ9B2s5lOJpvnp3du7DRN08YpkY3WfhXaIePRgO3ZPIZQebRFoowD39iw0niXMY4wwA1xeCZPmXCOajYaq45caXDbICWwwvxIsoZsglr2MldJ1yzxTEy/GTG6sizXq3XsWhCJ9J/89CdnG/vHu9frIqTYiupyeY3MdAz0c6zadQ2ISbuHj55897sfdqv2YP+aSsZOpSEkxJWqjAhtRnnzg1pQNvuRpmZ5DpCQJWsEUgIMOfco3whKBvkMyPbKsAZdJ5gp1KIqeZgRMQ2Oi698Mw0SGWkqjRmK4T68s3dtvlQVabbrrsONw53X374zqyvvy939vaqswC5pYhrTY2bM2KxXVV1vTp/6araz2LnYWFlXkgQwoleJTQP/f3xEZiRXHmOwmMEwRhsbIIjU1MgGavbKh2G0IwPG7GrOHYHMNCfzHNCL9Mkcw8x8FuqVAuWU5hVbpJFeUdb1AYAG+G7W6+nOclaUkzTf29vnSX3j1i0zmAkUUBk5bN4L9X0vCYV3R5cn169d77vGV4uBvhlnP6cEgGnEx/G0bbyG6fAFHrjNmM8cQB7j18fE2ZWfohx5XwGJjpnsIVnBpiQqSTSZqoGVFOwxulaynJccidKA09lHZxbLTGQjSgyInemsoaqK9fpsu95Wk0nGh0ENR8Mmps16U1QVUrdare+9+c5qdVJMdsc0sRicDRaN0bjwSjpgo6HSYCMkj/oxZMmHNyE2XgJDTvYqjKKBeiiiQlQMZKo6wst/GWASzJiG8BmDl8yR9+D7zTIBNBrsf0hUDEcymU5hAlNANaXjo5PNZovBv1yd3HC7GLsosSzLZnXifLkzL9pefFFgrC6MgZLaEIhd5QQzNOjolCWn7gY+lp1jrv+MwcfowIa8wasgE6aKNuq6k6aXLlmfpBeImprq6P90/J8Ab8Yj9RYY52QTGZHRWOcA0WCDQ0YwmyGMmQE2S0To+q5a3tjZW6oIjSHnYKQGIl6vN8EHx3p+erTcO9TUGxfOB+RUgNGVKgNCxIAzExo4OWvO5A3qbRhyiXmF+We7Cj5GgdhVehBmSSFiUU104PmUczhENtRdYEYKHTdMgHog2ZCOvbL40a5HndQh8CCAXuHjmCkU1Wnpbt26tc87m/V6Op3y6I7HzCBUJKY0m80trpv1+q3X39muL301z2cuIpIQnRgYRkYKaGBizrH8q/AFgymRkY4en2x00QokNZGBsFHOh2SnbQYdK2CUA2mlgUuM7I/0imGChsy/z6BvjJFAXXHzK/Y16NGQ8iS1scBGmTKLTAr/P/03P1it2n//6YoyC2J/dZDEtNlceOe8483FmXLY3ZkfPX0p9X4XlcxEREwhPHhvIjGNEj2Rd0RQI+OxnJnVeFjoKDsxJLUkKjrkUJlyLY94SFFkXXaas9UQmCm5bKEM1oFRIRcghqSRmR9dZObduTQ6BkTfqGLr+JPZmAAmNSMRhaGL2D3YS+k0uCaZQZMfU04Zs5om1dOJSL86P5ss9pliKyAukiiIejEdkjhKAA8pCwNZl0xtTOUMax1zyAYmdoxkKgpVKOXUlg3ZCAJBs2IETx7cpzFZNO7fBv0c3DeBAKahxqTG8AYl4isdGSzrKgjMqEyvTCoLycxEVQQxCZFTcBvj3/z01427jagE7jUSsRkzUbPZRENhbM2qbbYHr9+NzRpUlN7ljD8DApixI4zlayhMFAwmyvVrNSIZA35VIobEvjdlX+T1u3EHo8oMzseTBO2Eas0FB3oVb9jwTw7r2WAgzZlMBa74vZrlIDabxJhJGi1OR7GIap+sjdr2qYsaRYmYHYsqfFXNd3n0v2ysAoGqybbZFEUgRuou1NxysWjbxvy0V+oFYqamMAWbEemVKRu8gaSHGudYDEpDU4KBDCnWenp6/+OQGpKkKjqGKTzWUpVIzBZ18d6thUoawoLMecYcoAEwVtAVrxgCYiIYeQCqOqpHDpGv+PsQjStM1FRJxppYDnmItVlfxF73797SGD1nF5ALJcRJGK5ttyGEUHqTvl2dF/WyKt3FRU/F3pBZVhlUmqAqY107R5lNe/JAwrLcuSFq7JzC1MwRCORks1Nr+cb+tj9SrVDsgN2AtAON1tEyuWBljercSPMEYMniGChpjtpyTiz3nuQQ6SqyewWqKmai1idto7ZRu6hdUjGRgSSqDIkPPvnsJ7/+D/9OY1NU4WyjRCXUBlLARtDNyVOAYCH1zcXlpt7Zc9a2vZILDuqs1fMH2+MnBEOKg9vMaWWNlTQ3rs2XZc/b59o3Q4YbBqDdrktarc9eHB8dtWdfHz39Moo4NoYxcjpaR/R03vrnDz+LwjlLlGACNoByKsbMQAzmMamDITuobOSRc9cDk4SImWlSEhu40FUiXXNj0ADnqpLuf/H56xPe6NbUnEVA1YSYIAolNaqpvbWwVfOsQ4zdZRd1utixvjFXM3mx6JrT/QVPGl1vX6ZyN9Q7OUejEuP6bH/Rvnj+vO9j30mav71f7+S9bJvNdn3x3r3C7RwsDowhs0vaFNWQmMnMisY0rMYP3rmRLu3rT3s2SwOTYRlAapBIrlIxWEEgyTotIG+AmahCFAZLNlILAEY6hPcgIwXxWLR07I6Onz548GV5c/64odV2A/LLebm+TAbfp1iWTGqz0t68c+/hw68/+fzzh89P6+WN+XTSrl7Czwy2XV/cKDdnJ2cxatu27dTvT3Yy9p2fnc19f7isPV83sraTU1maCeBS367Ozrz1e3Wx2sI7pnZdV7urdMXjyMCZ6jEZE1kSMZdLxkPlE6LEakRDuoRGmpcp0VC2Yahvo6nq2JE1sH4lGpHIDanqoWCuBDiQSH//xUV199tPrf8i6FdPnrG+G7tWxIPgHM8Kvmi17dP6cuNJLi/OnHdR4XRzuWlb3okXF9Ksbt5e7MwqM2ub5mVcZA+zvri4ODu789YysEpqmX3wPid1VPqLs7O+j9dvLHd2l9v+xImGyfTiUkVBnKsapiREQ23OOTo/PZN2HXujooKa5SAihwoDf87GQaODQI6aDeRFzFiHkkMG51xnghGIwTbkrZALuoEJpkzki9KYNs8fp5df1nSjnk47ccTOclKWycHm88Xd16q6LJfzJ4eTxU/+/v7lye6qkzU169XmxjJMvW7atTlPsMJRBDar1enJcTmZHO4vXdkZVuQCGauqJ9uszjS28/n82v6CXCDntqu2KJBEYYnNZw/nMoeFmTFrnM0P+2DQC1YxM6Uc7svYHzAynCvDMbbRUfjMznKe4aoPAzaWoDFeAYAZAx5CTH2S/+1/+d3d3fnqwe7zh7cO770bTWBDdt2ZmSgkOTjPKEJx68YhXPG9b3+0v7s425w2zdY7fu36cjIlu2gFDj7129SmzcXZmSsm+3vLxSSQdAA1GwkVsUpzcdZ1cTqZLnbmfshiUyjZOUopCYNz2RBm4Bw1iIr3brkzf3JxzC7EmFwRhhTSQIppaBXBENgykKlQDmn86P6Hmnf2boxX0hkiLtLcrOes9xzM4c17t2dz1zf1TXe935vFpo2SYHFaVCkKMxHIERlxVVXeF3Ahbl5enBbbBsH5xc5iMS3JJYCbJhaF32w3l40w++Xe/rQqopgjYraqZjEcn7zkYse7sp7Owb4ogoMEk2kgmJl0SgKEMWJSJkDUwbxzRelmy4VzZ13snSPHLod2OjYgDK1TNhSUMpQ4KOWWp4EDgMxYjGiss/EYubKBQUqYlhy81aUUbGjWiO22s7XQ5WVzcnLcXD7qNiez0i8rmrEsK8xqLyKhCEXwInrjcHF6uXpxcs4hTKd1rsp5T8t5oak7fvnSs18udyZ1AZai4IBUOd0ptN9c9P02BFfNJlQUohLYPGkglN55JG8tRIejzL20IlFU4cxwcXqxnE2rQEVRxj7q0LKSm8R0TK0ZgxzgiAAEhmcyY28wMjKyOFSChvoDYDrQN9JMxs3eujm7OS/72N5/0vXri0stVy22WnR9X1W8t1y6ye7ezGLvu7aZzYr3btdt03ZNV1d+0zYS4+lF9/XXj3cObrHjwgOpC5bI0tmL56b1ZD4vp3UyK4gKBpmSK05Oj588fgm+XU6mRVGYJphVBW2aTh2a1cXjB189OZXpvbtjDopNVcXMu8LZosZq3V6eb+LZ/eWN944uehOjMd4CxIiGlg8iGUsYopbMAPKZGbqxNpOtbYgNhyYsZSXAHLHGtuv6O2+98fa3AnsyQfXutzT1Bl+V7n98+11oD3PsnTTnahpbO7s4f35yXFX+4uxsMi1PLjY3b9/Z21uwWcFISfqkX3/95KvHJ+XuO/P5TFXIUDuY9E0b16vNkxdnlxeXbu92UVYqCSAFBcemFtt2vY3zvWuTuIqqfih3mqgE5/aqNKk9o/OKs7NnbHJ5cTEry7bvXVHkmjyDGQZILhGSUeVJjXKljtS8qRGbGGGoipvlTEFOd1DWRIWRc7hY9Wl7xlPennUXl/H58xfXbl57eP/+3Xt3X7w8X+6UP/3472/cfG0xdeTdxfHRBx9+tCjZEx2/PGn7WE5rLmpv3jOTSuHCetU+ffryciMH1w5b9jRkIxWMEPyqa54+eeqKsix860sdMlbmmYhoOp2fnp4ZvBI1PSxaTerMvCZ4Z2QpykpoMXHHZ81iseOnpaumUBVTiHnHbMoGR2NDgVHprfakMAcrPIvCu5w+IjDR7nICi2dnRyK2s9iZV77p+9f2p7vLgom8o9JzFZbFYnp/9YwL5yaVD8Xy4NpiZ2Gg6cS//e5bOzvzWenIl4vpdDqfaNucX15s224+rV+8PC/Jf//br/3ge6+ZaXNxdLzeXF5uy6oEFZtme8d1jXIr8M4169X5qnWhmkzKbVWft31OUwFWeQoOfYzGZEbsHDtXODmo2FJi8k2y0nsDiWldT67P4Vxs+kujNviy9CyxI6qNITm+MgOpwbpEXUzkaBqYFATyBUMMgNUFf3DbXru1t15X1XQXqV9euw6m7vxpPVuyy9U/YiUz/t7vXVdN5AOpmgqxN0sm9geFt7ajEDT2TK7Zrv72L/9z08uNmwdnZ6u/++zJG/fuvX/v8K23Dvu2+fO///joZFNOquDrTWd3Dif/8KPFTz67PG+5vzx+cHLC5HaW87qe7OwcvFPtHB5Q4WtRu7w8O3v+sjy81m83py+f1ZNZ0zRHXz+8d30vMQXvk6V5QWpu08rOtEzSeMfXF5Mt146pF+3BUXrHnnKjCsHRGEEwYNhGTWLBm3fOZo47Ee9sUhc7B4e7t0skM1VQMGg9nRDlANQx2+bysmuSK7zGnoiYWdV8KFRyczWpRGYnYmCcvXxx/+HXk8XBYjZrm+7te3feunvovX35qy8effXo+KK5fvv262VZlWVRllUdml7vXQ/nF5dJyrJ6syyZiZJYjLHvem3Ojs4vP//q+Xw20X6T+rS+3Gy79PjlC3Hz7334rgNcGRxj13tVzro2rX13Gd2kKL0vy6CiKCgWuNz2xCBHTGDwvHLbPpWeGOQdOyLHqAvne7Ek0ZPre/z0V2cvXq5fv3vt4Np+NanAAWIo5qQCV5garC9ms1CDyUQK5wKFCuxi3/oQYheLouxjW1V132ye3r9/dt7efeud+XxRVOX164fvv5fWm+3q9Pg0Ja537r65Xwbetv2Tpy83Tdurv3G4Hy+e9aIvVyn27aR0Xdc9eHyk5t54892Dwxtsi2u3Zm3U1+5Uyx2aziquJunR2SoWO/O5iNWORBRECmG2VswMVeCqcFElwIKnwnHybuq4T/DBM1PpkERc4T0bQI6pS0pEXRSfktTBM1sZ3NMnT378V1/cmkze+u5Ht2/P7719Z3HtJmtYbTZfffHrj77/XSidvDg+Oz7/4Hvf/uQv/uJb3/7uZFYl0Z/9zU8/+v73PvlPP3v3O9968Ov7v/tP/vDBJx8//OLrYrYsq+JnP/901bQX660J/+73v7M7ma1OjmaVPnz46Oh8s236o7P1quk//Og7N6x6ftpYSq4+POuax8dnmza1kfrObqA6utgeLkqwVVVVV5UL6JNwUfuwsY5I+tj1qpURMbODxWTzKjgyuOBDsbeozluNZn2PIrBBkyan6JRUKIl6n8myRMkZcGt69SK2tcRMpDJHcs8eLu6+9/znn+8dfL99/sjazfK11+vZ7N4HH5gZTPcPry33DqxtP/ru74RQmJgj97t/9Edk6Yf/6IfEvPuj71nXL/eu332z3N3ff/b06c9+9ZDKahu16+wfzWds27v33rp+8xo5nH5y38DE/ny9PT89X82r5XIRu+jL4mCxK3Fyetl9/eLs8XHXbTdBu76IdT0BSdc1G7a+a7pto6bs+PHL067rbt28XhRB8ogLrCo9IdbLadNs//qvf/zt3/l+XVZtLzAEduKMoRPnFBSYQaqKXswHrdmJoVPx37pebqJsept9/rP3T578D+/f+rOf/+JlqNffOjyd3g1fP1gc7rMvp1VhEgEEpuA8xEpfGAATAEwMEDkPU2I2iZYa6ZvLk2Ptmt95/xrYP3ixenHWX5ydzkM6PTp5/OTo9PTkcM77U1cx9xt78uWvKnR39vDw8ctkfru+vLZXa5K42k5JVyeP21Dd3Lsb0J9dbB79+qH0F9MynF2sHzy+mO7frLyvZosQnCcKbAVz2/W9+qZJ04k30/nuXl14QIoCptr02op6Ui9GjgOTiFXexSRQimbMNqu8j1Em3i0qbiv/+MFXcVJ+9vJ4Mt352X/+ZeuqNw8qSKJQmPRUFNZH8oURwZJpJOeMaagtugCNBpPYO+/uf/7l/S+f7R7c+PSzL5+/eH6wP1udrC5Ot59/ee1wt16ttnt7i19+ev/y/Pj2jYMnL85ePD//gz/40Wob/+YXL7p2s7O3n0w3mwaE6ZSjK95947XVui3KiSquHxzeWuLpw08nFb1261ZVYP/1N167edP80jGZmnfUpzhmPtrjp+v57uzO7WshuBglMAksEU1KzyoMrPuU2IXABvFDAzx6sZQSC7jp5fxss7nzwdd/+N/+2eTasThnXM+Wf/6nf318umIOAIzx93/3UyV6/PWjL379kMqKqvr+p79+9OARhQAfLp7e/8lf/sdfffIZYmdd886H36oWy68fP79+bSf44Ivqt967+fu/fe/b793YX1QffnivdOnDN69NyuL99+99/7ff+qPf/4C780L673zn+//0n/zj63uzeSEXF5vTVXz7tYPXlrX1DWu63HZMMaCV7VrabVHNZou9uvCnJ+tVV7Ch68VAMUrbaxNFABeKaMXe/mJvXsckSU1FiIzZTBWgpk9Mspy6SYCpqllSixLVVAy+6aXgWFJ0Pq53gt27sdxceOdXD7746Ntvdd1KVBglYNP5jJiqunLOYALF7uFN9gGSQHp+clRN68VirqkjTuuz87ffeee3vlM+/eqzwsMxN233xVePP/qd3b3JZrHceeP1W3/8r/6vH/723WlVbIrqp59+9cZb737nO2+SL7ume+2N9z94azl16eXxxdOj1cefH//hj94J3JWUSvYO/vFF/1vfebvwk6NVXCV/2qb3qumq60WVowBKpnXpSm9QK511bW+QLsXC+1Ur08CF4y4qs6lp5d3p5ca7UsySqlrybJMiTAJ5EDrhugpTOn7y9P6XXz5+sypWilUv31qWq/MTFXEAYG+89aaJ7O/vETuLCabL/V2YWowGef39D/NMWXtxSRTeev9NTcIuHC6Lz3/xadO3T16Khsog3vnVxWY6m735xuuq0YjAvprOg2eyzltQx8HbYrKTuk0910nnpvPtlw+/eu/1w2nh+r5/9Pxp2zeJdlW9EFy9xNb3EmcVz0u/7uRoLRVDDbPaVwU/veiXyXKPRel5AwMwLwmKx2fttC6OL7tZ5WsvRv50G8WwqIMIfMG+afukdrm6nFH/gw/e+8Pf/nY1nZrFrmvmU54t9six5TG42MMXMLUU4Rwkd1Qq5akNJZCBnQFgD2WN8fz05Pnzo3VMgGMKkuzzB0//yT/4oO/l/oOvDeqDT8qqxDCKzdlW192m5o7SenOZDnZnvTKzS0T17sH1WzfXrXYp+Omut75PVlYeKkRFVLrYNs3ZRb93LcV+1cSe/denXVUX1/cmim2zWZ0cP4tJX9AOhWrteLWFwV222lkboxBBYqyqso/CTJsmrlvBmvx50zHBrAKH98rV00v+xdN11T5qLo5fPj364Q8+eOe9d/vYn56c3bh94+jFy3o6K4J/8ejZnTdeNxViiin++K//5oc/+j0zgbMU09PHT167c3t1vvqTf/uXXz0/ms/n7751U6CTafmHf/DdN9648W/+1T9/9PTlB+9/eH5+4sqgpnVZ2PbkV5/arTfefPHks4uXX7ay+MEPvs3MYrQ7n11fzp+dNV0fQxmGEJo84IS4aFrfSHryIFXhb3/8y2l3uXd4c/HevTcWVdO1R5fubNtcT/6TX3622XYVqrZPk1t3DuZVd3ays5xveVruHZxu2xBC2m68C45sE8WIWNWrmZio6Ly0t+/dPvr0bK40m+9WJfUt3v3gXYnSdM2Xnz64cff1F09fHFzHzs7syeMXd+6+BhVyfP7ypOvwi5/+/c5idn7RiPQnp8fHx5uuufz4Z3+1OHzri0cv775+TdUmgR/dv++0bzqD2vNnR02vXGxJ9c71nUnt7tbT6SL98tEmUIykn3z6ZGc535mEgi11l03no/UzFEG1i9HIgfDv/uw/Tk4vW0lPVl+fNmH9xcNtVXRfP33vzd0bt26+uFh/+Sj6qvBlvZyGjz99HIyWps2LY9ur+2bl3rr56y9PqluvH9y+t9zbTyZmZN6pqCQDwUezIq416Yujlxeb+Y/+8Pv1pKAwN/ZMIMaTh49//snD3/r2OxbjR9//HesbqP3ej37HNIEIzJvN6vz8EuCkdHR05B1V5fT0YqVxO5+UTuWLJ2f3npzv1BwCb7br4xfPfDGn0GyaTshznyR2qml9meZ1sazd3nz6ZDVbTifPNluq6oN5cW23mlVEhWsbgfarTTedT3/x88+PVt2DF+fx+GwThZ/RyXm7Vxe6iSb86b/+cxPpkxr5oig809Hp+UUTqzKUJqvLtT0MCvCvn7ZR9BcPJpOfTBcLdr7wgYO/fevmP/jhtzvxvk969PnPd3f3Pv7Vfen73/+vyj/6pz8iE41JYYTUtc1Xz07KxfLWjV2L22FIKSUyg3O5q0E0PXn2/OkzzVVtgWpS1XTjtfe322Y2KTZNP/XFclHHdvvZFyuz/tbBpEl+00SYee93Aqm6y9Xl6uI4oL++v5zuXfMn3d7BfFrY9Obi73722e/98AO3KPve/p9ffPnBm9f/9C//9j/86nlRlLmsyeyqUGyTBEZ/0f3q2UvAAVoV5f6iSiLBMchOTs4PFnUDhhn5KvZ9n1Lb95fNmTu/WMyqs1WvxO+/c/vk4a+Wd77lAV53vvbL6zf3f/bFo4cv/s2f/9lfSNLf/vDNwMkHHN6+c/fmMngi1X/+z/7lwbXbb7/9RjWfTMpAwZumZr2NEqNKLnTnnKSosSbtzl2Yvn443Z+FGFPfdW2qomjfbA53D0RMzEhVNQGakkAjdZclp4rlyeMX541I33z85OXjF5fPji5fnPW+0Mt1f3R68esHzx48WxVlMTRwG5ixM/UVOzO7tL4KQZQI7B2llKC66fpWKAmenm1ATCzUiZpFVXJEzM75KOyLMoTip7/44uMk/+CPbvpQhnkRC8brt25szi5ntT158fxi3f3g++/c2Jse7B28dvcOEz89WSG1b9+71rab05cPH3388rXb16ty8tnn9796dv67P/godlvv6qOjo93dnVD4rov//j/9/NrOzhs3D3/ro92Y5Pjo6MP370rqms3m41+st9cPS4drr+2T96J8eXG2t7ffblYUN189fPLVo+N/9ic/hvMEFUFSNeDTxy9V8lMf8phBjiiV2TEjJX1+ss7NxDAYQyEEH8XONj0Zkora2DcuqmRkagTPnJP9SUz65EIgsqOz7Y0bN4rZzDuwgkjjeQvhoignd+eTr58c/eVff/IH333z6wdHjx6dKeTJyerWtb0nXz253K5DCGr8/HhV+WK1vnj09Pz218+26xNVWq27k5MT9tVkOj06uawnh7eQjh5/1XW9mR09apx31WR6dLaen2zu3drtL8+a1QVctWm2Rd860uXhtbN08sc/fqDOiwHwYomZJNn7b9/ZmVUn5+vZtFbBnduH56tVEnx+/6vzVZtHT2gsmhJRGUoy65PkCaLc+5Lb7jDOPFseegEREROVRVFNauc92N+4eW1vsfC9mFKh0Vr4pLZu+r26/r1v3SrK2SeffLmcuNXFdvfa4s/+6pNNdApKgKmqauEIw1wV3/+TX+YmESZinPepL4JLiq/PX/zqwVlVkBJ5QGFtm9oIZvfTXz7+u5992cbWUmSxpBLFopoKPT85f3neBu81JSP1RAY2i7dvXP+f/7vf+/zh80ldvDi6JOd+/+Ctxy/Xrx/O/8X//Z+892bmmdWGp2Jcn/iDef3J16dDAxkTm5mSjO3wasTMZIMuwjlfBseOmXzh77x2h4k8iMqqiHFbzG+2fTzb+OPT7U5NVbnpOn16trEX3e7zeRI4B0daU+6z5Cr4ro9JtCi8aWcGZiYmU3OmXUxV4dVstY6xDAo1hYoouOl7gKLIZtv1bd82zabpHdFF03nvVJIBdVXEpNMqMHTdJhF1gf/9Tz55/uIo9v2268zoYr1xjvskplqEoNDlxM0K/+yiMwFIaw9NnZgxDY9uye0YQ4+DGRN5smTm2BE7I7Rtr0LVZLozm+8td1JKXoyEXHN2unvzfS6Krmtb8ecr8GrLRt6sIzxaXTAHojx+p6ogYmuE8nMHUmQiRw7ERoCKI5cM0uUyHvedEjFMWY1JgmM1qxyX5FCEc+tXLXpV52g6qVLsY0q5nOKcL8g3LCJqqgL+5YPHGFp2HcjyNIYMU+RE5DrF9Wu7e7Pw2VcvPz9ubHjWyzB5ItBcXYTBDJ5galXwy8KdC0UwkXNF4OAODg4mk4pVPYioqBydV2W1PLz97OEX8N4DIGYoJ3UMg8uDdLm+L2OFFioGI3KeIaaSS9sKpjyfqTA4EoEDCxTD3Duoj6lr2hj7JLHrUm5QJbjzVZOHYVVMgbTpVRUwUYgRkTITgTlXOxma61FMuX9w1fRV4Weu2QV7RqSrXnIwDW1QuZIssDyfkoheC/rRwv/Hc7kAe0eOHQP7B/tkiKoMVQ6VkDjowbXbCawpDoI3UiUmI85PFqDc88BETEwMYibyPLS9MmGoTaoZk2NiRwwiJjhjprH7EEZqRCKSTDU/jSKLnGF5yFPBJibJODcB01Dzze0XyjY2QQ/NCo6YiEUhasGRb7cuwcD5IQ3EV63nPHREE4hdAleMGwFnrZ6p8+zIOWI45w729wFjYhZRCpNycXvbpdl8Z2d5qMZqpGOL1Ti7i2GelBwxGa7aP8VMRXMRaZjGVTCG7i3TV8OSY4skKOXySt48sgMZ5v0xjmsNzUxgzk+YUHJgx7kZw4g4OCp9ngMnUaiSwLqYALSWfOkCAUZMFNgRD434uUmD4EBEzpWOFfx1S+y8wRw7Zj+bz3aXizyF6713fue6La5nOD+4cfP8ctWregUZhDhY9lrKHEBZE4Z+76GXfJgXzn1WSmCY5E4rg6oZKQkNU/VEBhXTaHo1+J+LxbmcnudnaHy8gcnQNibgq24VGCAi0Rw5MghRzjcwAUlwvIlFKEy3qsLMmUU69mbDU6IURMyWx7PUfbwlc945IgM5dkyHh9eq4C2JwVjNcmUSag44vHaDHVGeDzADuZQ0iSWxKFFEUpQYJYlCzTsmQ0omSVVNhv5pUUVSiiqShWtquT/WkBRJLAmiQBRJU8zTMFkUMBUdGuZV86SSZbyB5ikX5CCVICoxKpTNLDjOHeBEYNiNMvzw7evfefPARFVH+ByaC4nIE2ESnCcWkJBjBlRC8AzyIdy6eSN3jjM7D5Vms9muzsp62nfdtu09+1aSI0sgU/NMRRm6PgGkRgQRGMTKwt25sfPVoyMTNXJDTy+RIkEJnEjykBoLGyBQiKkRUoKKqSaRmMQyiOSubNPREQAAD5PmuR8XfNV8QoSCKSVEMedAxM6zJc1NsL1iDR+3aTabf/hm+PrlhZmtmt4FGpiP4xCCaZIMSiOCuuANVFbVZD5LKSOjeYtdc/lCui4yTp4/l765taz84cwHb9Kttk1VzczSkxfnUaEmSUxhSYGmPzq5ZKaoZqTMAxMLmX0xbWOfUSqbikGHp34pFJKSQQe9ULVx6ISG/lQMzeRiIJBn0jyXBYbBO/LOF8E+uHP98ZPj802XBMPYAbECn7+8nM2mR10nsW/7/tr+omm7eT3ZWNPE4WkXYjBmYpcbPX3w3vtQFjvLnb3FPJu5mHkKoZruSWWS+rvXdnfcNDiURahndV27si5dMSGz5+eRfNE0m2cvTqIgifV9l1J6fnQ5qTlqSgJREMFpUiUlDt5Ekw7Pzku5S4SEHImJdiJ5EialTkXJLHeDtZrbS3JAAPfK9w19c3mKpI9pUbv//X/97/+P//NP/uRvfk1U5PfzbMOqk7P2HAJzRDAQz6b17qx0Ip0ZmEwTmDw5AwcHFRUh09xjTc+fvdg9OKiCF1XPxK4sSyJo4TriACazouy9Kz2qsigni23y01lTFz7t7N24dqN06PtkjNj3bexTMun7vo9NUnNV23ZN15ML56v1erWBxrbrYKlptVcxuNS10bRS7bqOGGVRknOxbfu+76LATNVU8/N18uSTlWCAmMw0GSiaY9DlNv7rP/7rB09OwG54lFPuFxMNzFN2VKDyFNVqlbJyc+8uYQrh3GRuZJZAyBMhKXabtfRd37eddtt33n7bFT6UtQdRHSpJnRHVVUU+NAYiCuqdeeu4VPQQH4oodr7ZiGrwbrmYFU6mVdidzl+ed5ervq/15qTskm2b3syi4PVrO0dnl32Ml5cXotZH20YzNmdR9UYXxfqNSEwxbrbtpk0wFThxRRQyiRKbZr110Kbt2q41tul0p64rje163eTM05/++FdtJ8ykpgxXTaqk7MsyOEPqYGkd07a3dVq3vTrXpKRJRQFm50CmQuyqIhBElF0diGnbtU9enq6bv3/rrTf29rzvkyaNDPPkNiAWKx3K4KrShcDOl+dtv2l1UYflrHh9UR+tuoIA0t7cupEnJxvn+egygulk25w3abVJpqom07qcFRPTbVnvEIHbhn0y5sJNCsdJRXTB2qaYmq7vNcC5NpEPBbP1XfQEswRAuubs/Lht0mSx2Nvd2a4v+y7WReE8m6Lrm6ZtTi+7Jtrutdv1dNlHMYtxc7m9PE7Nuia3u5zVZbneNOsuKQdyvpzMJ3VNlswMqTe1k+MT1PVsWodiWk9nO/P5Yrkop3NPmWOAwGbJmM0BsY8iRihT6o0wqUITbXPSGFmfknMc42Dui9rNHN3YKbyHiL++pG1n66ZftWnVyVmrha/Vw0PrycQ6hePKs4cUpkk1dRqpqIt6wgX50sAioipSmkkf23XwTPViZ3e3aVsQPKje2wH8bDpjZu3WKv3p+Wo6iaGe+aLq+9ZPpxTqpDtktyfo266b1T5YOm+tqGerNpFzCqROUuxDwdL1SaSaTJPZ/sHubLrjPJNhMqkds9/2cRqcJ4hEJdcYrTrpIuYTn3oSSQQDoog579Wk8NS0UhaucM4zzSau7bo2YlmGJKnryEB1GaaVnzR90ws0VnVgxBTFaUfsQyj7xOS8U7AvuG8kAcTQREzm2HwQSd5PtC76tumTJArVoiaFiXhnJL0RHJJJ20fUs0WoKYolQV3NYSJJFrOFC74qwvXSlUg7halpL7zqeRWRjLrtiiT6qmYXjCgpzCyJGDkfnGcQO1F4z17UmCnBqwiImGhWEUFFhIirshCRuqKujwZyzLPaOWJmS5LO1+LYielmm4yYA3XbtNrKRdOtu8iEJJrUPDsgqBTkaO5LJYEqMwdKjvvEkoydK5zzSqzkk0uQ3nnvCq1c5KIk8kYBjiX2JKmuvKZttXPNBM5PEldN1zkmT5z6lonIUVmUGmNq+7KkwK7t4jbBTCvnknEEBBSYvWczXUymXZQ+RdNU1UVdVERw7HzwnKOswiMlbpu+DCi9j4qTdexjIkZdFN6BmRZ16R2RoesTCGooCm6Tpoh1NIYFDzMtPC/n1XJWerY+JZg0bZ+MFGWOu8g5r2KQZE79rPDmDMmo11QwKm9KQYQLBwvou9ZcwYAvChCZUxYtS9Zyr4+x8AA5z1S6CsyIrfgSvsqV9XoazLHBLlXYUx3CplNnDO/261pVrlK0RK6qecoVgT1BAeecmXmoMRszkZLCijI4z3AUPO8W1MS+F3jHs6oiaFlQSqoKHzgmc44LTw6cCM5xCHRy2UflpOIcdzGtkjE4OGX2LqWSE3OI8GIAWQEl6wFTY8cFVEvvmZlNoIkJTs1AIQSR6HwpkgysCMncNqJwXIYiWEyi274zQLkwlEmVk5TBw8x5Nw+YFdj2qQy1GYFk26XALoJ7IagSMokAG8PIM/epBzk1Iee8wdSsFwpknqCEklF6JBFReCLHOJyXZeGcYzObzcvgfC9ytm6gKInYpCydc9SLGbLUXJfEh4K9QkTMEYFdMrikEpySWjIP0kBqbH0Sjlt2zrnAISiQukgETyJJUkqmKimBAnwJFyZl8I5FkxilCAIKB2UPZgKLiPeudqag0llwJEptxLpNCrcVBRhJiF1dhpjrV+TIlIenK4sSi5EHkSZvDDKnZp1S5XhWQM0uW4tJtn1kosKHs3UMPioQRYk6MrRJqsBl4OcXLWBFcM6U2FLCtERdhmlQVaxbBWuMuhU15MNwWYpJcNFEtjIEcCBJqq70RHkM2ztWtTYqsXeFU6VGyNibkUQjNu9B5LoUjQKbsHPBOwZM8yM2tWmFiypFUvKOdDKdOmDb9Zx8r9b1QpS8mmN2zEbQGCEmIBjNytKIY0q9wbORSMoPKWrVxFiSdMmMqQ5OjLxn9jStvXccxdpegkMppAIRWU6LnFdMiduo3gHETZSh5uXYxJxn9sMIZB+VzKlQEikKD9MiMJuZZ3Pci+a8Bfu6JFUfxISBKOYZ3rn8IAKwa4WcRtauKgLDehUV9AYzOOccjOoJsRO1Lknp0PTi4KtQdrFXxaQolUEgR2waHUDORx7ycm0UH+CICyYP0KzgpKYGURWFsZtNmKCOmJiDd4Vj76CW0zsiwklNVR2DiMTgmZVVzZqeuz55T9uYAAQHU+rFmk5yHYtdcFCJKZkQc35SKsEcK0EATXk0kpyCnfO54GHEyaBKjqnwvnQkamBXVzMV6QXGZCkRc3AgVWNWU2coHQiYFlCRbdM0SsbBsfWpJ3JMyLOlzjlmn5+EA+/NLBmxwTF5I+tkwKiCkcREZJu0DgEOleNpSX2UbWcgngSqy0IEl21qk0YxaaKZRY3BBxdcTTl5ak6YDCLmmApnqEJKmiRZVA62qEFwbdJWrEvUkzf4gETEIGeQaKQgiBGYnHMi84KJnZkSu2RqMAGnzsTg2KuKUojGvVjBvkvaxuQJpHFSFYUvihAKpb63XiAg50LhfNIE8iEUZrkv3MggfQNiECUwO+dL5qTJzFQs5ek59s6zMQDe9um8sZSE2QA/LTk48sylZ1OuSld57nqZ1JPlNBydbZpeC09dtNL5Nuk2JsklBCLAeQc4CCzBHMCeKwdHcERqpgYRYXbMRa9Kkox8SgIzNiJKVcgPzEyVV1PtBOYsiBoJBQfTgmBcmMJUYFh3kR2naNyiLji4AFYzJbXgnWcwcRKJfU4xkpGDqfoyimgyIiTR/xdabdRgW0K6gAAAAABJRU5ErkJggg==\" alt=\"Img\" /></td>\n",
              "                        <td id=\"T_1a774ab4_fd89_11eb_bb69_0242ac1c0002row2_col1\" class=\"data row2 col1\" >8 (ship)</td>\n",
              "            </tr>\n",
              "            <tr>\n",
              "                        <th id=\"T_1a774ab4_fd89_11eb_bb69_0242ac1c0002level0_row3\" class=\"row_heading level0 row3\" >3</th>\n",
              "                        <td id=\"T_1a774ab4_fd89_11eb_bb69_0242ac1c0002row3_col0\" class=\"data row3 col0\" ><img src=\"data:image/png;base64,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\" alt=\"Img\" /></td>\n",
              "                        <td id=\"T_1a774ab4_fd89_11eb_bb69_0242ac1c0002row3_col1\" class=\"data row3 col1\" >3 (cat)</td>\n",
              "            </tr>\n",
              "            <tr>\n",
              "                        <th id=\"T_1a774ab4_fd89_11eb_bb69_0242ac1c0002level0_row4\" class=\"row_heading level0 row4\" >4</th>\n",
              "                        <td id=\"T_1a774ab4_fd89_11eb_bb69_0242ac1c0002row4_col0\" class=\"data row4 col0\" ><img src=\"data:image/png;base64,iVBORw0KGgoAAAANSUhEUgAAAGAAAABgCAIAAABt+uBvAAAu90lEQVR4nO28Wa8ly3UmtoaIzNzTGWq+dedLkZQoqaVuqa12e4ANA3624R/lR8P/wAb8YPjBf8AyGjRAt6hWGy2SInl5x5qrzrynHCLW4IfIvevUcC8HATYgMHBwkDv3zsyIlWte3wr8P//uFH4/vnkEw5cfyP//m8j/h2O/5P16FRwAENH9dRK8JBD+06XOayt3hPIBHcrqDRwQEcHeJJC7IyL80x1mhohlje7u7gY7AtlIIKDxqzcvD9fP6u80g/JsfAsPejnl7jA+hQDwtQtfv2b3eseP7i/fM45X7edcvrp+xt64pePuHwAgOLy8//5ZZjbOj+g1SoVxAQC/m4Tt3g2Qw5tzA7BxmeX2DgB0/do3b+ivLtLceTc5A3ACQvTdnBkAHQHhOoFeXwjub3z94/jj8cBeueh1Av1jxkt6+5s0NkD7lmvN3vKt4Vu44NrzwNxePeFuv+nLdXczY+bXzuw/qr4uReFb5vraIKJv+dYRdrdwQAPAtzAl7nkK9nrgtQMHBAQAB0dAAHfbKZBrvxpF1QBe48LXxPOtauVbFlsY0N33fPqSg956r1ee/a3q/Jpo+I5x8NqXO3MxfjHS4M374GtH+FJQ93oEnPbr+cbLd3N+60K+aRWG4O4ODojlILzJVN948W/AZeWH3y5ZAEBEiGj6G97wjeH6Bil+94GIqlosne+00X6xQcERcW//96xFbzCLueMbmvWa8XJAA8eXn7+Z476J+X/jNb3yIHAsE3nzKXvrjoi6N6XX1DwAuBVr729TChAM4RUHacdarwt3IRC+vuRrxsv3dn13p2+Wx38MdcqzrvsU6OD85o+K+d+TyWDvHezWOH7c3/Qb/KDr092z1lsF6i1v/qXx+jWSdV3H/1YcVJh/7++9XdL9LRz0+uN2z/8WXfEWK/bmr/FNPnnLrEfVaQg+emH7BePO2bHrPGvXjh3e4jXB2y0fjFKCLw/edqXtCDQahCI4iAQwUgiA3X9r5g1vveDXE8hHU+UvvVS4Znhwt7JrEgd7XfUW+X31zq+pOYfxKba77Zvj9ddsaAiIxZUHd3cCht9eut/iKLr7b2DavkWgdoEF2vV5792z39Z4Fdn8jW3oq/PQayysv4vtu06g1/yXtzpy1/+/MZ+XvywnEJAR0MEA7DdZ4VsTDm+e2dumX3vDVy+zawTy10TybesFAH+Ng/zaf3j12L/hB/tBAOjuRFwOinCYO6Ajvn09ry11r4lfyU68cWGh9W+fhPBvXdqbJx0A6R9tcfc3ZLCGYLK82uac96e/XeW/Zs58N779Ub+RGfnHDTMzczN7Jbp3Qzd0IzfaH4MTAIOXk+WYAQj8+gEZorNv11f/6//0P/8/f/Pjqop7t8LRDJUIFTGBK6gBgPPuKQQ+3sSd3NAUwWn8+01Nz34+Zao4ThteTnv/uG8+eHlc7gNAoVDLRydwF0299EGBCMEBkUrYOFoov6ZoAIqvBpjR1UWuTs+L11W+Cwq1SPviKU4avHVDgKKRlySIg1+Lzs2MiIjQfXT/iYpH+Ouyens/aLwnIFLJo+6nPUr9OF4e7Mzm/mDvSiA4vIzFvuktmQEiFlPyLfxvCO4wmTb3779TN42KurmNcwQfhqc//7vj45vzO//x2iYxu2AqNyw5qv0c3L3ru7PT0/fee8/dRYTYEX+dFXvDUbz++2+Z9j4B8trB/gdBVfdTLNMFgL3nus+wvfY8eFNHlgidw/zGUYyVpgzgY7RNcJHyly82zRb/fACCbAjupkXU9tEAoroF4OePn3755RfvvftemYM7wS7Gft2q4p46owL+3QzcXuu/+RqCqopIMRzlF0RUfJYiens3ZJeV8TFZce21I2LxxrL58a1bTYhgtncNVa1qZne/88f18aF5YFB1V9HyuHIfRiIEV0+p+/yXn37wwQf7NJipucM1BbDXA9ff0CsrfJuu+EaSvUmX6+8+XF5exhjLqaZpQghm9hq/vJLxfjUjBwBEFEK4Zn4cHDgEAPdSL3CIdTV791Yzm4N73r2P61NBNTJgxGdn57Gq3v/gg5QSBb6+1GK+rk3s9bd9/Z1dX+23W8Zv97xC27aIGEJoqgYDEfJo/2kn1XqNTO5o4ApA7uwAIE6nzy9Onz4zEUAPIRiABfvlzz93JqjCZDIJYHVFfVYcdGEciQHN0dwNncDJ3DybmhFhtxnee+9DpgrMPQsSOaIj7JXgK16SIu0SHWpqJa1DREg76oCrIToh7tPV5Q5FVuDVM2+SL+zli4Ay5dznZtIwkyuMkr/jnb0+QkJTWl/0Z2dnz89ePHzywLvUrpZiuanrP/7zP8uEf/PX/8YBsA4cmBAI4Qc/+IGK/+j5jyaTyaSZNfVsNpvPFs18MambpuZYhUBEWYxjBGCw7GCEZDSmQfeTecl3hm7gbmoqImZGSIgYq7j7DQIZICCh7xIae0LsubhYqrdyWSiENLO+76XTyWRSN3VRTPCqNKqqu6eUrq6unj95ury46vp+028A9bBuurQJqJhlc/706Pg4WgfmkSsdFCiIgW5aVTx//IyIimvDzBoQIhPRvG4Ws/nh4SHXcTKb5ZwAlQjM3Rz81dnvj9HcsqspAIgouAOBg2uvIYQQAtKoHFRV30ipf7suL7opjIQgZArAMDht87auquyCgAixWAd3J6Z2u/7Fz392cXnZrdeeUlXXpBkcjLKqioob5j57tj6rDqlOCgBMABSBGpXcd32MlbsSo5tIAkBy8DZdrkJ1UsV33n/HjvKvNr/603/+p21qN0M/n9UMAIhEeF2huPsgYm5qBuC2z/cDEBLo3uEe7XLwsSpwnQQ71Tkqz32sOdpkoFHE0BAYzHSQoR+6g8MDQiJiAt6bzyT573/y9xfPn6WcTCwgmoOIsqNF71M2s/c/+OijDz9BxA8//qTv+jQMAJAHUQezzOyzRUPE0+lhXdUnpyeeEgCoqImoayB37V37X/7866+++HTVryTSf/ff/jfz2dTNXuaEzIrKEMkK4/F1rU9A4FjEbR+ZFGHAvREELxUkRCwWExHBwN0Bd8Ulh7B3oAuliChZWq/WdV03zRRpFFcievbs+YunzxpVTgZuxqQikgWIUkqqamYppePjYyK6ffu2ITgiM2dNfbtJy81yubx778gB+q7rhvbOvUNEjCHOZtOLk7M8DCLKUYCGy+Xz3LYcMR7MNA/uk6IKrqtSEVFTMYNrBCrlABFFp+zZ3UMIRZLKV9fzqm9mdUZtrTufxj2ISFHAhTplHiJSAs6m2Slq5KuTZw1iGpKZZXUVJDI3jARmBmYRXIf+2bOnq+327p27YgqIzAxoMSJPqhv17XXfn52eDXno+5ZjqCjOZ/O7N+9877t/6ISmRoHM7M69D6nPjx4/+umXv/rq66+/970/rOtKFQAQgAFUVURVTUtE8povDgDZk5gEC7XUTC9TZfsfu/v+9TuCipg7mgOAgWfTwnLhTS8RAHLO5UA1uzsyqdpmedVuNpJz8ZM4VK5C6Fmc3REcTEElD4Oo6siibqoANqgRc6TKjdbr7eFiTqLB6ersSnt78OWDd7/z0e3796oYmblEUtw073/08TqlH/6bH85m808++VhFi0JxUJGsqmpqb3hDe15AMzTIRsiI9NIb3Ft3M3U3cFcRNwNE3wUSgYmJmqYZg9VylojMRsefiFQ1hAAAbn6xvGrbLouUbKFrcu0BQBxDMymrSjmbj6wewssobxhSrPjw4OBgdvDwqwequr64nNe1dwnNN5tN0zQqsnc4S+gojCHUM46hKNDxf+GCMYYytxLwveYZFlEYyQFsZGivmOPxl+TmRkATDFUTHaAbdTs1IYL7F599HgAECd3d3BEYAESQOQJASomZiejZk+fLi1XbqQESqLuHGEz16PBovW2JCIlIs/VdxQ1gMB9yzohADGbedpspTvu+r2Nz+/bty8vLfr3uc2pm03pWr9u2XbdH79wgcnNBoJ3HHMBBZfCcTVTAjR0czQ3BVaS7XG36TbY8n80XR4d9GgBKlgMdjcgREc0TAiIxEXtVitm8E0bJGQC2fdt61/YnJs18cbfv+7btVldbVTs9OQnm5lacQFMtqT9yH1+CqgLC1dXlxdl5lmGQgSXFGIeURCF0AxKJCIegruK6uHHMMUYptQA3c0QotxKVvu9v3779+PHjiLBdrzCwuxgaBVJX1YzogSssaTwHJARCM3X3rGIlOWLGSEPXnz5/ni05gQ6pbmpmVBGAAICAaK6IgIaA4JIxRrJMSFlSt73cbFbLq+V2mxCormtVb7uVCDA/Pz05OT8/z9mKOQvF/dslXwiRiKiQrGilzdX2s89/efPwoJnh+ioVLbhYHEyn86dPnzJzCEGyiJtEHNDlWklvH+KmlExt6PvDxfH9+/cvT08C4eHBQejbXLSs+TAMMYxwHFV1IPQxTlbVlJK6IaDbWAk1s5yzgqnq+fn53XfupZQRrNCXeKx/NBSsHTZ5vbk8Pzl5sd1sdXAT7fteTVUtpX4YOvS5+SZLBidACBFUFACCqpVTgNx1mtvLxWwymc0t9Sqxqjlv193FZbx9s2uTidShQsS6rkcSuBqgo6oYCjEooZpn84wOxMUTIQTqu4xT7nN7tJh99ctzNa3rejE96DZDDLHBUKn3l8ut6N133kVEg+RIiIjilUJUd3cDAwePVMWqv1hlFGqig3bbfn21mc3mIpJTyin323TeP/noxuLpo82zs5WFehg2y+WlilReIaCqmpVslyOD2RpAxyKTu6kXbysUZnYDJjx7evLws3+4c/v4T/7yLwKHPPQcGc1ADYmzSilRF7eghPUmGSyZWXDMBi7qJsUrMzMCQsTAoe9TjJZy3rSbG83czNabDTHV1QQdq1i5M8dJn7bPnr1ArtwNyCJTzrmOVer6btOKlbgZMFA0XLdbqqipg2aJSTcXq4effXV2ft53XUpZTd77CM/a489/cSJYX/XKkAnczBP2o5lDNhNiQkADKXRwdyQopVEkCmY2otTMrB2CuA1ZVImoik2McbPTRKZ2PW8gIqoaAIMoaGaHPLohL+PJvSkpMlI3EQHbrvvwww8ePHx4fHR8dna2Wm3cXTg8fH6xXC6JuG03qtYO2yaGGMLHH380pOHJkyd1iAxQcumAEA9mhwezqoqTyeR4fty3/X/4t39rbohoWaiR+1PuN9IPKtBXcUJDJgdiTqZjcIcJ2R3Q7KUzXZweVSlheSDdhcpgg4qAi6tpHky5rkIyd1KDq9NzyFndVTUwn19dYKiU0YZcORIiEAq4ZUG1vV9bFAqZRhHNqXfcuAS2wbs7790JzP/qj/9qVk8n0ylWkWKMMVYxuikgGAYAQnfNEkKsmsqG4ezF84uLi+Zofv/9D0OYoaacuhcvTj54596zJ09EeiIWVXefTya3jqpfPj5zc4JM2Z3MANSV3AOzmomPaXECGh3OfXzujACSNLiOGFggF1MxzWpuARBTr0iDihHgiwePptNZyXdUdf3xx9+Zzg9++tOfXnYnnTsCDaaq6maSs6jssqWuqkCoYIuDxWSy4MiXV0/XmzUiOfinn/7y3u17RISBnUt1AFNKZprNkRgJo2NFIaV0eXliJmdnZ3/6F3/edluTEIhW66WZeRoefP2VeSk3AzPNawcNy22XPLgbuCKiI5opqAuom5tbCUBEZf9GC9e7cTkILyv8AIAQAuekOVHXdRTTJA1f/uLT2WR6azG/Wi7NscjL0cEBCjaO6JAYmEBgzBmpGTiklEqgWCBJPGu2lvr1khG6vgdEIhKVi4uL7WrLzE7ohABQnDJwVMyOFkKosudN10yaalZl6eaL6sHnv2CqwBuM9ZBzXder87MXz5/t7WbO6eaiHlq47PLAjICmSupVCOCQCRwM0NkBzeRaRWeXGAJ3MHPwEWGmREjIMSo0oVnM68Zn87lKPlrM18d3Lj3cvHtzOaSUUwDXnH/8ox+ZmpoReCQeQ0QCIXBH9kDGiJhzdndEB1MV4YYEwDgGjp4SmlWBADXGgBQQ2d0FxRkJsPam4iqltLpc3rpxcHBU99JGgHk9ZZoQRsk6OOR+GDZdN1Z1oIS0gLnr5MvtMpsRQRZFwqyqJoBAOsLD8GVQ4gig7hnQSvEHtaSWAjPts/SffOejT77zUdM0dV0RsSR4+vhx3/dNM+WqEi+5VlPRfr0FQmY2UxSIdWAHdvAsaA4OplaCe3cgcjcxM8s5VpU45WyaJYQQai6FsMCBOZpZhRQqjiEg0NnZGTh89/v3mLTrt+44nRwQUU6+bler1WpIRsgOLkhjxUYdwGMMacCL5cYsMICLMQenAF5YjNxexuuIWAIxdA/AWgIvGkOuMJ1O98HXPpABwNVqdfL8mSW9uuxms7mZgYOqVjHWdd2vtyWPOap9ABetnVYvzo4PjjuR2WyWc94FSmBuqtoo4CBBjByQuakbDuxjBoYQaTJtJhXHQDnls8uTw8NmOpupDJoh4q3s/XrVXl1drdcrVRGRaZyRk5pRDMAsqgiUc65qAohD55KoJq+cLEkMwd3NQPBlWXT0kAEIMYbIAkkVAMhH5N2ID0KALELMONZS4fHTp9INszC5OH1B7vHOfc/EGLPKwXw6tGtn7lJOmufMTGQE6GAi5hStoRxAs5M6OAEigYllyIaYMRPStD4ABxN1EAAPsUJCN2ssPHnxQnJG9BdfPTm4fbOu6uxY24YJNKWIOAlVdppNpyYmIimlq5MVVCFMGyDz5MdHYTohycTs4hqrKncdjSBBICcVY2bwCGaIANib6aBKWCQUxbmk1MI+92xqkFVVLi4ubty46UMmA0JaLOYI9vjJA5GeTEj94ZNz5KmqVASOuUD+zAFLEY0APA/DNuVOPSOSdEvWjpAuFJ6eXaShv3v7naPDG5999hmHUGo76BBC+Ojjj7uULzeXfDRfdgNPF4t6UVdxWjHXMXpshiMA7wdHisMwZBnMBAA31q0vLlZPT6xiQGwIVssLMwd2cwcEjgEJwdFU3RwBVbRgfkuR2sFVTccaDogXfxhD13VFRtiBDddXy8dffd3dXNV1/ezkhG5R00yIvE9XTkNAIeXm8G5zeEfy9tDX5+lRKnbRDcxUbbO5evHsmUhGw3du3z1YLBjqajKbzudHYEfzoxDCcsjN0eFf/Rf/eaNBVh0RT27MLjdXJy9e3PqDD48vZ7JpP57eOvjuJ3g8y90Snpx8+X//9N6f/OnBzdvPnj3b6LaeVqer074FM5pNp7nbdJttT14DVI7z2Dy7XDlEQqJAOQsRF3hBKQGUSMAhEbq5A7zE+ZZ8NGEqR0FzYso9RgNMWbxNobM+CXGliqkHzQSh1P/BzUzx4ODoxu1j7eXkwfOswRlEBrMhQ7poL5vNNOXWugG5+s7H3+GzdXe1vPOXf8D3jrVdvfjxv2+HflPVH3z3j5mpP7tsP3sAVcgHH5x1F2dXJ/fbG3555dthOUv9i8q3B4aCqnjjZpZ8tb5YyyY7HISKhk63PYV6dXYhw5BzCsTiaTLhNqXzVQIMnsgYVY2BKYRs2Sky7DPV5m6ErkSq5qpgW1M0ZSQwN0IMKbcBNRA9e3K5OrvC4XLoWz63C7yMoTo4nJ5fdH3fASo4ZPdY88X5w6MaJmzV4Wy9vGwEHTKhI+Fqs5qt5iqyuricLw5+8fnPDo4PJ+8vuvPnfvJEQRIjHy4qg89+9pO6qnrr4w2bLerzsyc+5Hs3bj54+MDBpgfTyIM8+8qtQoZhaIe+X6Vtm7NEeufdjySZi1lOptZ1raiqKBELZY4xiaQszE6AoIKmCMrkQ+oQoM+5FEIAXNUAHUDBXU1EO8KacVJxrGNtbsExE8fubInL5ft3DrIuqmZKser7zlyePPuy3bZ10wQK4G5IGf24VtH1aafWpUrHxD8AEPFkMmFmD8Hct+3qZ//w72eT6fT2PbRwfONGPwz95YqQ+m4lOuQsDJpzYuKMZECNU5VyW7sgoCdQb3QCmr3CgUEGygYffv+7f/LPbmzOz4Y0DDkjeUq5VA2bScgp13XVtpvtdouIbj1Zi2AhBGXOKZlaRitZS9MCkQG09mAx73sR9+L3AEKIAQACuqsn0f7+/TsU4nK1Xa/W3tRekyfJV62DZcrM4FlRNIQ4mc9PLs/ykIe2E++QyYgNgMza9eZ4cdBUVTVtOHBDs6HtKDlVAZrqk08++tVPfl43zTuzO5fnLx4+etSpKSABsDF56M1SREMXFQYG8I5SSbC6IVFGQGKuUM7Pnm76vsMc0dxSzr2aZek9yuEUn2yGZnoMSkNKYpSzBLcp4NAPROQUtJRA2Eq1NfhEBjaJdQyAAJ6GgQpGIUBWF71x55Zm+vrB45QGcK+8MZ2k5dph6EEPIaxXq7qqmJiJcparq2VxYNyd1QIxOToiAZyfn89ms4PDw6LzmCOaoPbt8jzcu3X/3vHJyclZiqE6fvejxdXVacrdkBKJ69CNuRRzMtgXrcacpxPBCBRiwrbdqKmBORARxhgqopTz/LABz9utEM+nk6aWPKSUc1bVbWo9Ut1Mam4QydxSAEckxDioqwEi15GYCMmypJTm83kw0YagT8P5sr1YXxFTjBVtLr5Xp6Dyw267CtKImkVAODo4dKbHjx4xUl03bbtl9yBeEZBBMi1RWEopcKiqKuWkZhU4gGaGB5/+Q0BCxO9/8r1FrDapr6smOSaPF+lysC5wMAcTUNXi3O9iOlBVRnAKADCkhEiEREhunlJOaQBCUVkcHqnlYQA3bbUNIcQQmGgYBmsqMVmlvkZnYmausYmxcneY2uXlBSJN5kchRgTnnPquTSkFqqKlAQdZPz9ZvngWYzy8+45InEa0Sb2oquOjWZbUEJjZ87OnQ0qc1Y0v1SrrIsGAvAFPkgW9AQYxFYfoTmRmCGCO7IHF1Kg3bZrmxt27eUiTwHXqnz6+vLq6HNQdgiq6i7kCuGUFGCtRY40YoHjnXR7aqxU3VcTau8xGbKagRjCtmtSK0sBUS/L1eo2I0+k0pWQOs+kCoru5qvZ97752UwAMVdQ0IFJ3dR5CDCEgI1WxrqqA0dW53fTnlxeTqjo4OLC+u/Huh/LRdziE/3paMfPDJ09CE9OQck6Wu1pRcu4kd237xWef9tsNOCRQRARCBzRGJUQ3M4sx1lXl5miGpqwaY/zq6wdt2wKA5LzdbBxCaAKN/lQ0UwBUTWrCHBDHgADAiYiJc86BaMiZohq1BhsATSnjpJ5NDs9PnxPVLpDSMJ/PbVennk6ndVUjoIOb6mQygR1ITKRr2y0has5gpjlhCCEGIgxZe6bgkY1gPp0aAGQxTFdwST2edxwHdcdtJ0Ch7dbQbbZdPj6Y3bt/67KH/OiR9BsANEVyENXF0XGYzkLg89OzqqqOjo4whGy6Xq91ECYSyS9evCgpd8MwnR9Np9OKPQ/d0A9mpOLmXsWYpVMZK5xEBG5uLiqIhMTtdj05mKOapyFLdsdJ0xwe3nw2PG9bq4PFKgICEmnKqsLMVawKQk6DmVnqNGdTVUcF8OlsMWnmzIyIiphykiTBzAN2TA0rNTfnt+/emV4NN97/eJPcgaZqoLDEbC5pO0SxkEIGvNqklS+pngQDZTaHhiNTcHcxgH6gqiKi6WKeTfMmV6GaxVmXUa136N1DCBMRmcxns+MDERGFwBOLrF0LIJndcl8jYlVth2HMTJYUpXlTTRf37l8+eayTRQMz9fpq+ZSN3nvvbqT29HLF1axZEDnlTAZ1NVgAcVMTYWZGaieM6jU7q4HbdrMCgL7LaVgyc4jRqCKinC1UE3ZCAbam+uD9P/jDP/uTv/+/frRcX2iYg9tthiRdqlkx3tR45+DmebW5DNqizbJPPNWcWrWmaT768JOqaojICI3x5OSEpQbEIaXItWSJIYYQdHAiVDWRPJlMFrPFsO1ERM0DUV3XGXRoU3AQowExUAgRQDMAEDojMvOqXSKkT+7cmlThxnEjdPNv/+45HR2//8Gdrt1+71/8c922J08eME8n3viEO2HqawXsTd0Eg/sAbjAMFWFwd9PA2MynNzh6AdmkIVm2hjig51oCGd+cH988vkc0OXPVvgvziaid9MBeJQEyuZJ+2ysERkTmWLsf26B54+4pDV8/+DpwFUIA9zpEJmoodH13dHhUhwadLy4uQghDwhL0iMhisSAAH3ITQ2yqvu+zZKgjJOZBsJo0B4dDPzSULfeIaCYgzkxZ2m57+U5zOPn6IVxdLS0d5IQf3V+uL9rT9v6f/dHRejX98lPLA0JdwdH2Dz7Bm7dvTJqLi9O262B7kT9/jEwYciQOVXV6cKub8Wx6mGU1pG7oB9IeU1KAIJuNIYHi4eF8Nq8unj0OfTKneqKXZ2eXwzBpJnfv3R36rkWpiNGBgaJoMniYUGxOehmIchoyZ1ZGBaOqmUzUtK7qWMV+2zLQbFL1w5YZhgEdBNARcdNteBKQEYIdzBaXl5coGKuqTXla4+GMVyqWsgzZzJTA3PvLE93cvHHz9uV2G47wP/rk8MVSezvwo6P1cnPa+kG74XWqjt9ltjS0HDkErAMdHR0tFnNkjP3p+fOrQbK4N10S8xsf/2D6/U9u3L61PX1+fnbay3B18tXy3/5UKw6zyS21rapUjT148EA0t+sNK8xEZ9PG66pu6hhD1zk4gBi6GhICZEQFBqAYg7ujecXMgBhCjJWauvviYDGfLbYA5xen8/nCxEqu01wDB3dnwINmYubr7Waz2cxms+12y8xA2HZt/3hj7qgOZu6uBID45PGj87PTuqocoJHNl9SCNdub79NyzUhVwKc/+8mpQKyregJrWsJhNcdOT59/fvI0RD48OOxX7fb4Dt2YT9Dq7EawGtqzJ1907SWL101zMDmaT2h+MtTJw8cf/ouUh65rH7YPAdzUzG29Xh7rrTu3b1chDsPQta2qpZRRvQF2UCN0poJi0A4AMSBGQ0KkQDHGnHMMYT5bVDFeZKbqnWp62HePoRTtAGOM7rCYzo6mi5SGtm2z5UkzyUPOmkNgSQKIB/N5u1q7o+zwl8zMDt1qAwBXrk+9mQDi5pG6mxlGm4inSGDNfJr/6J/dfPrsweMnn8LsAAjrEClwAgKmeT9t6ukB1wM7BuiXq+2Lp2q8ODhcLOari/Pu5uGimQQz4Kbqlv3J2frdm9itLjRtL5YX259cTCfz6XTeNI1TcAoiYqRWVQAABqDAHObTab48NTND1prVIACSqqpGrqc8tWx5O/zLv/irf/2v/9X/+D/892MhCAk8aga6NbVF3Z1sKMNksqiouTENp8tTBu08Rw4odm92dLq62rLVyJUBh9DnpAQIQGoA7jFGqjxlVWULA0IelMh6l05z43C6NW3PzcWIMro6MDGY104MpKa5NgMPxEwNIoUYAjPHAESh7zscdFhvt5crun1YVZWIiMpquSSkvhtKxjrGGGMMIdB0KiKBOVaVAsyn03Z+bGpZDaqJu4sr5OQOGEOcTRGxvjxfrZ7/8If/R10HEyIiB0PEEONkOgsxOoAT/af/1X/50fvv/+//y/9WkjWkVgVeDx3XOD9YdJslAzITIYJoxayq4MQAwbnAEUs23cERIDB5xs2li4NPKtB00OB6aAU82BSBgEHVxAQQRoyLqEQ1s22niATuxBRS16MmbbtJjI8fPxYRkQwAiPThBx829awfBs2DS+/uZm7Dpu86EXHznNLxrXs/+PO/NBUFygZt1z79+ovt5qqqKkc4unvr1u3bZ8uzLF17sXQQRyipTxyBXCFwiCFODubr1D968bya1L4FMwvq5IB1vErtvJ4cT+fb7bae1tt2G4lRHcwDkBc+YicmckIEEwNw0R6QTk/Swc1ZmPJ61XNPZpNxN5TiUgUWVQCPjmyoDupioMwIJsSIBMFSLzk3U/7u9z746uuvzs/P+74HD4j4xRdfiaiZmalZ2iNRQgjmriIT4HbTvnjxLIQQm3oyn9VNA965ZxGzYXPc1Pfvvjs7uDOJNJfuycMHvWkCx5Sd1CZwdHB8+9bNbtkrtqdfPXqas43JYMroqBIoSgyb1E8pLhYHQxoIydmzZUdQLEU/COAK2cJAZo4GZMrBvIaOhxe9uwFgB+DICEBmBGDuxgDgCDgAIvMIRTQDgMZQk9Z1FcyMAgdEoub999+fTCbb7XbE42gBaIuZmsecs5oGj6VACyUPZ9ZuN2Pbyyt9FaAiq+UVAty7986zxw+w32hKQV2yEqC7Z5HpbPbee+8tl8svv/xy2jQSY7/pdolhBCIiAlciypLLJUhkIhSC5Gy7Bmo1zSpEqoKuTBQIwRxENYsAGBFFJDfdFXHGnuyxaeHa7inMwcyUECoc3MIwJNyNw8Ojw8MjMy2Y3mEYcs5d13XddtuuS+LO3UUki6hkzubuDIBm5B5K6zaCj/h2ePTw8Xd+0L17//7zRw+XyyU5BAM2MHNRIVPJKTC//8EHjx49qpvmjz755Fe/+OWLF4/c1XebJxEQAQQmMK9CBACIse/7qqrQzcFFNNaTogbZIyEjALjQ2CQHiASIrI6KDj6AceCyucVe3Paj6FwBDyGISOizRaS6rpnZxxoJhoBEVFVVzvng4CDnPAyDu4tYTiaSUx66bpNTSnnM10jKLmruIMolTYHVw4dPvviHn91776PbRzeefPoP6t5pTmAcQTBPUM+ePrU/+sHNe7cXi2PI8PjBF1999XMiGQYpaBtRvbE4OJwvuq5jB0lZVNvUIyIz6zCoakQMzMwRlEJAF1NTVkLwGEUiK0IpDSK7uTtC6SJAeEuTdRnBEbJEwJByVoOu60uCiplDYOKx5ymEQESFWACQs0p2ER2GtmniHuJecF2eRc1UNacsKq5o5n/37/7d4vPP1+ul6BbRzJ1DQEuYJai/ePL07OxswTe/9/0//PpXv7pcnm82Gx+bTkYsZ05puVz2fS8qIlLa6Aq6dA99ZnNWB/FS7w0UVHVkPzUEICIhKFATRCy1vOCA15vOEGTfEVQAloTh8OAwd/0wDHulU9WxilQ3zQ4VXDDbqqo5iSq4GTNTaJi5QHFV1UQLns3Axc3dPftmuV2v1ydnz1U61E7U3QwJ0YAV8rZjqv/2x3/zL/+z/6Sp6xs3jh/8h0/N1M2LxlHVuq5zllRyyUyOgZkha5G+WFUIoKq57YvVM0ZHcHesAhIBUVB3UQTLgYxLDg+LumQbdwrcc5HSrjOBRtqFxWTqzcTMSmEg51xg9utVNzIIeOAQQkAMgSmAUSAh1RCIMDqSwx5XPUKnEFNKmnMdeLO5TF3npohNnzaALiIMAYl7kxry6vTkx3/918e3bp6cn222G0Qu6cNC/aqu2NBE3N3RgQjclUBETJUMqAAmSTVncupN3AvyHx3U3JUGAGNg1EnAQBwLE47wJXd3F9zB0W0EUCkWCBWEkUWZywqrqiqLLHonpZSGNEjBPWPgUDEzc+DAERxARQxcVUdwPgICmlldVRCChvjhRx8ul8u2bbfbrcqEQ1DViBSQYhUNIXnurs5fXJwhgqgCWEpDma2ISJYQYrGqyYds2d1NqDRpRqAh5YEHNcWXHZtYVlSskxUkHQfEiIBExJE5BBUpOBhVDYzmXrovyvJH1MducxNnZhx7YzwEBsC6rpumERU3G4ahbbshDcPQJ3MAqGKoItV1XcVK3BDIydVURcGdmcHR1ALR8dHxzRs3ZZRQVYWckuQ+D62qbSWtuk1KmXGs/rppGnpmVnMAPzs/I/WiRIyTYXn9DdHotnBkInLk0i1VIRGMGUgfe1BKTzAwjw2BTgQOgZkJAgcAUN5hVMxUNKWhtJDnlELT1KJ9abwk2u1KoggAzIgEZljVk9m8HoZBs2myYRhEpOul6wWJQggFLe0GMVTuY1Y8QqwDunvKJoYxNGGiomk6m3I8TJJFZDEMs/X67PysaztxU1Xt1uwZcgIMHCO5U0XFdUHnyOTmiMgc3I2IS9PTLEyQyM3ZteyagLs+QsSxOz8lKUgNYi7gxIIRjzEaExISUQRkpFnVFB6USsKI5i0JcyyeV6E6EDnhiDRn5sl0Qs6gWAQwpZRz7vu+wF0li6giQuDg4FVVxchJBwDHEIKWHlEIgYvCCiHEGKfT6cHBwf3794vDNQxD6lvJg4oiRuYRfEKI5ZUWv65gEa1kHnzMyRdjgQLuDkTlKkAs8x9LeMwAoGYjbBWgiBiqAqIhpqK8mWHXPhVyzsReQr3ChACEsN8TYcQajXrKuZhFDlxVUVTn87mYmmrf99p1qppyAodhSKEJThZjrIgikaqKJlMBxIhUmiXrut5D+o+Pj93dAR0w50yGriAiKtnMpTTkABQYpJlJzgWIaWpJWskp52zMXrqATAGJiAJbaSMsPp6bgXuxSLrri2IFdDfz7Ao4Np8WIQ3uoIJaNDgAETEDkhGWBhvek9/UkNHIiNhNkYENATAAAcRqGhY+F8nbbT/0OaXUtwO6C0mPfeGaqqpCmNR1TRHVZQ+C2/d8IWJgMneuYincsgXykPtBDUWECM0csjF4iFxhADd3V60AQFUHhZQlpeSQVUVVKwFyEJXs5giqSpYsBHfvkdUc3EEUANANLb8ETBWkPb7ajaZqDkD0coPY/W4N1xjq5QYNO+jkuKlDjE1dTUwxS+7bLg9DzjnnXB7WdV1gFhGKCOxVrEbbahbGPvsxHkbC4DgCKglp0uA1+yIqbp5zJnVG9jFgNCLiOtYGogKQi9xzke6co41DtCmVNUDLIm4W4lhGV6UY4w4JbGoWYhXHzQPdRXXssd5VfhHQi7lEYgrmCvASb1980tIEi0QFZRACQQhVHSdN7aJl9mkYuq5ru25IyVNCBkALIRZFWzqUq6pCBGQAR0mKDgGICAUNEMxdRMoeCFWMZl7F6GKFcMV7cHd1CgCVB1W0wJFDwYZHEVQDMzXvFUIWM2NPIUjpozATMzdjVR11mntNFNwzh11/PYGquaNpLLtdmnvpkWJmZEZAwNKKgUUvBoqex52IgF1Vmcl9BCYJGBHVMUwans3rJIdtl4ah79vORMxc1UKglMWCD9tUMnNVVTEHR8zuCASgktPeMJW3Qg5gYIGRCd3ZPZTNYxQQQEQcJipiwVTV3Grifd9gNC2AO7eFmauq2pDSoKJmzGYiGT27jyI2Clf5H0JAZJWXe+bshcjMHRRRizTBWO0EYnIvylJ30jsexBhLwY8AkYgjV/Uk5ykcuYmoatd2Xd/lnCVn3HUK9n1feIqImEOMuLezO+YHKPQyd0Uzq6qq9J5EJgKMMaiqFHAAYklClBWpamQU1RCj69jBbx6aphIxyVBstGpf4Pdhv3eJ78DABeeKSOUkc4HzuZsjgRuIKwKWJhlwKIqTkEpLcUFJlg49LN2hJe1CYOaIWNcVmHPTqEpdV3OZiUjf9yklURFRN1fxARMzhRBSAnPdBcxYeuoQnIjdDInqqgJwQggcTFTdqMhtjKqKAHVdFz6yorncYnQEUi4gIEWqzYq9ghJ7q9VmamYv28J9h8gf9zpAIAZVQURw9YJlhkAQJQsgopOZYTBFCSEgIozteRCYAMCAnAjdqTQkeBFVcHdCRzAGJ+YGAwDkXJccwNB5GmxIKaVWJPX9LqxHDCGXBxFZM6kNjLgqgUjF4CrgauBclS5XMHdHIgMoSwuRwJu6InMEENVBwAFVRW0o+7hyhebF4FQFRR1CjD5urUZluyczkyyI6OBEVeEmLx1CimgU47gbFXMAVxi3QRlNXrmVl14aBNg1oYYQHEuLJKI7OaScHbz4fsyhZFR0Bqquqinl4j0WJDSMfb1lMrbdtkRURVT1GKOKEAARV4ENxnY2RBARZnYzRFICCuzmpEZIMQIpGoCbZaHi5YjoaMqNzBzAw6OvPy8+GwCYKo779Kp5wT7DdUtPwC6juoJxrxAHUCLynYIoGSVTVzcKXCBCDOjgYuZjkhARQEV2bf7j5itx3GbHAEHyuENQyYi32+1IJgBEY0YkilyXXYYqAgCrYqUIHEPpdioLQXMVYWaMAUtrvjkCIqGU/l4E1eQv97N1Uy/pA5HfbRf734/fj9+P34/fj9+P34/fj38C4/8Fh5CLGM8IUEAAAAAASUVORK5CYII=\" alt=\"Img\" /></td>\n",
              "                        <td id=\"T_1a774ab4_fd89_11eb_bb69_0242ac1c0002row4_col1\" class=\"data row4 col1\" >9 (truck)</td>\n",
              "            </tr>\n",
              "    </tbody></table>"
            ],
            "text/plain": [
              "                                               image  label\n",
              "0  [[[136, 144, 153], [125, 127, 136], [125, 126,...      1\n",
              "1  [[[70, 132, 186], [81, 139, 189], [143, 176, 2...      0\n",
              "2  [[[0, 0, 0], [0, 0, 0], [0, 0, 0], [0, 0, 0], ...      8\n",
              "3  [[[104, 90, 69], [101, 87, 66], [103, 88, 67],...      3\n",
              "4  [[[189, 204, 235], [189, 204, 235], [189, 204,...      9"
            ]
          },
          "metadata": {
            "tags": []
          },
          "execution_count": 4
        }
      ]
    },
    {
      "cell_type": "markdown",
      "metadata": {
        "id": "DkCWS2VEgqmU"
      },
      "source": [
        "**SHUFFLING AND BATCHING THE DATA**"
      ]
    },
    {
      "cell_type": "code",
      "metadata": {
        "id": "5wi8wxt2pAI0"
      },
      "source": [
        "unlabelled_dataset_size = 100000\n",
        "labelled_dataset_size = 5000\n",
        "image_size = 96\n",
        "image_channels = 3\n",
        "\n",
        "num_epochs = 20\n",
        "batch_size = 525  # Corresponds to 200 steps per epoch\n",
        "width = 128\n",
        "temperature = 0.1\n",
        "\n",
        "steps_per_epoch = (unlabelled_dataset_size + labelled_dataset_size) // batch_size\n",
        "unlabelled_batch_size = unlabelled_dataset_size // steps_per_epoch\n",
        "labelled_batch_size = labelled_dataset_size // steps_per_epoch\n",
        "\n",
        "labelled_train = (\n",
        "        tfds.load(\"stl10\", split=\"train\", as_supervised=True, shuffle_files=True)\n",
        "        .shuffle(buffer_size=10 * labelled_batch_size)\n",
        "        .batch(labelled_batch_size)\n",
        "    )"
      ],
      "execution_count": null,
      "outputs": []
    },
    {
      "cell_type": "code",
      "metadata": {
        "colab": {
          "base_uri": "https://localhost:8080/"
        },
        "id": "Y_c8UKFsskPx",
        "outputId": "162932a6-eacd-4d58-e133-6af056eef2a8"
      },
      "source": [
        "print(labelled_train)"
      ],
      "execution_count": null,
      "outputs": [
        {
          "output_type": "stream",
          "text": [
            "<BatchDataset shapes: ((None, 96, 96, 3), (None,)), types: (tf.uint8, tf.int64)>\n"
          ],
          "name": "stdout"
        }
      ]
    },
    {
      "cell_type": "code",
      "metadata": {
        "id": "YfN-gIAit1g_"
      },
      "source": [
        "from tensorflow import keras\n",
        "from tensorflow.keras import layers"
      ],
      "execution_count": null,
      "outputs": []
    },
    {
      "cell_type": "markdown",
      "metadata": {
        "id": "qfqNaj_Tg6cQ"
      },
      "source": [
        "**SIMPLE SUPERVISED CNN**"
      ]
    },
    {
      "cell_type": "code",
      "metadata": {
        "id": "X-1qoSCaACZD"
      },
      "source": [
        "simple_model = keras.Sequential([\n",
        "    layers.experimental.preprocessing.Rescaling(1/255, input_shape = (96, 96, 3)),                                 \n",
        "\n",
        "    layers.Conv2D(filters=32, kernel_size=(3,3), activation='relu'),\n",
        "    layers.MaxPooling2D((2, 2)),\n",
        "    layers.Conv2D(filters=32, kernel_size=(3,3), activation='relu'),\n",
        "    layers.MaxPooling2D((2, 2)),\n",
        "    layers.Conv2D(filters=32, kernel_size=(3,3), activation='relu'),\n",
        "    layers.MaxPooling2D((2, 2)),\n",
        "\n",
        "    layers.Flatten(),\n",
        "    layers.Dense(64, activation='relu'),\n",
        "    layers.Dense(10, activation='softmax')\n",
        "])"
      ],
      "execution_count": null,
      "outputs": []
    },
    {
      "cell_type": "code",
      "metadata": {
        "colab": {
          "base_uri": "https://localhost:8080/"
        },
        "id": "v6RVn82hCiK5",
        "outputId": "d7130262-b2d9-4fb1-dfe3-5b50b8fa4986"
      },
      "source": [
        "simple_model.summary()"
      ],
      "execution_count": null,
      "outputs": [
        {
          "output_type": "stream",
          "text": [
            "Model: \"sequential\"\n",
            "_________________________________________________________________\n",
            "Layer (type)                 Output Shape              Param #   \n",
            "=================================================================\n",
            "rescaling (Rescaling)        (None, 96, 96, 3)         0         \n",
            "_________________________________________________________________\n",
            "conv2d (Conv2D)              (None, 94, 94, 32)        896       \n",
            "_________________________________________________________________\n",
            "max_pooling2d (MaxPooling2D) (None, 47, 47, 32)        0         \n",
            "_________________________________________________________________\n",
            "conv2d_1 (Conv2D)            (None, 45, 45, 32)        9248      \n",
            "_________________________________________________________________\n",
            "max_pooling2d_1 (MaxPooling2 (None, 22, 22, 32)        0         \n",
            "_________________________________________________________________\n",
            "conv2d_2 (Conv2D)            (None, 20, 20, 32)        9248      \n",
            "_________________________________________________________________\n",
            "max_pooling2d_2 (MaxPooling2 (None, 10, 10, 32)        0         \n",
            "_________________________________________________________________\n",
            "flatten (Flatten)            (None, 3200)              0         \n",
            "_________________________________________________________________\n",
            "dense (Dense)                (None, 64)                204864    \n",
            "_________________________________________________________________\n",
            "dense_1 (Dense)              (None, 10)                650       \n",
            "=================================================================\n",
            "Total params: 224,906\n",
            "Trainable params: 224,906\n",
            "Non-trainable params: 0\n",
            "_________________________________________________________________\n"
          ],
          "name": "stdout"
        }
      ]
    },
    {
      "cell_type": "code",
      "metadata": {
        "id": "jRuXqIKyC2tA"
      },
      "source": [
        "simple_model.compile(\n",
        "    optimizer=keras.optimizers.Adam(),\n",
        "    loss=keras.losses.SparseCategoricalCrossentropy(),\n",
        "    metrics=[keras.metrics.SparseCategoricalAccuracy(name=\"acc\")]\n",
        ")"
      ],
      "execution_count": null,
      "outputs": []
    },
    {
      "cell_type": "code",
      "metadata": {
        "id": "VDhXonH6DJSp"
      },
      "source": [
        "train = labelled_train.take(160)\n",
        "val = labelled_train.skip(160)"
      ],
      "execution_count": null,
      "outputs": []
    },
    {
      "cell_type": "code",
      "metadata": {
        "colab": {
          "base_uri": "https://localhost:8080/"
        },
        "id": "FwHm6PvG1V7_",
        "outputId": "80a9e62a-cdca-4fc2-f995-6def729b5899"
      },
      "source": [
        "y_train = np.concatenate([y for x, y in train], axis=0)\n",
        "x_train = np.concatenate([x for x, y in train], axis=0)\n",
        "x_train.shape"
      ],
      "execution_count": null,
      "outputs": [
        {
          "output_type": "execute_result",
          "data": {
            "text/plain": [
              "(4000, 96, 96, 3)"
            ]
          },
          "metadata": {
            "tags": []
          },
          "execution_count": 12
        }
      ]
    },
    {
      "cell_type": "code",
      "metadata": {
        "colab": {
          "base_uri": "https://localhost:8080/"
        },
        "id": "bK76Qk6N1ePA",
        "outputId": "acb8e4e6-b80e-414e-9b82-59d262669274"
      },
      "source": [
        "y_train.shape"
      ],
      "execution_count": null,
      "outputs": [
        {
          "output_type": "execute_result",
          "data": {
            "text/plain": [
              "(4000,)"
            ]
          },
          "metadata": {
            "tags": []
          },
          "execution_count": 13
        }
      ]
    },
    {
      "cell_type": "code",
      "metadata": {
        "colab": {
          "base_uri": "https://localhost:8080/"
        },
        "id": "OB42XZIO2IQk",
        "outputId": "b79993eb-c6c7-4117-fa0e-7460d8a15898"
      },
      "source": [
        "x_val = np.concatenate([x for x, y in val], axis=0)\n",
        "y_val = np.concatenate([y for x, y in val], axis=0)\n",
        "x_val.shape"
      ],
      "execution_count": null,
      "outputs": [
        {
          "output_type": "execute_result",
          "data": {
            "text/plain": [
              "(1000, 96, 96, 3)"
            ]
          },
          "metadata": {
            "tags": []
          },
          "execution_count": 14
        }
      ]
    },
    {
      "cell_type": "code",
      "metadata": {
        "colab": {
          "base_uri": "https://localhost:8080/"
        },
        "id": "d2m6jStM72kr",
        "outputId": "4e055e4d-e7ac-41fb-dc06-18ebaf6e4032"
      },
      "source": [
        "y_val.shape"
      ],
      "execution_count": null,
      "outputs": [
        {
          "output_type": "execute_result",
          "data": {
            "text/plain": [
              "(1000,)"
            ]
          },
          "metadata": {
            "tags": []
          },
          "execution_count": 15
        }
      ]
    },
    {
      "cell_type": "code",
      "metadata": {
        "colab": {
          "base_uri": "https://localhost:8080/"
        },
        "id": "8QFRED1LGr78",
        "outputId": "5f64ade3-22a0-4d13-ef8e-da8497ba30d3"
      },
      "source": [
        "simple_model.fit(\n",
        "    train, epochs=10, validation_data=val, verbose=1\n",
        ")"
      ],
      "execution_count": null,
      "outputs": [
        {
          "output_type": "stream",
          "text": [
            "Epoch 1/10\n",
            "160/160 [==============================] - 62s 378ms/step - loss: 1.8463 - acc: 0.3100 - val_loss: 1.6100 - val_acc: 0.4110\n",
            "Epoch 2/10\n",
            "160/160 [==============================] - 56s 349ms/step - loss: 1.4939 - acc: 0.4580 - val_loss: 1.5037 - val_acc: 0.4360\n",
            "Epoch 3/10\n",
            "160/160 [==============================] - 54s 336ms/step - loss: 1.3291 - acc: 0.5210 - val_loss: 1.4208 - val_acc: 0.4880\n",
            "Epoch 4/10\n",
            "160/160 [==============================] - 54s 334ms/step - loss: 1.1854 - acc: 0.5638 - val_loss: 1.2864 - val_acc: 0.5100\n",
            "Epoch 5/10\n",
            "160/160 [==============================] - 54s 336ms/step - loss: 1.0541 - acc: 0.6195 - val_loss: 1.3235 - val_acc: 0.5120\n",
            "Epoch 6/10\n",
            "160/160 [==============================] - 54s 338ms/step - loss: 0.9216 - acc: 0.6715 - val_loss: 1.3216 - val_acc: 0.5330\n",
            "Epoch 7/10\n",
            "160/160 [==============================] - 54s 338ms/step - loss: 0.7601 - acc: 0.7283 - val_loss: 1.2932 - val_acc: 0.5660\n",
            "Epoch 8/10\n",
            "160/160 [==============================] - 54s 338ms/step - loss: 0.6147 - acc: 0.7865 - val_loss: 1.3812 - val_acc: 0.5610\n",
            "Epoch 9/10\n",
            "160/160 [==============================] - 54s 337ms/step - loss: 0.4919 - acc: 0.8280 - val_loss: 1.4943 - val_acc: 0.5540\n",
            "Epoch 10/10\n",
            "160/160 [==============================] - 54s 339ms/step - loss: 0.3515 - acc: 0.8863 - val_loss: 1.6609 - val_acc: 0.5480\n"
          ],
          "name": "stdout"
        },
        {
          "output_type": "execute_result",
          "data": {
            "text/plain": [
              "<tensorflow.python.keras.callbacks.History at 0x7faacb2ae6d0>"
            ]
          },
          "metadata": {
            "tags": []
          },
          "execution_count": 16
        }
      ]
    },
    {
      "cell_type": "markdown",
      "metadata": {
        "id": "UcnYFUk4enT-"
      },
      "source": [
        "**EVALUATING MODEL ON TEST SET**"
      ]
    },
    {
      "cell_type": "code",
      "metadata": {
        "id": "sBVnfL5_IncZ"
      },
      "source": [
        "test = (\n",
        "        tfds.load(\"stl10\", split=\"test\", as_supervised=True)\n",
        "        .batch(batch_size)\n",
        "        .prefetch(buffer_size=tf.data.AUTOTUNE)\n",
        "    )"
      ],
      "execution_count": null,
      "outputs": []
    },
    {
      "cell_type": "code",
      "metadata": {
        "id": "9OAahZPV17GF"
      },
      "source": [
        "y_test = np.concatenate([y for x, y in test], axis=0)\n",
        "x_test = np.concatenate([x for x, y in test], axis=0)"
      ],
      "execution_count": null,
      "outputs": []
    },
    {
      "cell_type": "code",
      "metadata": {
        "colab": {
          "base_uri": "https://localhost:8080/"
        },
        "id": "JGHgvZVK17o6",
        "outputId": "8ba0d16d-99c4-40bc-b505-59f6ef520cde"
      },
      "source": [
        "x_test.shape"
      ],
      "execution_count": null,
      "outputs": [
        {
          "output_type": "execute_result",
          "data": {
            "text/plain": [
              "(8000, 96, 96, 3)"
            ]
          },
          "metadata": {
            "tags": []
          },
          "execution_count": 19
        }
      ]
    },
    {
      "cell_type": "code",
      "metadata": {
        "colab": {
          "base_uri": "https://localhost:8080/"
        },
        "id": "G0Pgh36R169P",
        "outputId": "0ebf05c9-ab09-4601-e25b-24e349394c78"
      },
      "source": [
        "y_test.shape"
      ],
      "execution_count": null,
      "outputs": [
        {
          "output_type": "execute_result",
          "data": {
            "text/plain": [
              "(8000,)"
            ]
          },
          "metadata": {
            "tags": []
          },
          "execution_count": 20
        }
      ]
    },
    {
      "cell_type": "markdown",
      "metadata": {
        "id": "-yfMVdYQZuCk"
      },
      "source": [
        "Accuracy hovers around 52-53%"
      ]
    },
    {
      "cell_type": "code",
      "metadata": {
        "colab": {
          "base_uri": "https://localhost:8080/"
        },
        "id": "-kpABtcEICAN",
        "outputId": "9a0b5983-e189-4e7d-a96b-d189f8d37a0c"
      },
      "source": [
        "\n",
        "simple_model.evaluate(test)"
      ],
      "execution_count": null,
      "outputs": [
        {
          "output_type": "stream",
          "text": [
            "16/16 [==============================] - 25s 1s/step - loss: 1.8905 - acc: 0.5242\n"
          ],
          "name": "stdout"
        },
        {
          "output_type": "execute_result",
          "data": {
            "text/plain": [
              "[1.8904958963394165, 0.5242499709129333]"
            ]
          },
          "metadata": {
            "tags": []
          },
          "execution_count": 21
        }
      ]
    },
    {
      "cell_type": "markdown",
      "metadata": {
        "id": "bj3vH59Medqk"
      },
      "source": [
        "**TRYING RESNET**"
      ]
    },
    {
      "cell_type": "code",
      "metadata": {
        "id": "2dIYk_oEb0tE"
      },
      "source": [
        "from keras.applications.resnet50 import ResNet50"
      ],
      "execution_count": null,
      "outputs": []
    },
    {
      "cell_type": "code",
      "metadata": {
        "id": "58VnTEOxgOkM"
      },
      "source": [
        "IMAGE_SIZE = 100\n",
        "def pre_process_image(image, label):\n",
        "  image = tf.cast(image, tf.float32)\n",
        "  image = image / 255.0\n",
        "  image = tf.image.resize(image, (IMAGE_SIZE, IMAGE_SIZE))\n",
        "  return image, label"
      ],
      "execution_count": null,
      "outputs": []
    },
    {
      "cell_type": "code",
      "metadata": {
        "id": "U2eDIdxzgWiL"
      },
      "source": [
        "restrain = tfds.load('stl10', split='train', as_supervised=True)\n",
        "resval = restrain.skip(4000)\n",
        "restrain = restrain.take(4000)\n",
        "restrain = restrain.map(pre_process_image).shuffle(1000).repeat().batch(64)\n",
        "resval = resval.map(pre_process_image).repeat().batch(1000)"
      ],
      "execution_count": null,
      "outputs": []
    },
    {
      "cell_type": "code",
      "metadata": {
        "id": "JA2-7mzggyM-",
        "colab": {
          "base_uri": "https://localhost:8080/"
        },
        "outputId": "8364e25c-3a35-4af3-aef5-b1222776fa3b"
      },
      "source": [
        "res_net = ResNet50(weights = 'imagenet', include_top = False, input_shape = (100, 100, 3))"
      ],
      "execution_count": null,
      "outputs": [
        {
          "output_type": "stream",
          "text": [
            "Downloading data from https://storage.googleapis.com/tensorflow/keras-applications/resnet/resnet50_weights_tf_dim_ordering_tf_kernels_notop.h5\n",
            "94773248/94765736 [==============================] - 1s 0us/step\n"
          ],
          "name": "stdout"
        }
      ]
    },
    {
      "cell_type": "code",
      "metadata": {
        "id": "clCnXq0Hg-xA"
      },
      "source": [
        "res_net.trainable = False\n",
        "global_average_layer = layers.GlobalAveragePooling2D()\n",
        "output_layer = layers.Dense(10, activation='softmax')\n",
        "res_model = tf.keras.Sequential([\n",
        "  res_net,\n",
        "  global_average_layer,\n",
        "  output_layer\n",
        "])"
      ],
      "execution_count": null,
      "outputs": []
    },
    {
      "cell_type": "code",
      "metadata": {
        "id": "MMFgpiH_hMVs"
      },
      "source": [
        "res_model.compile(\n",
        "      optimizer=keras.optimizers.Adam(),\n",
        "      loss=keras.losses.SparseCategoricalCrossentropy(),\n",
        "      metrics=[keras.metrics.SparseCategoricalAccuracy(name=\"acc\")]\n",
        ")"
      ],
      "execution_count": null,
      "outputs": []
    },
    {
      "cell_type": "code",
      "metadata": {
        "colab": {
          "base_uri": "https://localhost:8080/"
        },
        "id": "zqVFrSJKhjxW",
        "outputId": "381f11a9-0f1b-440b-c45a-fa330e8e48f2"
      },
      "source": [
        "res_model.fit(restrain, validation_data = resval, verbose = 1, steps_per_epoch = 23262//64, epochs = 7, validation_steps = 10)"
      ],
      "execution_count": null,
      "outputs": [
        {
          "output_type": "stream",
          "text": [
            "Epoch 1/7\n",
            "363/363 [==============================] - 1294s 4s/step - loss: 2.0913 - acc: 0.2271 - val_loss: 1.9573 - val_acc: 0.2930\n",
            "Epoch 2/7\n",
            "363/363 [==============================] - 1307s 4s/step - loss: 1.9107 - acc: 0.3051 - val_loss: 1.8761 - val_acc: 0.3190\n",
            "Epoch 3/7\n",
            "363/363 [==============================] - 1327s 4s/step - loss: 1.8280 - acc: 0.3492 - val_loss: 1.8141 - val_acc: 0.3200\n",
            "Epoch 4/7\n",
            "363/363 [==============================] - 1324s 4s/step - loss: 1.7743 - acc: 0.3698 - val_loss: 1.7741 - val_acc: 0.3790\n",
            "Epoch 5/7\n",
            "363/363 [==============================] - 1315s 4s/step - loss: 1.7367 - acc: 0.3787 - val_loss: 1.8005 - val_acc: 0.3280\n",
            "Epoch 6/7\n",
            "363/363 [==============================] - 1318s 4s/step - loss: 1.6970 - acc: 0.3968 - val_loss: 1.7119 - val_acc: 0.3800\n",
            "Epoch 7/7\n",
            "363/363 [==============================] - 1330s 4s/step - loss: 1.6762 - acc: 0.4036 - val_loss: 1.7197 - val_acc: 0.3710\n"
          ],
          "name": "stdout"
        },
        {
          "output_type": "execute_result",
          "data": {
            "text/plain": [
              "<tensorflow.python.keras.callbacks.History at 0x7faac990ec50>"
            ]
          },
          "metadata": {
            "tags": []
          },
          "execution_count": 28
        }
      ]
    },
    {
      "cell_type": "code",
      "metadata": {
        "id": "X83gtbgLi24u",
        "colab": {
          "base_uri": "https://localhost:8080/"
        },
        "outputId": "2e199d73-bd69-4f97-e4b9-4e59ce2bf070"
      },
      "source": [
        "restest = test.map(pre_process_image)\n",
        "res_model.evaluate(restest)"
      ],
      "execution_count": null,
      "outputs": [
        {
          "output_type": "stream",
          "text": [
            "16/16 [==============================] - 307s 19s/step - loss: 1.7031 - acc: 0.3798\n"
          ],
          "name": "stdout"
        },
        {
          "output_type": "execute_result",
          "data": {
            "text/plain": [
              "[1.7031431198120117, 0.37975001335144043]"
            ]
          },
          "metadata": {
            "tags": []
          },
          "execution_count": 31
        }
      ]
    },
    {
      "cell_type": "markdown",
      "metadata": {
        "id": "XNKhe6Q1g_QA"
      },
      "source": [
        "**IMPLEMENTING PSEUDO LABELLING**"
      ]
    },
    {
      "cell_type": "code",
      "metadata": {
        "id": "ZYLV-Q94Crv2"
      },
      "source": [
        " x_pseudo, y_pseudo = simple_model.predict()"
      ],
      "execution_count": null,
      "outputs": []
    },
    {
      "cell_type": "markdown",
      "metadata": {
        "id": "13Q51VKO2euh"
      },
      "source": [
        "**SIMCLR**"
      ]
    },
    {
      "cell_type": "code",
      "metadata": {
        "id": "sXEpVRr-2hjI"
      },
      "source": [
        ""
      ],
      "execution_count": null,
      "outputs": []
    }
  ]
}